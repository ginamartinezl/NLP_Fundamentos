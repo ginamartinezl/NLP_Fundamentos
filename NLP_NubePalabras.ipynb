{
 "cells": [
  {
   "attachments": {},
   "cell_type": "markdown",
   "id": "356ad151",
   "metadata": {},
   "source": [
    "## Introducción al Procesamiento de Lenguaje Natural\n",
    "\n",
    "\n",
    "- Fundamentos de PLN.\n",
    "\n",
    "- Preprocesamiento de texto."
   ]
  },
  {
   "attachments": {},
   "cell_type": "markdown",
   "id": "22be31a2",
   "metadata": {},
   "source": [
    "# Punto 1"
   ]
  },
  {
   "attachments": {},
   "cell_type": "markdown",
   "id": "65201d0e",
   "metadata": {},
   "source": [
    "1. Importar y leer la base de tweets:  *tweets_politica.csv*"
   ]
  },
  {
   "cell_type": "code",
   "execution_count": 153,
   "id": "7d7b7558",
   "metadata": {},
   "outputs": [],
   "source": [
    "import pandas as pd"
   ]
  },
  {
   "cell_type": "code",
   "execution_count": 154,
   "id": "0c80121c",
   "metadata": {},
   "outputs": [
    {
     "name": "stderr",
     "output_type": "stream",
     "text": [
      "c:\\Users\\bizan\\AppData\\Local\\Programs\\Python\\Python39\\lib\\site-packages\\pandas\\util\\_decorators.py:311: ParserWarning:\n",
      "\n",
      "Falling back to the 'python' engine because the 'c' engine does not support regex separators (separators > 1 char and different from '\\s+' are interpreted as regex); you can avoid this warning by specifying engine='python'.\n",
      "\n"
     ]
    }
   ],
   "source": [
    "data= pd.read_csv(\"tweets_politica.csv\", sep='::::')"
   ]
  },
  {
   "cell_type": "code",
   "execution_count": 155,
   "id": "2e912faf",
   "metadata": {},
   "outputs": [
    {
     "data": {
      "text/html": [
       "<div>\n",
       "<style scoped>\n",
       "    .dataframe tbody tr th:only-of-type {\n",
       "        vertical-align: middle;\n",
       "    }\n",
       "\n",
       "    .dataframe tbody tr th {\n",
       "        vertical-align: top;\n",
       "    }\n",
       "\n",
       "    .dataframe thead th {\n",
       "        text-align: right;\n",
       "    }\n",
       "</style>\n",
       "<table border=\"1\" class=\"dataframe\">\n",
       "  <thead>\n",
       "    <tr style=\"text-align: right;\">\n",
       "      <th></th>\n",
       "      <th>cuenta</th>\n",
       "      <th>partido</th>\n",
       "      <th>timestamp</th>\n",
       "      <th>tweet</th>\n",
       "    </tr>\n",
       "  </thead>\n",
       "  <tbody>\n",
       "    <tr>\n",
       "      <th>0</th>\n",
       "      <td>populares</td>\n",
       "      <td>pp</td>\n",
       "      <td>1.556863e+09</td>\n",
       "      <td>El Partido Popular siempre con la libertad. Ta...</td>\n",
       "    </tr>\n",
       "    <tr>\n",
       "      <th>1</th>\n",
       "      <td>populares</td>\n",
       "      <td>pp</td>\n",
       "      <td>1.556856e+09</td>\n",
       "      <td>🌞 ¡Buenos días y #FelizViernes!Esta es nuestra...</td>\n",
       "    </tr>\n",
       "    <tr>\n",
       "      <th>2</th>\n",
       "      <td>populares</td>\n",
       "      <td>pp</td>\n",
       "      <td>1.556819e+09</td>\n",
       "      <td>📻 @IdiazAyuso: “Con @populares hemos convertid...</td>\n",
       "    </tr>\n",
       "    <tr>\n",
       "      <th>3</th>\n",
       "      <td>populares</td>\n",
       "      <td>pp</td>\n",
       "      <td>1.556813e+09</td>\n",
       "      <td>📻 @IdiazAyuso es entrevistada en @encasadeherr...</td>\n",
       "    </tr>\n",
       "    <tr>\n",
       "      <th>4</th>\n",
       "      <td>populares</td>\n",
       "      <td>pp</td>\n",
       "      <td>1.556804e+09</td>\n",
       "      <td>👉 Como prometimos, @populares acaba con el enc...</td>\n",
       "    </tr>\n",
       "    <tr>\n",
       "      <th>...</th>\n",
       "      <td>...</td>\n",
       "      <td>...</td>\n",
       "      <td>...</td>\n",
       "      <td>...</td>\n",
       "    </tr>\n",
       "    <tr>\n",
       "      <th>175337</th>\n",
       "      <td>Borja_AlvaCs</td>\n",
       "      <td>ciudadanos</td>\n",
       "      <td>1.648710e+09</td>\n",
       "      <td>El trabajo serio y valiente que está realizand...</td>\n",
       "    </tr>\n",
       "    <tr>\n",
       "      <th>175338</th>\n",
       "      <td>Borja_AlvaCs</td>\n",
       "      <td>ciudadanos</td>\n",
       "      <td>1.648700e+09</td>\n",
       "      <td>Luz de luna, Cita a ciegas, La jungla y mucho ...</td>\n",
       "    </tr>\n",
       "    <tr>\n",
       "      <th>175339</th>\n",
       "      <td>DanielPerezCs</td>\n",
       "      <td>ciudadanos</td>\n",
       "      <td>1.648699e+09</td>\n",
       "      <td>@InCicloVeritas @Fundeu Cervantes en este caso...</td>\n",
       "    </tr>\n",
       "    <tr>\n",
       "      <th>175340</th>\n",
       "      <td>DanielPerezCs</td>\n",
       "      <td>ciudadanos</td>\n",
       "      <td>1.648657e+09</td>\n",
       "      <td>@InCicloVeritas No es la app; es la @Fundeu. P...</td>\n",
       "    </tr>\n",
       "    <tr>\n",
       "      <th>175341</th>\n",
       "      <td>DanielPerezCs</td>\n",
       "      <td>ciudadanos</td>\n",
       "      <td>1.648652e+09</td>\n",
       "      <td>\"España ha cumplido; cumpla usted con España\"....</td>\n",
       "    </tr>\n",
       "  </tbody>\n",
       "</table>\n",
       "<p>175342 rows × 4 columns</p>\n",
       "</div>"
      ],
      "text/plain": [
       "               cuenta     partido     timestamp  \\\n",
       "0           populares          pp  1.556863e+09   \n",
       "1           populares          pp  1.556856e+09   \n",
       "2           populares          pp  1.556819e+09   \n",
       "3           populares          pp  1.556813e+09   \n",
       "4           populares          pp  1.556804e+09   \n",
       "...               ...         ...           ...   \n",
       "175337   Borja_AlvaCs  ciudadanos  1.648710e+09   \n",
       "175338   Borja_AlvaCs  ciudadanos  1.648700e+09   \n",
       "175339  DanielPerezCs  ciudadanos  1.648699e+09   \n",
       "175340  DanielPerezCs  ciudadanos  1.648657e+09   \n",
       "175341  DanielPerezCs  ciudadanos  1.648652e+09   \n",
       "\n",
       "                                                    tweet  \n",
       "0       El Partido Popular siempre con la libertad. Ta...  \n",
       "1       🌞 ¡Buenos días y #FelizViernes!Esta es nuestra...  \n",
       "2       📻 @IdiazAyuso: “Con @populares hemos convertid...  \n",
       "3       📻 @IdiazAyuso es entrevistada en @encasadeherr...  \n",
       "4       👉 Como prometimos, @populares acaba con el enc...  \n",
       "...                                                   ...  \n",
       "175337  El trabajo serio y valiente que está realizand...  \n",
       "175338  Luz de luna, Cita a ciegas, La jungla y mucho ...  \n",
       "175339  @InCicloVeritas @Fundeu Cervantes en este caso...  \n",
       "175340  @InCicloVeritas No es la app; es la @Fundeu. P...  \n",
       "175341  \"España ha cumplido; cumpla usted con España\"....  \n",
       "\n",
       "[175342 rows x 4 columns]"
      ]
     },
     "execution_count": 155,
     "metadata": {},
     "output_type": "execute_result"
    }
   ],
   "source": [
    "data"
   ]
  },
  {
   "cell_type": "code",
   "execution_count": 156,
   "id": "cd5b90c6",
   "metadata": {},
   "outputs": [
    {
     "data": {
      "text/html": [
       "<div>\n",
       "<style scoped>\n",
       "    .dataframe tbody tr th:only-of-type {\n",
       "        vertical-align: middle;\n",
       "    }\n",
       "\n",
       "    .dataframe tbody tr th {\n",
       "        vertical-align: top;\n",
       "    }\n",
       "\n",
       "    .dataframe thead th {\n",
       "        text-align: right;\n",
       "    }\n",
       "</style>\n",
       "<table border=\"1\" class=\"dataframe\">\n",
       "  <thead>\n",
       "    <tr style=\"text-align: right;\">\n",
       "      <th></th>\n",
       "      <th>cuenta</th>\n",
       "      <th>partido</th>\n",
       "      <th>timestamp</th>\n",
       "      <th>tweet</th>\n",
       "    </tr>\n",
       "  </thead>\n",
       "  <tbody>\n",
       "    <tr>\n",
       "      <th>0</th>\n",
       "      <td>populares</td>\n",
       "      <td>pp</td>\n",
       "      <td>1.556863e+09</td>\n",
       "      <td>El Partido Popular siempre con la libertad. Ta...</td>\n",
       "    </tr>\n",
       "    <tr>\n",
       "      <th>1</th>\n",
       "      <td>populares</td>\n",
       "      <td>pp</td>\n",
       "      <td>1.556856e+09</td>\n",
       "      <td>🌞 ¡Buenos días y #FelizViernes!Esta es nuestra...</td>\n",
       "    </tr>\n",
       "    <tr>\n",
       "      <th>2</th>\n",
       "      <td>populares</td>\n",
       "      <td>pp</td>\n",
       "      <td>1.556819e+09</td>\n",
       "      <td>📻 @IdiazAyuso: “Con @populares hemos convertid...</td>\n",
       "    </tr>\n",
       "    <tr>\n",
       "      <th>3</th>\n",
       "      <td>populares</td>\n",
       "      <td>pp</td>\n",
       "      <td>1.556813e+09</td>\n",
       "      <td>📻 @IdiazAyuso es entrevistada en @encasadeherr...</td>\n",
       "    </tr>\n",
       "    <tr>\n",
       "      <th>4</th>\n",
       "      <td>populares</td>\n",
       "      <td>pp</td>\n",
       "      <td>1.556804e+09</td>\n",
       "      <td>👉 Como prometimos, @populares acaba con el enc...</td>\n",
       "    </tr>\n",
       "  </tbody>\n",
       "</table>\n",
       "</div>"
      ],
      "text/plain": [
       "      cuenta partido     timestamp  \\\n",
       "0  populares      pp  1.556863e+09   \n",
       "1  populares      pp  1.556856e+09   \n",
       "2  populares      pp  1.556819e+09   \n",
       "3  populares      pp  1.556813e+09   \n",
       "4  populares      pp  1.556804e+09   \n",
       "\n",
       "                                               tweet  \n",
       "0  El Partido Popular siempre con la libertad. Ta...  \n",
       "1  🌞 ¡Buenos días y #FelizViernes!Esta es nuestra...  \n",
       "2  📻 @IdiazAyuso: “Con @populares hemos convertid...  \n",
       "3  📻 @IdiazAyuso es entrevistada en @encasadeherr...  \n",
       "4  👉 Como prometimos, @populares acaba con el enc...  "
      ]
     },
     "execution_count": 156,
     "metadata": {},
     "output_type": "execute_result"
    }
   ],
   "source": [
    "data.head()"
   ]
  },
  {
   "attachments": {},
   "cell_type": "markdown",
   "id": "0c646d4c",
   "metadata": {},
   "source": [
    "2. Agregar al data.frame que se obtiene una columna que cuente las palabras de cada tweet.\n"
   ]
  },
  {
   "cell_type": "code",
   "execution_count": 157,
   "id": "8da9cfc2",
   "metadata": {},
   "outputs": [
    {
     "data": {
      "text/plain": [
       "0         El Partido Popular siempre con la libertad. Ta...\n",
       "1         🌞 ¡Buenos días y #FelizViernes!Esta es nuestra...\n",
       "2         📻 @IdiazAyuso: “Con @populares hemos convertid...\n",
       "3         📻 @IdiazAyuso es entrevistada en @encasadeherr...\n",
       "4         👉 Como prometimos, @populares acaba con el enc...\n",
       "                                ...                        \n",
       "175337    El trabajo serio y valiente que está realizand...\n",
       "175338    Luz de luna, Cita a ciegas, La jungla y mucho ...\n",
       "175339    @InCicloVeritas @Fundeu Cervantes en este caso...\n",
       "175340    @InCicloVeritas No es la app; es la @Fundeu. P...\n",
       "175341    \"España ha cumplido; cumpla usted con España\"....\n",
       "Name: tweet, Length: 175342, dtype: object"
      ]
     },
     "execution_count": 157,
     "metadata": {},
     "output_type": "execute_result"
    }
   ],
   "source": [
    "data.iloc[:,3]"
   ]
  },
  {
   "cell_type": "code",
   "execution_count": 158,
   "id": "40ff8f84",
   "metadata": {},
   "outputs": [],
   "source": [
    "data['conteo'] = data.tweet.apply(lambda x: len(str(x).split()))"
   ]
  },
  {
   "cell_type": "code",
   "execution_count": 159,
   "id": "080080bc",
   "metadata": {},
   "outputs": [
    {
     "data": {
      "text/html": [
       "<div>\n",
       "<style scoped>\n",
       "    .dataframe tbody tr th:only-of-type {\n",
       "        vertical-align: middle;\n",
       "    }\n",
       "\n",
       "    .dataframe tbody tr th {\n",
       "        vertical-align: top;\n",
       "    }\n",
       "\n",
       "    .dataframe thead th {\n",
       "        text-align: right;\n",
       "    }\n",
       "</style>\n",
       "<table border=\"1\" class=\"dataframe\">\n",
       "  <thead>\n",
       "    <tr style=\"text-align: right;\">\n",
       "      <th></th>\n",
       "      <th>cuenta</th>\n",
       "      <th>partido</th>\n",
       "      <th>timestamp</th>\n",
       "      <th>tweet</th>\n",
       "      <th>conteo</th>\n",
       "    </tr>\n",
       "  </thead>\n",
       "  <tbody>\n",
       "    <tr>\n",
       "      <th>0</th>\n",
       "      <td>populares</td>\n",
       "      <td>pp</td>\n",
       "      <td>1.556863e+09</td>\n",
       "      <td>El Partido Popular siempre con la libertad. Ta...</td>\n",
       "      <td>12</td>\n",
       "    </tr>\n",
       "    <tr>\n",
       "      <th>1</th>\n",
       "      <td>populares</td>\n",
       "      <td>pp</td>\n",
       "      <td>1.556856e+09</td>\n",
       "      <td>🌞 ¡Buenos días y #FelizViernes!Esta es nuestra...</td>\n",
       "      <td>15</td>\n",
       "    </tr>\n",
       "    <tr>\n",
       "      <th>2</th>\n",
       "      <td>populares</td>\n",
       "      <td>pp</td>\n",
       "      <td>1.556819e+09</td>\n",
       "      <td>📻 @IdiazAyuso: “Con @populares hemos convertid...</td>\n",
       "      <td>25</td>\n",
       "    </tr>\n",
       "    <tr>\n",
       "      <th>3</th>\n",
       "      <td>populares</td>\n",
       "      <td>pp</td>\n",
       "      <td>1.556813e+09</td>\n",
       "      <td>📻 @IdiazAyuso es entrevistada en @encasadeherr...</td>\n",
       "      <td>15</td>\n",
       "    </tr>\n",
       "    <tr>\n",
       "      <th>4</th>\n",
       "      <td>populares</td>\n",
       "      <td>pp</td>\n",
       "      <td>1.556804e+09</td>\n",
       "      <td>👉 Como prometimos, @populares acaba con el enc...</td>\n",
       "      <td>19</td>\n",
       "    </tr>\n",
       "    <tr>\n",
       "      <th>...</th>\n",
       "      <td>...</td>\n",
       "      <td>...</td>\n",
       "      <td>...</td>\n",
       "      <td>...</td>\n",
       "      <td>...</td>\n",
       "    </tr>\n",
       "    <tr>\n",
       "      <th>175337</th>\n",
       "      <td>Borja_AlvaCs</td>\n",
       "      <td>ciudadanos</td>\n",
       "      <td>1.648710e+09</td>\n",
       "      <td>El trabajo serio y valiente que está realizand...</td>\n",
       "      <td>42</td>\n",
       "    </tr>\n",
       "    <tr>\n",
       "      <th>175338</th>\n",
       "      <td>Borja_AlvaCs</td>\n",
       "      <td>ciudadanos</td>\n",
       "      <td>1.648700e+09</td>\n",
       "      <td>Luz de luna, Cita a ciegas, La jungla y mucho ...</td>\n",
       "      <td>26</td>\n",
       "    </tr>\n",
       "    <tr>\n",
       "      <th>175339</th>\n",
       "      <td>DanielPerezCs</td>\n",
       "      <td>ciudadanos</td>\n",
       "      <td>1.648699e+09</td>\n",
       "      <td>@InCicloVeritas @Fundeu Cervantes en este caso...</td>\n",
       "      <td>11</td>\n",
       "    </tr>\n",
       "    <tr>\n",
       "      <th>175340</th>\n",
       "      <td>DanielPerezCs</td>\n",
       "      <td>ciudadanos</td>\n",
       "      <td>1.648657e+09</td>\n",
       "      <td>@InCicloVeritas No es la app; es la @Fundeu. P...</td>\n",
       "      <td>20</td>\n",
       "    </tr>\n",
       "    <tr>\n",
       "      <th>175341</th>\n",
       "      <td>DanielPerezCs</td>\n",
       "      <td>ciudadanos</td>\n",
       "      <td>1.648652e+09</td>\n",
       "      <td>\"España ha cumplido; cumpla usted con España\"....</td>\n",
       "      <td>32</td>\n",
       "    </tr>\n",
       "  </tbody>\n",
       "</table>\n",
       "<p>175342 rows × 5 columns</p>\n",
       "</div>"
      ],
      "text/plain": [
       "               cuenta     partido     timestamp  \\\n",
       "0           populares          pp  1.556863e+09   \n",
       "1           populares          pp  1.556856e+09   \n",
       "2           populares          pp  1.556819e+09   \n",
       "3           populares          pp  1.556813e+09   \n",
       "4           populares          pp  1.556804e+09   \n",
       "...               ...         ...           ...   \n",
       "175337   Borja_AlvaCs  ciudadanos  1.648710e+09   \n",
       "175338   Borja_AlvaCs  ciudadanos  1.648700e+09   \n",
       "175339  DanielPerezCs  ciudadanos  1.648699e+09   \n",
       "175340  DanielPerezCs  ciudadanos  1.648657e+09   \n",
       "175341  DanielPerezCs  ciudadanos  1.648652e+09   \n",
       "\n",
       "                                                    tweet  conteo  \n",
       "0       El Partido Popular siempre con la libertad. Ta...      12  \n",
       "1       🌞 ¡Buenos días y #FelizViernes!Esta es nuestra...      15  \n",
       "2       📻 @IdiazAyuso: “Con @populares hemos convertid...      25  \n",
       "3       📻 @IdiazAyuso es entrevistada en @encasadeherr...      15  \n",
       "4       👉 Como prometimos, @populares acaba con el enc...      19  \n",
       "...                                                   ...     ...  \n",
       "175337  El trabajo serio y valiente que está realizand...      42  \n",
       "175338  Luz de luna, Cita a ciegas, La jungla y mucho ...      26  \n",
       "175339  @InCicloVeritas @Fundeu Cervantes en este caso...      11  \n",
       "175340  @InCicloVeritas No es la app; es la @Fundeu. P...      20  \n",
       "175341  \"España ha cumplido; cumpla usted con España\"....      32  \n",
       "\n",
       "[175342 rows x 5 columns]"
      ]
     },
     "execution_count": 159,
     "metadata": {},
     "output_type": "execute_result"
    }
   ],
   "source": [
    "data"
   ]
  },
  {
   "attachments": {},
   "cell_type": "markdown",
   "id": "d516f992",
   "metadata": {},
   "source": [
    "3. Tomar las primeras 500 filas de la variable \":tweet\" y dar respuesta a los siguientes items.\n",
    "    \n",
    "    \n",
    "     + Realice una tabla de frecuencia, un gráfico de barras y un gráfico de líneas del top 20 de las personas que más publican. Analizar los gráficos y responder: ¿cuáles son las 5 cuentas que más tweets  o son más populares en ese conjunto de los 500 datos?"
   ]
  },
  {
   "cell_type": "code",
   "execution_count": 160,
   "id": "7f543fdd",
   "metadata": {},
   "outputs": [
    {
     "name": "stdout",
     "output_type": "stream",
     "text": [
      "Requirement already satisfied: wordcloud in c:\\users\\bizan\\appdata\\local\\programs\\python\\python39\\lib\\site-packages (1.8.2.2)\n",
      "Requirement already satisfied: numpy>=1.6.1 in c:\\users\\bizan\\appdata\\local\\programs\\python\\python39\\lib\\site-packages (from wordcloud) (1.21.4)\n",
      "Requirement already satisfied: matplotlib in c:\\users\\bizan\\appdata\\local\\programs\\python\\python39\\lib\\site-packages (from wordcloud) (3.5.0)\n",
      "Requirement already satisfied: pillow in c:\\users\\bizan\\appdata\\local\\programs\\python\\python39\\lib\\site-packages (from wordcloud) (8.4.0)\n",
      "Requirement already satisfied: pyparsing>=2.2.1 in c:\\users\\bizan\\appdata\\local\\programs\\python\\python39\\lib\\site-packages (from matplotlib->wordcloud) (3.0.6)\n",
      "Requirement already satisfied: fonttools>=4.22.0 in c:\\users\\bizan\\appdata\\local\\programs\\python\\python39\\lib\\site-packages (from matplotlib->wordcloud) (4.28.3)\n",
      "Requirement already satisfied: setuptools-scm>=4 in c:\\users\\bizan\\appdata\\local\\programs\\python\\python39\\lib\\site-packages (from matplotlib->wordcloud) (6.3.2)\n",
      "Requirement already satisfied: kiwisolver>=1.0.1 in c:\\users\\bizan\\appdata\\local\\programs\\python\\python39\\lib\\site-packages (from matplotlib->wordcloud) (1.3.2)\n",
      "Requirement already satisfied: cycler>=0.10 in c:\\users\\bizan\\appdata\\local\\programs\\python\\python39\\lib\\site-packages (from matplotlib->wordcloud) (0.11.0)\n",
      "Requirement already satisfied: python-dateutil>=2.7 in c:\\users\\bizan\\appdata\\local\\programs\\python\\python39\\lib\\site-packages (from matplotlib->wordcloud) (2.8.2)\n",
      "Requirement already satisfied: packaging>=20.0 in c:\\users\\bizan\\appdata\\local\\programs\\python\\python39\\lib\\site-packages (from matplotlib->wordcloud) (21.3)\n",
      "Requirement already satisfied: six>=1.5 in c:\\users\\bizan\\appdata\\local\\programs\\python\\python39\\lib\\site-packages (from python-dateutil>=2.7->matplotlib->wordcloud) (1.16.0)\n",
      "Requirement already satisfied: tomli>=1.0.0 in c:\\users\\bizan\\appdata\\local\\programs\\python\\python39\\lib\\site-packages (from setuptools-scm>=4->matplotlib->wordcloud) (1.2.2)\n",
      "Requirement already satisfied: setuptools in c:\\users\\bizan\\appdata\\local\\programs\\python\\python39\\lib\\site-packages (from setuptools-scm>=4->matplotlib->wordcloud) (49.2.1)\n"
     ]
    },
    {
     "name": "stderr",
     "output_type": "stream",
     "text": [
      "WARNING: There was an error checking the latest version of pip.\n"
     ]
    },
    {
     "name": "stdout",
     "output_type": "stream",
     "text": [
      "Requirement already satisfied: stop-words in c:\\users\\bizan\\appdata\\local\\programs\\python\\python39\\lib\\site-packages (2018.7.23)\n"
     ]
    },
    {
     "name": "stderr",
     "output_type": "stream",
     "text": [
      "WARNING: There was an error checking the latest version of pip.\n"
     ]
    }
   ],
   "source": [
    "!pip install wordcloud\n",
    "!pip install stop-words\n"
   ]
  },
  {
   "cell_type": "code",
   "execution_count": 161,
   "id": "2fa68ef3",
   "metadata": {},
   "outputs": [
    {
     "name": "stdout",
     "output_type": "stream",
     "text": [
      "Requirement already satisfied: plotly==5.13.1 in c:\\users\\bizan\\appdata\\local\\programs\\python\\python39\\lib\\site-packages (5.13.1)\n",
      "Requirement already satisfied: tenacity>=6.2.0 in c:\\users\\bizan\\appdata\\local\\programs\\python\\python39\\lib\\site-packages (from plotly==5.13.1) (8.2.2)\n",
      "Note: you may need to restart the kernel to use updated packages.\n"
     ]
    },
    {
     "name": "stderr",
     "output_type": "stream",
     "text": [
      "WARNING: There was an error checking the latest version of pip.\n"
     ]
    }
   ],
   "source": [
    "pip install plotly==5.13.1"
   ]
  },
  {
   "cell_type": "code",
   "execution_count": 162,
   "id": "5339038a",
   "metadata": {},
   "outputs": [],
   "source": [
    "# importamos e instalamos algunas librerías que se requieren\n",
    "import numpy as np \n",
    "import plotly.express as px\n",
    "from wordcloud import WordCloud, ImageColorGenerator\n",
    "from stop_words import get_stop_words\n"
   ]
  },
  {
   "attachments": {},
   "cell_type": "markdown",
   "id": "46fbb972",
   "metadata": {},
   "source": [
    "+ Realice una tabla de frecuencia, un gráfico de barras y un gráfico de líneas del top 20 de las personas que más publican. Analizar los gráficos y responder: ¿cuáles son las 5 cuentas que más tweets  o son más populares en ese conjunto de los 500 datos?\n"
   ]
  },
  {
   "cell_type": "code",
   "execution_count": 163,
   "id": "d8e34cc5",
   "metadata": {},
   "outputs": [
    {
     "name": "stdout",
     "output_type": "stream",
     "text": [
      "{'populares': 112, 'PSOE': 94, 'CiudadanosCs': 123, 'ahorapodemos': 107, 'pablocasado_': 64}\n"
     ]
    }
   ],
   "source": [
    "frecuencias = {}\n",
    "for palabra in data.cuenta[:500]:\n",
    "    if palabra in frecuencias:\n",
    "        frecuencias[palabra] += 1\n",
    "    else:\n",
    "        frecuencias[palabra] = 1\n",
    "print(frecuencias)\n"
   ]
  },
  {
   "cell_type": "code",
   "execution_count": 164,
   "id": "28c05ba9",
   "metadata": {},
   "outputs": [
    {
     "data": {
      "text/html": [
       "<div>\n",
       "<style scoped>\n",
       "    .dataframe tbody tr th:only-of-type {\n",
       "        vertical-align: middle;\n",
       "    }\n",
       "\n",
       "    .dataframe tbody tr th {\n",
       "        vertical-align: top;\n",
       "    }\n",
       "\n",
       "    .dataframe thead th {\n",
       "        text-align: right;\n",
       "    }\n",
       "</style>\n",
       "<table border=\"1\" class=\"dataframe\">\n",
       "  <thead>\n",
       "    <tr style=\"text-align: right;\">\n",
       "      <th></th>\n",
       "      <th>Palabra</th>\n",
       "      <th>Frecuencia</th>\n",
       "    </tr>\n",
       "  </thead>\n",
       "  <tbody>\n",
       "    <tr>\n",
       "      <th>2</th>\n",
       "      <td>CiudadanosCs</td>\n",
       "      <td>123</td>\n",
       "    </tr>\n",
       "    <tr>\n",
       "      <th>0</th>\n",
       "      <td>populares</td>\n",
       "      <td>112</td>\n",
       "    </tr>\n",
       "    <tr>\n",
       "      <th>3</th>\n",
       "      <td>ahorapodemos</td>\n",
       "      <td>107</td>\n",
       "    </tr>\n",
       "    <tr>\n",
       "      <th>1</th>\n",
       "      <td>PSOE</td>\n",
       "      <td>94</td>\n",
       "    </tr>\n",
       "    <tr>\n",
       "      <th>4</th>\n",
       "      <td>pablocasado_</td>\n",
       "      <td>64</td>\n",
       "    </tr>\n",
       "  </tbody>\n",
       "</table>\n",
       "</div>"
      ],
      "text/plain": [
       "        Palabra  Frecuencia\n",
       "2  CiudadanosCs         123\n",
       "0     populares         112\n",
       "3  ahorapodemos         107\n",
       "1          PSOE          94\n",
       "4  pablocasado_          64"
      ]
     },
     "execution_count": 164,
     "metadata": {},
     "output_type": "execute_result"
    }
   ],
   "source": [
    "df = pd.DataFrame([[key, frecuencias[key]]\n",
    "                  for key in frecuencias.keys()], columns=['Palabra', 'Frecuencia'])\n",
    "top20 = df.sort_values([\"Frecuencia\"], ascending=False)[:20]\n",
    "top20\n"
   ]
  },
  {
   "cell_type": "code",
   "execution_count": 165,
   "id": "cde93352",
   "metadata": {},
   "outputs": [
    {
     "data": {
      "application/vnd.plotly.v1+json": {
       "config": {
        "plotlyServerURL": "https://plot.ly"
       },
       "data": [
        {
         "alignmentgroup": "True",
         "hovertemplate": "x=%{x}<br>y=%{y}<extra></extra>",
         "legendgroup": "",
         "marker": {
          "color": "#636efa",
          "pattern": {
           "shape": ""
          }
         },
         "name": "",
         "offsetgroup": "",
         "orientation": "v",
         "showlegend": false,
         "textposition": "auto",
         "type": "bar",
         "x": [
          "CiudadanosCs",
          "populares",
          "ahorapodemos",
          "PSOE",
          "pablocasado_"
         ],
         "xaxis": "x",
         "y": [
          123,
          112,
          107,
          94,
          64
         ],
         "yaxis": "y"
        }
       ],
       "layout": {
        "barmode": "relative",
        "legend": {
         "tracegroupgap": 0
        },
        "margin": {
         "t": 60
        },
        "template": {
         "data": {
          "bar": [
           {
            "error_x": {
             "color": "#2a3f5f"
            },
            "error_y": {
             "color": "#2a3f5f"
            },
            "marker": {
             "line": {
              "color": "#E5ECF6",
              "width": 0.5
             },
             "pattern": {
              "fillmode": "overlay",
              "size": 10,
              "solidity": 0.2
             }
            },
            "type": "bar"
           }
          ],
          "barpolar": [
           {
            "marker": {
             "line": {
              "color": "#E5ECF6",
              "width": 0.5
             },
             "pattern": {
              "fillmode": "overlay",
              "size": 10,
              "solidity": 0.2
             }
            },
            "type": "barpolar"
           }
          ],
          "carpet": [
           {
            "aaxis": {
             "endlinecolor": "#2a3f5f",
             "gridcolor": "white",
             "linecolor": "white",
             "minorgridcolor": "white",
             "startlinecolor": "#2a3f5f"
            },
            "baxis": {
             "endlinecolor": "#2a3f5f",
             "gridcolor": "white",
             "linecolor": "white",
             "minorgridcolor": "white",
             "startlinecolor": "#2a3f5f"
            },
            "type": "carpet"
           }
          ],
          "choropleth": [
           {
            "colorbar": {
             "outlinewidth": 0,
             "ticks": ""
            },
            "type": "choropleth"
           }
          ],
          "contour": [
           {
            "colorbar": {
             "outlinewidth": 0,
             "ticks": ""
            },
            "colorscale": [
             [
              0,
              "#0d0887"
             ],
             [
              0.1111111111111111,
              "#46039f"
             ],
             [
              0.2222222222222222,
              "#7201a8"
             ],
             [
              0.3333333333333333,
              "#9c179e"
             ],
             [
              0.4444444444444444,
              "#bd3786"
             ],
             [
              0.5555555555555556,
              "#d8576b"
             ],
             [
              0.6666666666666666,
              "#ed7953"
             ],
             [
              0.7777777777777778,
              "#fb9f3a"
             ],
             [
              0.8888888888888888,
              "#fdca26"
             ],
             [
              1,
              "#f0f921"
             ]
            ],
            "type": "contour"
           }
          ],
          "contourcarpet": [
           {
            "colorbar": {
             "outlinewidth": 0,
             "ticks": ""
            },
            "type": "contourcarpet"
           }
          ],
          "heatmap": [
           {
            "colorbar": {
             "outlinewidth": 0,
             "ticks": ""
            },
            "colorscale": [
             [
              0,
              "#0d0887"
             ],
             [
              0.1111111111111111,
              "#46039f"
             ],
             [
              0.2222222222222222,
              "#7201a8"
             ],
             [
              0.3333333333333333,
              "#9c179e"
             ],
             [
              0.4444444444444444,
              "#bd3786"
             ],
             [
              0.5555555555555556,
              "#d8576b"
             ],
             [
              0.6666666666666666,
              "#ed7953"
             ],
             [
              0.7777777777777778,
              "#fb9f3a"
             ],
             [
              0.8888888888888888,
              "#fdca26"
             ],
             [
              1,
              "#f0f921"
             ]
            ],
            "type": "heatmap"
           }
          ],
          "heatmapgl": [
           {
            "colorbar": {
             "outlinewidth": 0,
             "ticks": ""
            },
            "colorscale": [
             [
              0,
              "#0d0887"
             ],
             [
              0.1111111111111111,
              "#46039f"
             ],
             [
              0.2222222222222222,
              "#7201a8"
             ],
             [
              0.3333333333333333,
              "#9c179e"
             ],
             [
              0.4444444444444444,
              "#bd3786"
             ],
             [
              0.5555555555555556,
              "#d8576b"
             ],
             [
              0.6666666666666666,
              "#ed7953"
             ],
             [
              0.7777777777777778,
              "#fb9f3a"
             ],
             [
              0.8888888888888888,
              "#fdca26"
             ],
             [
              1,
              "#f0f921"
             ]
            ],
            "type": "heatmapgl"
           }
          ],
          "histogram": [
           {
            "marker": {
             "pattern": {
              "fillmode": "overlay",
              "size": 10,
              "solidity": 0.2
             }
            },
            "type": "histogram"
           }
          ],
          "histogram2d": [
           {
            "colorbar": {
             "outlinewidth": 0,
             "ticks": ""
            },
            "colorscale": [
             [
              0,
              "#0d0887"
             ],
             [
              0.1111111111111111,
              "#46039f"
             ],
             [
              0.2222222222222222,
              "#7201a8"
             ],
             [
              0.3333333333333333,
              "#9c179e"
             ],
             [
              0.4444444444444444,
              "#bd3786"
             ],
             [
              0.5555555555555556,
              "#d8576b"
             ],
             [
              0.6666666666666666,
              "#ed7953"
             ],
             [
              0.7777777777777778,
              "#fb9f3a"
             ],
             [
              0.8888888888888888,
              "#fdca26"
             ],
             [
              1,
              "#f0f921"
             ]
            ],
            "type": "histogram2d"
           }
          ],
          "histogram2dcontour": [
           {
            "colorbar": {
             "outlinewidth": 0,
             "ticks": ""
            },
            "colorscale": [
             [
              0,
              "#0d0887"
             ],
             [
              0.1111111111111111,
              "#46039f"
             ],
             [
              0.2222222222222222,
              "#7201a8"
             ],
             [
              0.3333333333333333,
              "#9c179e"
             ],
             [
              0.4444444444444444,
              "#bd3786"
             ],
             [
              0.5555555555555556,
              "#d8576b"
             ],
             [
              0.6666666666666666,
              "#ed7953"
             ],
             [
              0.7777777777777778,
              "#fb9f3a"
             ],
             [
              0.8888888888888888,
              "#fdca26"
             ],
             [
              1,
              "#f0f921"
             ]
            ],
            "type": "histogram2dcontour"
           }
          ],
          "mesh3d": [
           {
            "colorbar": {
             "outlinewidth": 0,
             "ticks": ""
            },
            "type": "mesh3d"
           }
          ],
          "parcoords": [
           {
            "line": {
             "colorbar": {
              "outlinewidth": 0,
              "ticks": ""
             }
            },
            "type": "parcoords"
           }
          ],
          "pie": [
           {
            "automargin": true,
            "type": "pie"
           }
          ],
          "scatter": [
           {
            "fillpattern": {
             "fillmode": "overlay",
             "size": 10,
             "solidity": 0.2
            },
            "type": "scatter"
           }
          ],
          "scatter3d": [
           {
            "line": {
             "colorbar": {
              "outlinewidth": 0,
              "ticks": ""
             }
            },
            "marker": {
             "colorbar": {
              "outlinewidth": 0,
              "ticks": ""
             }
            },
            "type": "scatter3d"
           }
          ],
          "scattercarpet": [
           {
            "marker": {
             "colorbar": {
              "outlinewidth": 0,
              "ticks": ""
             }
            },
            "type": "scattercarpet"
           }
          ],
          "scattergeo": [
           {
            "marker": {
             "colorbar": {
              "outlinewidth": 0,
              "ticks": ""
             }
            },
            "type": "scattergeo"
           }
          ],
          "scattergl": [
           {
            "marker": {
             "colorbar": {
              "outlinewidth": 0,
              "ticks": ""
             }
            },
            "type": "scattergl"
           }
          ],
          "scattermapbox": [
           {
            "marker": {
             "colorbar": {
              "outlinewidth": 0,
              "ticks": ""
             }
            },
            "type": "scattermapbox"
           }
          ],
          "scatterpolar": [
           {
            "marker": {
             "colorbar": {
              "outlinewidth": 0,
              "ticks": ""
             }
            },
            "type": "scatterpolar"
           }
          ],
          "scatterpolargl": [
           {
            "marker": {
             "colorbar": {
              "outlinewidth": 0,
              "ticks": ""
             }
            },
            "type": "scatterpolargl"
           }
          ],
          "scatterternary": [
           {
            "marker": {
             "colorbar": {
              "outlinewidth": 0,
              "ticks": ""
             }
            },
            "type": "scatterternary"
           }
          ],
          "surface": [
           {
            "colorbar": {
             "outlinewidth": 0,
             "ticks": ""
            },
            "colorscale": [
             [
              0,
              "#0d0887"
             ],
             [
              0.1111111111111111,
              "#46039f"
             ],
             [
              0.2222222222222222,
              "#7201a8"
             ],
             [
              0.3333333333333333,
              "#9c179e"
             ],
             [
              0.4444444444444444,
              "#bd3786"
             ],
             [
              0.5555555555555556,
              "#d8576b"
             ],
             [
              0.6666666666666666,
              "#ed7953"
             ],
             [
              0.7777777777777778,
              "#fb9f3a"
             ],
             [
              0.8888888888888888,
              "#fdca26"
             ],
             [
              1,
              "#f0f921"
             ]
            ],
            "type": "surface"
           }
          ],
          "table": [
           {
            "cells": {
             "fill": {
              "color": "#EBF0F8"
             },
             "line": {
              "color": "white"
             }
            },
            "header": {
             "fill": {
              "color": "#C8D4E3"
             },
             "line": {
              "color": "white"
             }
            },
            "type": "table"
           }
          ]
         },
         "layout": {
          "annotationdefaults": {
           "arrowcolor": "#2a3f5f",
           "arrowhead": 0,
           "arrowwidth": 1
          },
          "autotypenumbers": "strict",
          "coloraxis": {
           "colorbar": {
            "outlinewidth": 0,
            "ticks": ""
           }
          },
          "colorscale": {
           "diverging": [
            [
             0,
             "#8e0152"
            ],
            [
             0.1,
             "#c51b7d"
            ],
            [
             0.2,
             "#de77ae"
            ],
            [
             0.3,
             "#f1b6da"
            ],
            [
             0.4,
             "#fde0ef"
            ],
            [
             0.5,
             "#f7f7f7"
            ],
            [
             0.6,
             "#e6f5d0"
            ],
            [
             0.7,
             "#b8e186"
            ],
            [
             0.8,
             "#7fbc41"
            ],
            [
             0.9,
             "#4d9221"
            ],
            [
             1,
             "#276419"
            ]
           ],
           "sequential": [
            [
             0,
             "#0d0887"
            ],
            [
             0.1111111111111111,
             "#46039f"
            ],
            [
             0.2222222222222222,
             "#7201a8"
            ],
            [
             0.3333333333333333,
             "#9c179e"
            ],
            [
             0.4444444444444444,
             "#bd3786"
            ],
            [
             0.5555555555555556,
             "#d8576b"
            ],
            [
             0.6666666666666666,
             "#ed7953"
            ],
            [
             0.7777777777777778,
             "#fb9f3a"
            ],
            [
             0.8888888888888888,
             "#fdca26"
            ],
            [
             1,
             "#f0f921"
            ]
           ],
           "sequentialminus": [
            [
             0,
             "#0d0887"
            ],
            [
             0.1111111111111111,
             "#46039f"
            ],
            [
             0.2222222222222222,
             "#7201a8"
            ],
            [
             0.3333333333333333,
             "#9c179e"
            ],
            [
             0.4444444444444444,
             "#bd3786"
            ],
            [
             0.5555555555555556,
             "#d8576b"
            ],
            [
             0.6666666666666666,
             "#ed7953"
            ],
            [
             0.7777777777777778,
             "#fb9f3a"
            ],
            [
             0.8888888888888888,
             "#fdca26"
            ],
            [
             1,
             "#f0f921"
            ]
           ]
          },
          "colorway": [
           "#636efa",
           "#EF553B",
           "#00cc96",
           "#ab63fa",
           "#FFA15A",
           "#19d3f3",
           "#FF6692",
           "#B6E880",
           "#FF97FF",
           "#FECB52"
          ],
          "font": {
           "color": "#2a3f5f"
          },
          "geo": {
           "bgcolor": "white",
           "lakecolor": "white",
           "landcolor": "#E5ECF6",
           "showlakes": true,
           "showland": true,
           "subunitcolor": "white"
          },
          "hoverlabel": {
           "align": "left"
          },
          "hovermode": "closest",
          "mapbox": {
           "style": "light"
          },
          "paper_bgcolor": "white",
          "plot_bgcolor": "#E5ECF6",
          "polar": {
           "angularaxis": {
            "gridcolor": "white",
            "linecolor": "white",
            "ticks": ""
           },
           "bgcolor": "#E5ECF6",
           "radialaxis": {
            "gridcolor": "white",
            "linecolor": "white",
            "ticks": ""
           }
          },
          "scene": {
           "xaxis": {
            "backgroundcolor": "#E5ECF6",
            "gridcolor": "white",
            "gridwidth": 2,
            "linecolor": "white",
            "showbackground": true,
            "ticks": "",
            "zerolinecolor": "white"
           },
           "yaxis": {
            "backgroundcolor": "#E5ECF6",
            "gridcolor": "white",
            "gridwidth": 2,
            "linecolor": "white",
            "showbackground": true,
            "ticks": "",
            "zerolinecolor": "white"
           },
           "zaxis": {
            "backgroundcolor": "#E5ECF6",
            "gridcolor": "white",
            "gridwidth": 2,
            "linecolor": "white",
            "showbackground": true,
            "ticks": "",
            "zerolinecolor": "white"
           }
          },
          "shapedefaults": {
           "line": {
            "color": "#2a3f5f"
           }
          },
          "ternary": {
           "aaxis": {
            "gridcolor": "white",
            "linecolor": "white",
            "ticks": ""
           },
           "baxis": {
            "gridcolor": "white",
            "linecolor": "white",
            "ticks": ""
           },
           "bgcolor": "#E5ECF6",
           "caxis": {
            "gridcolor": "white",
            "linecolor": "white",
            "ticks": ""
           }
          },
          "title": {
           "x": 0.05
          },
          "xaxis": {
           "automargin": true,
           "gridcolor": "white",
           "linecolor": "white",
           "ticks": "",
           "title": {
            "standoff": 15
           },
           "zerolinecolor": "white",
           "zerolinewidth": 2
          },
          "yaxis": {
           "automargin": true,
           "gridcolor": "white",
           "linecolor": "white",
           "ticks": "",
           "title": {
            "standoff": 15
           },
           "zerolinecolor": "white",
           "zerolinewidth": 2
          }
         }
        },
        "title": {
         "text": "Gráfico de Barras top 20 tweets "
        },
        "xaxis": {
         "anchor": "y",
         "domain": [
          0,
          1
         ],
         "title": {
          "text": "Autores"
         }
        },
        "yaxis": {
         "anchor": "x",
         "domain": [
          0,
          1
         ],
         "title": {
          "text": "frecuencia"
         }
        }
       }
      }
     },
     "metadata": {},
     "output_type": "display_data"
    }
   ],
   "source": [
    "fig = px.bar(x=top20[\"Palabra\"], y=top20[\"Frecuencia\"])\n",
    "\n",
    "fig.update_layout(\n",
    "    yaxis_title='frecuencia',  # label eje x\n",
    "    xaxis_title=\"Autores\",  # label eje y\n",
    "    title=\"Gráfico de Barras top 20 tweets \"  # label título\n",
    ")\n"
   ]
  },
  {
   "cell_type": "code",
   "execution_count": 166,
   "id": "568c96e2",
   "metadata": {},
   "outputs": [
    {
     "data": {
      "application/vnd.plotly.v1+json": {
       "config": {
        "plotlyServerURL": "https://plot.ly"
       },
       "data": [
        {
         "hovertemplate": "x=%{x}<br>y=%{y}<extra></extra>",
         "legendgroup": "",
         "line": {
          "color": "#636efa",
          "dash": "solid"
         },
         "marker": {
          "symbol": "circle"
         },
         "mode": "lines",
         "name": "",
         "orientation": "v",
         "showlegend": false,
         "type": "scatter",
         "x": [
          "CiudadanosCs",
          "populares",
          "ahorapodemos",
          "PSOE",
          "pablocasado_"
         ],
         "xaxis": "x",
         "y": [
          123,
          112,
          107,
          94,
          64
         ],
         "yaxis": "y"
        }
       ],
       "layout": {
        "legend": {
         "tracegroupgap": 0
        },
        "margin": {
         "t": 60
        },
        "template": {
         "data": {
          "bar": [
           {
            "error_x": {
             "color": "#2a3f5f"
            },
            "error_y": {
             "color": "#2a3f5f"
            },
            "marker": {
             "line": {
              "color": "#E5ECF6",
              "width": 0.5
             },
             "pattern": {
              "fillmode": "overlay",
              "size": 10,
              "solidity": 0.2
             }
            },
            "type": "bar"
           }
          ],
          "barpolar": [
           {
            "marker": {
             "line": {
              "color": "#E5ECF6",
              "width": 0.5
             },
             "pattern": {
              "fillmode": "overlay",
              "size": 10,
              "solidity": 0.2
             }
            },
            "type": "barpolar"
           }
          ],
          "carpet": [
           {
            "aaxis": {
             "endlinecolor": "#2a3f5f",
             "gridcolor": "white",
             "linecolor": "white",
             "minorgridcolor": "white",
             "startlinecolor": "#2a3f5f"
            },
            "baxis": {
             "endlinecolor": "#2a3f5f",
             "gridcolor": "white",
             "linecolor": "white",
             "minorgridcolor": "white",
             "startlinecolor": "#2a3f5f"
            },
            "type": "carpet"
           }
          ],
          "choropleth": [
           {
            "colorbar": {
             "outlinewidth": 0,
             "ticks": ""
            },
            "type": "choropleth"
           }
          ],
          "contour": [
           {
            "colorbar": {
             "outlinewidth": 0,
             "ticks": ""
            },
            "colorscale": [
             [
              0,
              "#0d0887"
             ],
             [
              0.1111111111111111,
              "#46039f"
             ],
             [
              0.2222222222222222,
              "#7201a8"
             ],
             [
              0.3333333333333333,
              "#9c179e"
             ],
             [
              0.4444444444444444,
              "#bd3786"
             ],
             [
              0.5555555555555556,
              "#d8576b"
             ],
             [
              0.6666666666666666,
              "#ed7953"
             ],
             [
              0.7777777777777778,
              "#fb9f3a"
             ],
             [
              0.8888888888888888,
              "#fdca26"
             ],
             [
              1,
              "#f0f921"
             ]
            ],
            "type": "contour"
           }
          ],
          "contourcarpet": [
           {
            "colorbar": {
             "outlinewidth": 0,
             "ticks": ""
            },
            "type": "contourcarpet"
           }
          ],
          "heatmap": [
           {
            "colorbar": {
             "outlinewidth": 0,
             "ticks": ""
            },
            "colorscale": [
             [
              0,
              "#0d0887"
             ],
             [
              0.1111111111111111,
              "#46039f"
             ],
             [
              0.2222222222222222,
              "#7201a8"
             ],
             [
              0.3333333333333333,
              "#9c179e"
             ],
             [
              0.4444444444444444,
              "#bd3786"
             ],
             [
              0.5555555555555556,
              "#d8576b"
             ],
             [
              0.6666666666666666,
              "#ed7953"
             ],
             [
              0.7777777777777778,
              "#fb9f3a"
             ],
             [
              0.8888888888888888,
              "#fdca26"
             ],
             [
              1,
              "#f0f921"
             ]
            ],
            "type": "heatmap"
           }
          ],
          "heatmapgl": [
           {
            "colorbar": {
             "outlinewidth": 0,
             "ticks": ""
            },
            "colorscale": [
             [
              0,
              "#0d0887"
             ],
             [
              0.1111111111111111,
              "#46039f"
             ],
             [
              0.2222222222222222,
              "#7201a8"
             ],
             [
              0.3333333333333333,
              "#9c179e"
             ],
             [
              0.4444444444444444,
              "#bd3786"
             ],
             [
              0.5555555555555556,
              "#d8576b"
             ],
             [
              0.6666666666666666,
              "#ed7953"
             ],
             [
              0.7777777777777778,
              "#fb9f3a"
             ],
             [
              0.8888888888888888,
              "#fdca26"
             ],
             [
              1,
              "#f0f921"
             ]
            ],
            "type": "heatmapgl"
           }
          ],
          "histogram": [
           {
            "marker": {
             "pattern": {
              "fillmode": "overlay",
              "size": 10,
              "solidity": 0.2
             }
            },
            "type": "histogram"
           }
          ],
          "histogram2d": [
           {
            "colorbar": {
             "outlinewidth": 0,
             "ticks": ""
            },
            "colorscale": [
             [
              0,
              "#0d0887"
             ],
             [
              0.1111111111111111,
              "#46039f"
             ],
             [
              0.2222222222222222,
              "#7201a8"
             ],
             [
              0.3333333333333333,
              "#9c179e"
             ],
             [
              0.4444444444444444,
              "#bd3786"
             ],
             [
              0.5555555555555556,
              "#d8576b"
             ],
             [
              0.6666666666666666,
              "#ed7953"
             ],
             [
              0.7777777777777778,
              "#fb9f3a"
             ],
             [
              0.8888888888888888,
              "#fdca26"
             ],
             [
              1,
              "#f0f921"
             ]
            ],
            "type": "histogram2d"
           }
          ],
          "histogram2dcontour": [
           {
            "colorbar": {
             "outlinewidth": 0,
             "ticks": ""
            },
            "colorscale": [
             [
              0,
              "#0d0887"
             ],
             [
              0.1111111111111111,
              "#46039f"
             ],
             [
              0.2222222222222222,
              "#7201a8"
             ],
             [
              0.3333333333333333,
              "#9c179e"
             ],
             [
              0.4444444444444444,
              "#bd3786"
             ],
             [
              0.5555555555555556,
              "#d8576b"
             ],
             [
              0.6666666666666666,
              "#ed7953"
             ],
             [
              0.7777777777777778,
              "#fb9f3a"
             ],
             [
              0.8888888888888888,
              "#fdca26"
             ],
             [
              1,
              "#f0f921"
             ]
            ],
            "type": "histogram2dcontour"
           }
          ],
          "mesh3d": [
           {
            "colorbar": {
             "outlinewidth": 0,
             "ticks": ""
            },
            "type": "mesh3d"
           }
          ],
          "parcoords": [
           {
            "line": {
             "colorbar": {
              "outlinewidth": 0,
              "ticks": ""
             }
            },
            "type": "parcoords"
           }
          ],
          "pie": [
           {
            "automargin": true,
            "type": "pie"
           }
          ],
          "scatter": [
           {
            "fillpattern": {
             "fillmode": "overlay",
             "size": 10,
             "solidity": 0.2
            },
            "type": "scatter"
           }
          ],
          "scatter3d": [
           {
            "line": {
             "colorbar": {
              "outlinewidth": 0,
              "ticks": ""
             }
            },
            "marker": {
             "colorbar": {
              "outlinewidth": 0,
              "ticks": ""
             }
            },
            "type": "scatter3d"
           }
          ],
          "scattercarpet": [
           {
            "marker": {
             "colorbar": {
              "outlinewidth": 0,
              "ticks": ""
             }
            },
            "type": "scattercarpet"
           }
          ],
          "scattergeo": [
           {
            "marker": {
             "colorbar": {
              "outlinewidth": 0,
              "ticks": ""
             }
            },
            "type": "scattergeo"
           }
          ],
          "scattergl": [
           {
            "marker": {
             "colorbar": {
              "outlinewidth": 0,
              "ticks": ""
             }
            },
            "type": "scattergl"
           }
          ],
          "scattermapbox": [
           {
            "marker": {
             "colorbar": {
              "outlinewidth": 0,
              "ticks": ""
             }
            },
            "type": "scattermapbox"
           }
          ],
          "scatterpolar": [
           {
            "marker": {
             "colorbar": {
              "outlinewidth": 0,
              "ticks": ""
             }
            },
            "type": "scatterpolar"
           }
          ],
          "scatterpolargl": [
           {
            "marker": {
             "colorbar": {
              "outlinewidth": 0,
              "ticks": ""
             }
            },
            "type": "scatterpolargl"
           }
          ],
          "scatterternary": [
           {
            "marker": {
             "colorbar": {
              "outlinewidth": 0,
              "ticks": ""
             }
            },
            "type": "scatterternary"
           }
          ],
          "surface": [
           {
            "colorbar": {
             "outlinewidth": 0,
             "ticks": ""
            },
            "colorscale": [
             [
              0,
              "#0d0887"
             ],
             [
              0.1111111111111111,
              "#46039f"
             ],
             [
              0.2222222222222222,
              "#7201a8"
             ],
             [
              0.3333333333333333,
              "#9c179e"
             ],
             [
              0.4444444444444444,
              "#bd3786"
             ],
             [
              0.5555555555555556,
              "#d8576b"
             ],
             [
              0.6666666666666666,
              "#ed7953"
             ],
             [
              0.7777777777777778,
              "#fb9f3a"
             ],
             [
              0.8888888888888888,
              "#fdca26"
             ],
             [
              1,
              "#f0f921"
             ]
            ],
            "type": "surface"
           }
          ],
          "table": [
           {
            "cells": {
             "fill": {
              "color": "#EBF0F8"
             },
             "line": {
              "color": "white"
             }
            },
            "header": {
             "fill": {
              "color": "#C8D4E3"
             },
             "line": {
              "color": "white"
             }
            },
            "type": "table"
           }
          ]
         },
         "layout": {
          "annotationdefaults": {
           "arrowcolor": "#2a3f5f",
           "arrowhead": 0,
           "arrowwidth": 1
          },
          "autotypenumbers": "strict",
          "coloraxis": {
           "colorbar": {
            "outlinewidth": 0,
            "ticks": ""
           }
          },
          "colorscale": {
           "diverging": [
            [
             0,
             "#8e0152"
            ],
            [
             0.1,
             "#c51b7d"
            ],
            [
             0.2,
             "#de77ae"
            ],
            [
             0.3,
             "#f1b6da"
            ],
            [
             0.4,
             "#fde0ef"
            ],
            [
             0.5,
             "#f7f7f7"
            ],
            [
             0.6,
             "#e6f5d0"
            ],
            [
             0.7,
             "#b8e186"
            ],
            [
             0.8,
             "#7fbc41"
            ],
            [
             0.9,
             "#4d9221"
            ],
            [
             1,
             "#276419"
            ]
           ],
           "sequential": [
            [
             0,
             "#0d0887"
            ],
            [
             0.1111111111111111,
             "#46039f"
            ],
            [
             0.2222222222222222,
             "#7201a8"
            ],
            [
             0.3333333333333333,
             "#9c179e"
            ],
            [
             0.4444444444444444,
             "#bd3786"
            ],
            [
             0.5555555555555556,
             "#d8576b"
            ],
            [
             0.6666666666666666,
             "#ed7953"
            ],
            [
             0.7777777777777778,
             "#fb9f3a"
            ],
            [
             0.8888888888888888,
             "#fdca26"
            ],
            [
             1,
             "#f0f921"
            ]
           ],
           "sequentialminus": [
            [
             0,
             "#0d0887"
            ],
            [
             0.1111111111111111,
             "#46039f"
            ],
            [
             0.2222222222222222,
             "#7201a8"
            ],
            [
             0.3333333333333333,
             "#9c179e"
            ],
            [
             0.4444444444444444,
             "#bd3786"
            ],
            [
             0.5555555555555556,
             "#d8576b"
            ],
            [
             0.6666666666666666,
             "#ed7953"
            ],
            [
             0.7777777777777778,
             "#fb9f3a"
            ],
            [
             0.8888888888888888,
             "#fdca26"
            ],
            [
             1,
             "#f0f921"
            ]
           ]
          },
          "colorway": [
           "#636efa",
           "#EF553B",
           "#00cc96",
           "#ab63fa",
           "#FFA15A",
           "#19d3f3",
           "#FF6692",
           "#B6E880",
           "#FF97FF",
           "#FECB52"
          ],
          "font": {
           "color": "#2a3f5f"
          },
          "geo": {
           "bgcolor": "white",
           "lakecolor": "white",
           "landcolor": "#E5ECF6",
           "showlakes": true,
           "showland": true,
           "subunitcolor": "white"
          },
          "hoverlabel": {
           "align": "left"
          },
          "hovermode": "closest",
          "mapbox": {
           "style": "light"
          },
          "paper_bgcolor": "white",
          "plot_bgcolor": "#E5ECF6",
          "polar": {
           "angularaxis": {
            "gridcolor": "white",
            "linecolor": "white",
            "ticks": ""
           },
           "bgcolor": "#E5ECF6",
           "radialaxis": {
            "gridcolor": "white",
            "linecolor": "white",
            "ticks": ""
           }
          },
          "scene": {
           "xaxis": {
            "backgroundcolor": "#E5ECF6",
            "gridcolor": "white",
            "gridwidth": 2,
            "linecolor": "white",
            "showbackground": true,
            "ticks": "",
            "zerolinecolor": "white"
           },
           "yaxis": {
            "backgroundcolor": "#E5ECF6",
            "gridcolor": "white",
            "gridwidth": 2,
            "linecolor": "white",
            "showbackground": true,
            "ticks": "",
            "zerolinecolor": "white"
           },
           "zaxis": {
            "backgroundcolor": "#E5ECF6",
            "gridcolor": "white",
            "gridwidth": 2,
            "linecolor": "white",
            "showbackground": true,
            "ticks": "",
            "zerolinecolor": "white"
           }
          },
          "shapedefaults": {
           "line": {
            "color": "#2a3f5f"
           }
          },
          "ternary": {
           "aaxis": {
            "gridcolor": "white",
            "linecolor": "white",
            "ticks": ""
           },
           "baxis": {
            "gridcolor": "white",
            "linecolor": "white",
            "ticks": ""
           },
           "bgcolor": "#E5ECF6",
           "caxis": {
            "gridcolor": "white",
            "linecolor": "white",
            "ticks": ""
           }
          },
          "title": {
           "x": 0.05
          },
          "xaxis": {
           "automargin": true,
           "gridcolor": "white",
           "linecolor": "white",
           "ticks": "",
           "title": {
            "standoff": 15
           },
           "zerolinecolor": "white",
           "zerolinewidth": 2
          },
          "yaxis": {
           "automargin": true,
           "gridcolor": "white",
           "linecolor": "white",
           "ticks": "",
           "title": {
            "standoff": 15
           },
           "zerolinecolor": "white",
           "zerolinewidth": 2
          }
         }
        },
        "title": {
         "text": "Gráfico de lineas top 20 tweets "
        },
        "xaxis": {
         "anchor": "y",
         "domain": [
          0,
          1
         ],
         "title": {
          "text": "Autores"
         }
        },
        "yaxis": {
         "anchor": "x",
         "domain": [
          0,
          1
         ],
         "title": {
          "text": "frecuencia"
         }
        }
       }
      }
     },
     "metadata": {},
     "output_type": "display_data"
    }
   ],
   "source": [
    "fig_lineas = px.line(x=top20[\"Palabra\"], y=top20[\"Frecuencia\"])\n",
    "\n",
    "fig_lineas.update_layout(\n",
    "    yaxis_title='frecuencia',  # label eje x\n",
    "    xaxis_title=\"Autores\",  # label eje y\n",
    "    title=\"Gráfico de lineas top 20 tweets \"  # label título\n",
    ")\n",
    "fig_lineas.show()\n"
   ]
  },
  {
   "attachments": {},
   "cell_type": "markdown",
   "id": "1fd0ba6f",
   "metadata": {},
   "source": [
    "Las primeras 5 cuentas en los primeros 500 tweets del data frame son CiudadanosCs, populares, ahorapodemos, PSOE, pablocasado_"
   ]
  },
  {
   "attachments": {},
   "cell_type": "markdown",
   "id": "bed5d589",
   "metadata": {},
   "source": [
    " + Repita el punto anterior con la totalidad de los tweets y graficando el top 20."
   ]
  },
  {
   "cell_type": "code",
   "execution_count": 167,
   "id": "1b3aa8e5",
   "metadata": {},
   "outputs": [
    {
     "name": "stdout",
     "output_type": "stream",
     "text": [
      "{'populares': 11397, 'PSOE': 15678, 'CiudadanosCs': 9191, 'ahorapodemos': 2077, 'pablocasado_': 2961, 'sanchezcastejon': 3072, 'Albert_Rivera': 916, 'Pablo_Iglesias_': 1123, 'TeoGarciaEgea': 1559, 'carmencalvo_': 1084, 'InesArrimadas': 2374, 'Irene_Montero_': 463, 'JavierMaroto': 453, 'ALevySoler': 1598, 'IdiazAyuso': 1988, 'cucagamarra': 1029, 'gonzalezpons': 1617, 'zoidoJI': 866, 'DolorsMM': 903, 'CristinaNarbona': 782, 'Adrilastra': 637, 'abalosmeco': 1069, 'patxilopez': 293, 'oscar_puente_': 4936, 'BeatrizCorredor': 1177, 'odonelorza2011': 2878, 'CiudadanoVille': 180, 'FranHervias': 530, 'ferdeparamo': 17, 'GirautaOficial': 1582, 'begonavillacis': 1823, 'MelisaRguezCs': 527, 'Tonicanto1': 3822, 'TeresaRodr_': 1175, 'JM_Kichi': 811, 'Alber_Canarias': 321, 'MayoralRafa': 569, 'ionebelarra': 2067, 'MiguelUrban': 3029, 'pnique': 1147, 'VeraNoelia': 326, 'vox_es': 4402, 'Santi_ABASCAL': 1807, 'Ortega_Smith': 1272, 'monasterioR': 1669, 'Jorgebuxade': 5917, 'ivanedlm': 3269, 'Igarrigavaz': 1670, 'MariscalZabala': 254, 'PabloSaezAM': 811, 'pedro_fhz': 192, 'movimiento yihadista presente aún en Libia y el Sahel y sus causas profundas. Hemos abordado también el conflicto libio y de la unión africana, así como su relación con la UE.#UNGA https://t.co/mrmD5UhUs0': 10, 'abeltran_ana': 339, 'Aglezterol': 454, 'jaimedeolano': 907, 'cayetanaAT': 273, 'BelenHoyo': 409, 'VicenteBetoret': 364, 'ReyesHurle': 29, 'davidperez': 532, 'santicl': 18, 'JoseantonioJun': 119, 'Hugo_Moran': 68, 'DioufLuc': 5, 'garciaretegui': 1115, 'Ibangarciadb': 1027, 'luzseijo': 164, 'IratxeGarper': 207, 'CCuadradoCs': 89, 'joanmesquida62': 255, 'jmespejosaav': 79, 'MarinaBS_Cs': 72, 'GuillermoDiazCs': 1634, 'Beatriz_Pino_': 559, 'ignacioaguado': 1205, 'lugaricano': 633, 'MGutierrezCs': 380, 'abetancor': 20, 'Marco_Candela_': 37, 'patri_caro_maya': 93, '_EstherSanz_': 72, 'IdoiaVR': 452, 'sirarego': 169, 'MEugeniaRPalop': 197, 'VickyRosell': 442, 'agarzon': 203, 'Jaumeasens': 827, 'Yolanda_Diaz_': 2377, 'juralde': 582, 'RuizSolas': 174, 'ademiguelanton': 392, 'MazalyAguilar': 107, 'NoALaIdDeGenero': 1088, 'PabloIglesias': 944, 'IreneMontero': 1557, 'PODEMOS': 5393, 'salvadorilla': 605, 'mjmonteroc': 221, 'montesinospablo': 532, 'Rafa_Hernando': 1071, 'AlmeidaPP_': 912, 'LopezMirasF': 1525, 'Macarena_Olona': 2872, 'hermanntertsch': 6933, 'eledhmel': 2630, 'PabloEchenique': 2841, 'isaserras': 648, 'BalEdmundo': 965, 'carrizosacarlos': 1041, 'Lroldansu': 170, 'JuanMarin_Cs': 1617, 'NadiaCalvino': 619, '_JuanEspadas': 622, 'miqueliceta': 1953, 'joseluisescriva': 549, 'MarotoReyes': 255, 'CarolinaDarias': 164, 'raquelsjimenez': 513, 'DianaMorantR': 458, 'Pilar_Alegria': 277, 'isabelrguez': 437, 'anapastorjulian': 786, 'herrerobono': 149, 'DiegoMovellan': 27, 'rromerovilches': 187, 'MeerRocio': 489, 'jlsteeg': 870, 'MazelLilith': 382, '_PabloFdez_': 514, 'nachoalvarez_': 353, 'Pam_Angela_': 507, 'Julio_Rodr_': 448, 'Irenirima': 504, 'J_Sanchez_Serna': 224, 'noepmp': 444, 'Borja_AlvaCs': 340, 'SaraGimnez': 275, 'Fginer': 319, 'DanielPerezCs': 550, '@raquelsjimenez. ⏰ A partir de las 8:30h en @LasMananas_rne.▶️ Puedes seguir la entrevista en directo aquí: https://t.co/XTZYAix4xb#Avanzamos_ https://t.co/MhicHRwtZq': 5, 'Ustedes no tienen ni código, ni ética. Lidera el peor gobierno autonómico,  el más corrupto de España y también el más caro. https://t.co/DSEFZ5SQmI': 7, 'Junta reconoce fallos de comunicación y aclara que sólo deben acudir a las unidades móviles las personas con síntomas. Entretanto, ellos están en otras guerras. https://t.co/1gP4n2yqMD': 9, ', mostramos nuestro compromiso para acabar con la desigualdad de las mujeres': 1, 'en el ámbito laboral. La subida del #SMI y la #ReformaLaboral son claves para reducir la brecha de género. Seguimos el camino impulsando medidas.✊🏽Día Europeo De La #IgualdadSalarial https://t.co/o0DxPuxyJG': 1, 'FeijooGalicia': 56, 'SerranoAlfonso': 83}\n"
     ]
    }
   ],
   "source": [
    "frecuencias={}\n",
    "for palabra in data.cuenta:\n",
    "    if palabra in frecuencias:\n",
    "        frecuencias[palabra]+=1\n",
    "    else:\n",
    "        frecuencias[palabra]=1\n",
    "print(frecuencias) "
   ]
  },
  {
   "cell_type": "code",
   "execution_count": 168,
   "id": "f375e20f",
   "metadata": {},
   "outputs": [
    {
     "data": {
      "text/html": [
       "<div>\n",
       "<style scoped>\n",
       "    .dataframe tbody tr th:only-of-type {\n",
       "        vertical-align: middle;\n",
       "    }\n",
       "\n",
       "    .dataframe tbody tr th {\n",
       "        vertical-align: top;\n",
       "    }\n",
       "\n",
       "    .dataframe thead th {\n",
       "        text-align: right;\n",
       "    }\n",
       "</style>\n",
       "<table border=\"1\" class=\"dataframe\">\n",
       "  <thead>\n",
       "    <tr style=\"text-align: right;\">\n",
       "      <th></th>\n",
       "      <th>Palabra</th>\n",
       "      <th>Frecuencia</th>\n",
       "    </tr>\n",
       "  </thead>\n",
       "  <tbody>\n",
       "    <tr>\n",
       "      <th>1</th>\n",
       "      <td>PSOE</td>\n",
       "      <td>15678</td>\n",
       "    </tr>\n",
       "    <tr>\n",
       "      <th>0</th>\n",
       "      <td>populares</td>\n",
       "      <td>11397</td>\n",
       "    </tr>\n",
       "    <tr>\n",
       "      <th>2</th>\n",
       "      <td>CiudadanosCs</td>\n",
       "      <td>9191</td>\n",
       "    </tr>\n",
       "    <tr>\n",
       "      <th>103</th>\n",
       "      <td>hermanntertsch</td>\n",
       "      <td>6933</td>\n",
       "    </tr>\n",
       "    <tr>\n",
       "      <th>45</th>\n",
       "      <td>Jorgebuxade</td>\n",
       "      <td>5917</td>\n",
       "    </tr>\n",
       "    <tr>\n",
       "      <th>95</th>\n",
       "      <td>PODEMOS</td>\n",
       "      <td>5393</td>\n",
       "    </tr>\n",
       "    <tr>\n",
       "      <th>23</th>\n",
       "      <td>oscar_puente_</td>\n",
       "      <td>4936</td>\n",
       "    </tr>\n",
       "    <tr>\n",
       "      <th>41</th>\n",
       "      <td>vox_es</td>\n",
       "      <td>4402</td>\n",
       "    </tr>\n",
       "    <tr>\n",
       "      <th>32</th>\n",
       "      <td>Tonicanto1</td>\n",
       "      <td>3822</td>\n",
       "    </tr>\n",
       "    <tr>\n",
       "      <th>46</th>\n",
       "      <td>ivanedlm</td>\n",
       "      <td>3269</td>\n",
       "    </tr>\n",
       "    <tr>\n",
       "      <th>5</th>\n",
       "      <td>sanchezcastejon</td>\n",
       "      <td>3072</td>\n",
       "    </tr>\n",
       "    <tr>\n",
       "      <th>38</th>\n",
       "      <td>MiguelUrban</td>\n",
       "      <td>3029</td>\n",
       "    </tr>\n",
       "    <tr>\n",
       "      <th>4</th>\n",
       "      <td>pablocasado_</td>\n",
       "      <td>2961</td>\n",
       "    </tr>\n",
       "    <tr>\n",
       "      <th>25</th>\n",
       "      <td>odonelorza2011</td>\n",
       "      <td>2878</td>\n",
       "    </tr>\n",
       "    <tr>\n",
       "      <th>102</th>\n",
       "      <td>Macarena_Olona</td>\n",
       "      <td>2872</td>\n",
       "    </tr>\n",
       "    <tr>\n",
       "      <th>105</th>\n",
       "      <td>PabloEchenique</td>\n",
       "      <td>2841</td>\n",
       "    </tr>\n",
       "    <tr>\n",
       "      <th>104</th>\n",
       "      <td>eledhmel</td>\n",
       "      <td>2630</td>\n",
       "    </tr>\n",
       "    <tr>\n",
       "      <th>87</th>\n",
       "      <td>Yolanda_Diaz_</td>\n",
       "      <td>2377</td>\n",
       "    </tr>\n",
       "    <tr>\n",
       "      <th>10</th>\n",
       "      <td>InesArrimadas</td>\n",
       "      <td>2374</td>\n",
       "    </tr>\n",
       "    <tr>\n",
       "      <th>3</th>\n",
       "      <td>ahorapodemos</td>\n",
       "      <td>2077</td>\n",
       "    </tr>\n",
       "  </tbody>\n",
       "</table>\n",
       "</div>"
      ],
      "text/plain": [
       "             Palabra  Frecuencia\n",
       "1               PSOE       15678\n",
       "0          populares       11397\n",
       "2       CiudadanosCs        9191\n",
       "103   hermanntertsch        6933\n",
       "45       Jorgebuxade        5917\n",
       "95           PODEMOS        5393\n",
       "23     oscar_puente_        4936\n",
       "41            vox_es        4402\n",
       "32        Tonicanto1        3822\n",
       "46          ivanedlm        3269\n",
       "5    sanchezcastejon        3072\n",
       "38       MiguelUrban        3029\n",
       "4       pablocasado_        2961\n",
       "25    odonelorza2011        2878\n",
       "102   Macarena_Olona        2872\n",
       "105   PabloEchenique        2841\n",
       "104         eledhmel        2630\n",
       "87     Yolanda_Diaz_        2377\n",
       "10     InesArrimadas        2374\n",
       "3       ahorapodemos        2077"
      ]
     },
     "execution_count": 168,
     "metadata": {},
     "output_type": "execute_result"
    }
   ],
   "source": [
    "df = pd.DataFrame([[key, frecuencias[key]] for key in frecuencias.keys()], columns=['Palabra', 'Frecuencia'])\n",
    "top20=df.sort_values([\"Frecuencia\"], ascending=False)[:20]\n",
    "top20"
   ]
  },
  {
   "cell_type": "code",
   "execution_count": 169,
   "id": "9396f38b",
   "metadata": {},
   "outputs": [
    {
     "data": {
      "application/vnd.plotly.v1+json": {
       "config": {
        "plotlyServerURL": "https://plot.ly"
       },
       "data": [
        {
         "alignmentgroup": "True",
         "hovertemplate": "x=%{x}<br>y=%{y}<extra></extra>",
         "legendgroup": "",
         "marker": {
          "color": "#636efa",
          "pattern": {
           "shape": ""
          }
         },
         "name": "",
         "offsetgroup": "",
         "orientation": "v",
         "showlegend": false,
         "textposition": "auto",
         "type": "bar",
         "x": [
          "PSOE",
          "populares",
          "CiudadanosCs",
          "hermanntertsch",
          "Jorgebuxade",
          "PODEMOS",
          "oscar_puente_",
          "vox_es",
          "Tonicanto1",
          "ivanedlm",
          "sanchezcastejon",
          "MiguelUrban",
          "pablocasado_",
          "odonelorza2011",
          "Macarena_Olona",
          "PabloEchenique",
          "eledhmel",
          "Yolanda_Diaz_",
          "InesArrimadas",
          "ahorapodemos"
         ],
         "xaxis": "x",
         "y": [
          15678,
          11397,
          9191,
          6933,
          5917,
          5393,
          4936,
          4402,
          3822,
          3269,
          3072,
          3029,
          2961,
          2878,
          2872,
          2841,
          2630,
          2377,
          2374,
          2077
         ],
         "yaxis": "y"
        }
       ],
       "layout": {
        "barmode": "relative",
        "legend": {
         "tracegroupgap": 0
        },
        "margin": {
         "t": 60
        },
        "template": {
         "data": {
          "bar": [
           {
            "error_x": {
             "color": "#2a3f5f"
            },
            "error_y": {
             "color": "#2a3f5f"
            },
            "marker": {
             "line": {
              "color": "#E5ECF6",
              "width": 0.5
             },
             "pattern": {
              "fillmode": "overlay",
              "size": 10,
              "solidity": 0.2
             }
            },
            "type": "bar"
           }
          ],
          "barpolar": [
           {
            "marker": {
             "line": {
              "color": "#E5ECF6",
              "width": 0.5
             },
             "pattern": {
              "fillmode": "overlay",
              "size": 10,
              "solidity": 0.2
             }
            },
            "type": "barpolar"
           }
          ],
          "carpet": [
           {
            "aaxis": {
             "endlinecolor": "#2a3f5f",
             "gridcolor": "white",
             "linecolor": "white",
             "minorgridcolor": "white",
             "startlinecolor": "#2a3f5f"
            },
            "baxis": {
             "endlinecolor": "#2a3f5f",
             "gridcolor": "white",
             "linecolor": "white",
             "minorgridcolor": "white",
             "startlinecolor": "#2a3f5f"
            },
            "type": "carpet"
           }
          ],
          "choropleth": [
           {
            "colorbar": {
             "outlinewidth": 0,
             "ticks": ""
            },
            "type": "choropleth"
           }
          ],
          "contour": [
           {
            "colorbar": {
             "outlinewidth": 0,
             "ticks": ""
            },
            "colorscale": [
             [
              0,
              "#0d0887"
             ],
             [
              0.1111111111111111,
              "#46039f"
             ],
             [
              0.2222222222222222,
              "#7201a8"
             ],
             [
              0.3333333333333333,
              "#9c179e"
             ],
             [
              0.4444444444444444,
              "#bd3786"
             ],
             [
              0.5555555555555556,
              "#d8576b"
             ],
             [
              0.6666666666666666,
              "#ed7953"
             ],
             [
              0.7777777777777778,
              "#fb9f3a"
             ],
             [
              0.8888888888888888,
              "#fdca26"
             ],
             [
              1,
              "#f0f921"
             ]
            ],
            "type": "contour"
           }
          ],
          "contourcarpet": [
           {
            "colorbar": {
             "outlinewidth": 0,
             "ticks": ""
            },
            "type": "contourcarpet"
           }
          ],
          "heatmap": [
           {
            "colorbar": {
             "outlinewidth": 0,
             "ticks": ""
            },
            "colorscale": [
             [
              0,
              "#0d0887"
             ],
             [
              0.1111111111111111,
              "#46039f"
             ],
             [
              0.2222222222222222,
              "#7201a8"
             ],
             [
              0.3333333333333333,
              "#9c179e"
             ],
             [
              0.4444444444444444,
              "#bd3786"
             ],
             [
              0.5555555555555556,
              "#d8576b"
             ],
             [
              0.6666666666666666,
              "#ed7953"
             ],
             [
              0.7777777777777778,
              "#fb9f3a"
             ],
             [
              0.8888888888888888,
              "#fdca26"
             ],
             [
              1,
              "#f0f921"
             ]
            ],
            "type": "heatmap"
           }
          ],
          "heatmapgl": [
           {
            "colorbar": {
             "outlinewidth": 0,
             "ticks": ""
            },
            "colorscale": [
             [
              0,
              "#0d0887"
             ],
             [
              0.1111111111111111,
              "#46039f"
             ],
             [
              0.2222222222222222,
              "#7201a8"
             ],
             [
              0.3333333333333333,
              "#9c179e"
             ],
             [
              0.4444444444444444,
              "#bd3786"
             ],
             [
              0.5555555555555556,
              "#d8576b"
             ],
             [
              0.6666666666666666,
              "#ed7953"
             ],
             [
              0.7777777777777778,
              "#fb9f3a"
             ],
             [
              0.8888888888888888,
              "#fdca26"
             ],
             [
              1,
              "#f0f921"
             ]
            ],
            "type": "heatmapgl"
           }
          ],
          "histogram": [
           {
            "marker": {
             "pattern": {
              "fillmode": "overlay",
              "size": 10,
              "solidity": 0.2
             }
            },
            "type": "histogram"
           }
          ],
          "histogram2d": [
           {
            "colorbar": {
             "outlinewidth": 0,
             "ticks": ""
            },
            "colorscale": [
             [
              0,
              "#0d0887"
             ],
             [
              0.1111111111111111,
              "#46039f"
             ],
             [
              0.2222222222222222,
              "#7201a8"
             ],
             [
              0.3333333333333333,
              "#9c179e"
             ],
             [
              0.4444444444444444,
              "#bd3786"
             ],
             [
              0.5555555555555556,
              "#d8576b"
             ],
             [
              0.6666666666666666,
              "#ed7953"
             ],
             [
              0.7777777777777778,
              "#fb9f3a"
             ],
             [
              0.8888888888888888,
              "#fdca26"
             ],
             [
              1,
              "#f0f921"
             ]
            ],
            "type": "histogram2d"
           }
          ],
          "histogram2dcontour": [
           {
            "colorbar": {
             "outlinewidth": 0,
             "ticks": ""
            },
            "colorscale": [
             [
              0,
              "#0d0887"
             ],
             [
              0.1111111111111111,
              "#46039f"
             ],
             [
              0.2222222222222222,
              "#7201a8"
             ],
             [
              0.3333333333333333,
              "#9c179e"
             ],
             [
              0.4444444444444444,
              "#bd3786"
             ],
             [
              0.5555555555555556,
              "#d8576b"
             ],
             [
              0.6666666666666666,
              "#ed7953"
             ],
             [
              0.7777777777777778,
              "#fb9f3a"
             ],
             [
              0.8888888888888888,
              "#fdca26"
             ],
             [
              1,
              "#f0f921"
             ]
            ],
            "type": "histogram2dcontour"
           }
          ],
          "mesh3d": [
           {
            "colorbar": {
             "outlinewidth": 0,
             "ticks": ""
            },
            "type": "mesh3d"
           }
          ],
          "parcoords": [
           {
            "line": {
             "colorbar": {
              "outlinewidth": 0,
              "ticks": ""
             }
            },
            "type": "parcoords"
           }
          ],
          "pie": [
           {
            "automargin": true,
            "type": "pie"
           }
          ],
          "scatter": [
           {
            "fillpattern": {
             "fillmode": "overlay",
             "size": 10,
             "solidity": 0.2
            },
            "type": "scatter"
           }
          ],
          "scatter3d": [
           {
            "line": {
             "colorbar": {
              "outlinewidth": 0,
              "ticks": ""
             }
            },
            "marker": {
             "colorbar": {
              "outlinewidth": 0,
              "ticks": ""
             }
            },
            "type": "scatter3d"
           }
          ],
          "scattercarpet": [
           {
            "marker": {
             "colorbar": {
              "outlinewidth": 0,
              "ticks": ""
             }
            },
            "type": "scattercarpet"
           }
          ],
          "scattergeo": [
           {
            "marker": {
             "colorbar": {
              "outlinewidth": 0,
              "ticks": ""
             }
            },
            "type": "scattergeo"
           }
          ],
          "scattergl": [
           {
            "marker": {
             "colorbar": {
              "outlinewidth": 0,
              "ticks": ""
             }
            },
            "type": "scattergl"
           }
          ],
          "scattermapbox": [
           {
            "marker": {
             "colorbar": {
              "outlinewidth": 0,
              "ticks": ""
             }
            },
            "type": "scattermapbox"
           }
          ],
          "scatterpolar": [
           {
            "marker": {
             "colorbar": {
              "outlinewidth": 0,
              "ticks": ""
             }
            },
            "type": "scatterpolar"
           }
          ],
          "scatterpolargl": [
           {
            "marker": {
             "colorbar": {
              "outlinewidth": 0,
              "ticks": ""
             }
            },
            "type": "scatterpolargl"
           }
          ],
          "scatterternary": [
           {
            "marker": {
             "colorbar": {
              "outlinewidth": 0,
              "ticks": ""
             }
            },
            "type": "scatterternary"
           }
          ],
          "surface": [
           {
            "colorbar": {
             "outlinewidth": 0,
             "ticks": ""
            },
            "colorscale": [
             [
              0,
              "#0d0887"
             ],
             [
              0.1111111111111111,
              "#46039f"
             ],
             [
              0.2222222222222222,
              "#7201a8"
             ],
             [
              0.3333333333333333,
              "#9c179e"
             ],
             [
              0.4444444444444444,
              "#bd3786"
             ],
             [
              0.5555555555555556,
              "#d8576b"
             ],
             [
              0.6666666666666666,
              "#ed7953"
             ],
             [
              0.7777777777777778,
              "#fb9f3a"
             ],
             [
              0.8888888888888888,
              "#fdca26"
             ],
             [
              1,
              "#f0f921"
             ]
            ],
            "type": "surface"
           }
          ],
          "table": [
           {
            "cells": {
             "fill": {
              "color": "#EBF0F8"
             },
             "line": {
              "color": "white"
             }
            },
            "header": {
             "fill": {
              "color": "#C8D4E3"
             },
             "line": {
              "color": "white"
             }
            },
            "type": "table"
           }
          ]
         },
         "layout": {
          "annotationdefaults": {
           "arrowcolor": "#2a3f5f",
           "arrowhead": 0,
           "arrowwidth": 1
          },
          "autotypenumbers": "strict",
          "coloraxis": {
           "colorbar": {
            "outlinewidth": 0,
            "ticks": ""
           }
          },
          "colorscale": {
           "diverging": [
            [
             0,
             "#8e0152"
            ],
            [
             0.1,
             "#c51b7d"
            ],
            [
             0.2,
             "#de77ae"
            ],
            [
             0.3,
             "#f1b6da"
            ],
            [
             0.4,
             "#fde0ef"
            ],
            [
             0.5,
             "#f7f7f7"
            ],
            [
             0.6,
             "#e6f5d0"
            ],
            [
             0.7,
             "#b8e186"
            ],
            [
             0.8,
             "#7fbc41"
            ],
            [
             0.9,
             "#4d9221"
            ],
            [
             1,
             "#276419"
            ]
           ],
           "sequential": [
            [
             0,
             "#0d0887"
            ],
            [
             0.1111111111111111,
             "#46039f"
            ],
            [
             0.2222222222222222,
             "#7201a8"
            ],
            [
             0.3333333333333333,
             "#9c179e"
            ],
            [
             0.4444444444444444,
             "#bd3786"
            ],
            [
             0.5555555555555556,
             "#d8576b"
            ],
            [
             0.6666666666666666,
             "#ed7953"
            ],
            [
             0.7777777777777778,
             "#fb9f3a"
            ],
            [
             0.8888888888888888,
             "#fdca26"
            ],
            [
             1,
             "#f0f921"
            ]
           ],
           "sequentialminus": [
            [
             0,
             "#0d0887"
            ],
            [
             0.1111111111111111,
             "#46039f"
            ],
            [
             0.2222222222222222,
             "#7201a8"
            ],
            [
             0.3333333333333333,
             "#9c179e"
            ],
            [
             0.4444444444444444,
             "#bd3786"
            ],
            [
             0.5555555555555556,
             "#d8576b"
            ],
            [
             0.6666666666666666,
             "#ed7953"
            ],
            [
             0.7777777777777778,
             "#fb9f3a"
            ],
            [
             0.8888888888888888,
             "#fdca26"
            ],
            [
             1,
             "#f0f921"
            ]
           ]
          },
          "colorway": [
           "#636efa",
           "#EF553B",
           "#00cc96",
           "#ab63fa",
           "#FFA15A",
           "#19d3f3",
           "#FF6692",
           "#B6E880",
           "#FF97FF",
           "#FECB52"
          ],
          "font": {
           "color": "#2a3f5f"
          },
          "geo": {
           "bgcolor": "white",
           "lakecolor": "white",
           "landcolor": "#E5ECF6",
           "showlakes": true,
           "showland": true,
           "subunitcolor": "white"
          },
          "hoverlabel": {
           "align": "left"
          },
          "hovermode": "closest",
          "mapbox": {
           "style": "light"
          },
          "paper_bgcolor": "white",
          "plot_bgcolor": "#E5ECF6",
          "polar": {
           "angularaxis": {
            "gridcolor": "white",
            "linecolor": "white",
            "ticks": ""
           },
           "bgcolor": "#E5ECF6",
           "radialaxis": {
            "gridcolor": "white",
            "linecolor": "white",
            "ticks": ""
           }
          },
          "scene": {
           "xaxis": {
            "backgroundcolor": "#E5ECF6",
            "gridcolor": "white",
            "gridwidth": 2,
            "linecolor": "white",
            "showbackground": true,
            "ticks": "",
            "zerolinecolor": "white"
           },
           "yaxis": {
            "backgroundcolor": "#E5ECF6",
            "gridcolor": "white",
            "gridwidth": 2,
            "linecolor": "white",
            "showbackground": true,
            "ticks": "",
            "zerolinecolor": "white"
           },
           "zaxis": {
            "backgroundcolor": "#E5ECF6",
            "gridcolor": "white",
            "gridwidth": 2,
            "linecolor": "white",
            "showbackground": true,
            "ticks": "",
            "zerolinecolor": "white"
           }
          },
          "shapedefaults": {
           "line": {
            "color": "#2a3f5f"
           }
          },
          "ternary": {
           "aaxis": {
            "gridcolor": "white",
            "linecolor": "white",
            "ticks": ""
           },
           "baxis": {
            "gridcolor": "white",
            "linecolor": "white",
            "ticks": ""
           },
           "bgcolor": "#E5ECF6",
           "caxis": {
            "gridcolor": "white",
            "linecolor": "white",
            "ticks": ""
           }
          },
          "title": {
           "x": 0.05
          },
          "xaxis": {
           "automargin": true,
           "gridcolor": "white",
           "linecolor": "white",
           "ticks": "",
           "title": {
            "standoff": 15
           },
           "zerolinecolor": "white",
           "zerolinewidth": 2
          },
          "yaxis": {
           "automargin": true,
           "gridcolor": "white",
           "linecolor": "white",
           "ticks": "",
           "title": {
            "standoff": 15
           },
           "zerolinecolor": "white",
           "zerolinewidth": 2
          }
         }
        },
        "title": {
         "text": "Gráfico de Barras top 20 tweets "
        },
        "xaxis": {
         "anchor": "y",
         "domain": [
          0,
          1
         ],
         "title": {
          "text": "Autores"
         }
        },
        "yaxis": {
         "anchor": "x",
         "domain": [
          0,
          1
         ],
         "title": {
          "text": "frecuencia"
         }
        }
       }
      }
     },
     "metadata": {},
     "output_type": "display_data"
    }
   ],
   "source": [
    "\n",
    "fig = px.bar(x=top20[\"Palabra\"], y=top20[\"Frecuencia\"])\n",
    "\n",
    "fig.update_layout(\n",
    "    yaxis_title='frecuencia', # label eje x\n",
    "    xaxis_title = \"Autores\", # label eje y\n",
    "    title = \"Gráfico de Barras top 20 tweets \" # label título \n",
    ")"
   ]
  },
  {
   "cell_type": "code",
   "execution_count": 170,
   "id": "4b77b2c7",
   "metadata": {},
   "outputs": [
    {
     "data": {
      "application/vnd.plotly.v1+json": {
       "config": {
        "plotlyServerURL": "https://plot.ly"
       },
       "data": [
        {
         "hovertemplate": "x=%{x}<br>y=%{y}<extra></extra>",
         "legendgroup": "",
         "line": {
          "color": "#636efa",
          "dash": "solid"
         },
         "marker": {
          "symbol": "circle"
         },
         "mode": "lines",
         "name": "",
         "orientation": "v",
         "showlegend": false,
         "type": "scatter",
         "x": [
          "PSOE",
          "populares",
          "CiudadanosCs",
          "hermanntertsch",
          "Jorgebuxade",
          "PODEMOS",
          "oscar_puente_",
          "vox_es",
          "Tonicanto1",
          "ivanedlm",
          "sanchezcastejon",
          "MiguelUrban",
          "pablocasado_",
          "odonelorza2011",
          "Macarena_Olona",
          "PabloEchenique",
          "eledhmel",
          "Yolanda_Diaz_",
          "InesArrimadas",
          "ahorapodemos"
         ],
         "xaxis": "x",
         "y": [
          15678,
          11397,
          9191,
          6933,
          5917,
          5393,
          4936,
          4402,
          3822,
          3269,
          3072,
          3029,
          2961,
          2878,
          2872,
          2841,
          2630,
          2377,
          2374,
          2077
         ],
         "yaxis": "y"
        }
       ],
       "layout": {
        "legend": {
         "tracegroupgap": 0
        },
        "margin": {
         "t": 60
        },
        "template": {
         "data": {
          "bar": [
           {
            "error_x": {
             "color": "#2a3f5f"
            },
            "error_y": {
             "color": "#2a3f5f"
            },
            "marker": {
             "line": {
              "color": "#E5ECF6",
              "width": 0.5
             },
             "pattern": {
              "fillmode": "overlay",
              "size": 10,
              "solidity": 0.2
             }
            },
            "type": "bar"
           }
          ],
          "barpolar": [
           {
            "marker": {
             "line": {
              "color": "#E5ECF6",
              "width": 0.5
             },
             "pattern": {
              "fillmode": "overlay",
              "size": 10,
              "solidity": 0.2
             }
            },
            "type": "barpolar"
           }
          ],
          "carpet": [
           {
            "aaxis": {
             "endlinecolor": "#2a3f5f",
             "gridcolor": "white",
             "linecolor": "white",
             "minorgridcolor": "white",
             "startlinecolor": "#2a3f5f"
            },
            "baxis": {
             "endlinecolor": "#2a3f5f",
             "gridcolor": "white",
             "linecolor": "white",
             "minorgridcolor": "white",
             "startlinecolor": "#2a3f5f"
            },
            "type": "carpet"
           }
          ],
          "choropleth": [
           {
            "colorbar": {
             "outlinewidth": 0,
             "ticks": ""
            },
            "type": "choropleth"
           }
          ],
          "contour": [
           {
            "colorbar": {
             "outlinewidth": 0,
             "ticks": ""
            },
            "colorscale": [
             [
              0,
              "#0d0887"
             ],
             [
              0.1111111111111111,
              "#46039f"
             ],
             [
              0.2222222222222222,
              "#7201a8"
             ],
             [
              0.3333333333333333,
              "#9c179e"
             ],
             [
              0.4444444444444444,
              "#bd3786"
             ],
             [
              0.5555555555555556,
              "#d8576b"
             ],
             [
              0.6666666666666666,
              "#ed7953"
             ],
             [
              0.7777777777777778,
              "#fb9f3a"
             ],
             [
              0.8888888888888888,
              "#fdca26"
             ],
             [
              1,
              "#f0f921"
             ]
            ],
            "type": "contour"
           }
          ],
          "contourcarpet": [
           {
            "colorbar": {
             "outlinewidth": 0,
             "ticks": ""
            },
            "type": "contourcarpet"
           }
          ],
          "heatmap": [
           {
            "colorbar": {
             "outlinewidth": 0,
             "ticks": ""
            },
            "colorscale": [
             [
              0,
              "#0d0887"
             ],
             [
              0.1111111111111111,
              "#46039f"
             ],
             [
              0.2222222222222222,
              "#7201a8"
             ],
             [
              0.3333333333333333,
              "#9c179e"
             ],
             [
              0.4444444444444444,
              "#bd3786"
             ],
             [
              0.5555555555555556,
              "#d8576b"
             ],
             [
              0.6666666666666666,
              "#ed7953"
             ],
             [
              0.7777777777777778,
              "#fb9f3a"
             ],
             [
              0.8888888888888888,
              "#fdca26"
             ],
             [
              1,
              "#f0f921"
             ]
            ],
            "type": "heatmap"
           }
          ],
          "heatmapgl": [
           {
            "colorbar": {
             "outlinewidth": 0,
             "ticks": ""
            },
            "colorscale": [
             [
              0,
              "#0d0887"
             ],
             [
              0.1111111111111111,
              "#46039f"
             ],
             [
              0.2222222222222222,
              "#7201a8"
             ],
             [
              0.3333333333333333,
              "#9c179e"
             ],
             [
              0.4444444444444444,
              "#bd3786"
             ],
             [
              0.5555555555555556,
              "#d8576b"
             ],
             [
              0.6666666666666666,
              "#ed7953"
             ],
             [
              0.7777777777777778,
              "#fb9f3a"
             ],
             [
              0.8888888888888888,
              "#fdca26"
             ],
             [
              1,
              "#f0f921"
             ]
            ],
            "type": "heatmapgl"
           }
          ],
          "histogram": [
           {
            "marker": {
             "pattern": {
              "fillmode": "overlay",
              "size": 10,
              "solidity": 0.2
             }
            },
            "type": "histogram"
           }
          ],
          "histogram2d": [
           {
            "colorbar": {
             "outlinewidth": 0,
             "ticks": ""
            },
            "colorscale": [
             [
              0,
              "#0d0887"
             ],
             [
              0.1111111111111111,
              "#46039f"
             ],
             [
              0.2222222222222222,
              "#7201a8"
             ],
             [
              0.3333333333333333,
              "#9c179e"
             ],
             [
              0.4444444444444444,
              "#bd3786"
             ],
             [
              0.5555555555555556,
              "#d8576b"
             ],
             [
              0.6666666666666666,
              "#ed7953"
             ],
             [
              0.7777777777777778,
              "#fb9f3a"
             ],
             [
              0.8888888888888888,
              "#fdca26"
             ],
             [
              1,
              "#f0f921"
             ]
            ],
            "type": "histogram2d"
           }
          ],
          "histogram2dcontour": [
           {
            "colorbar": {
             "outlinewidth": 0,
             "ticks": ""
            },
            "colorscale": [
             [
              0,
              "#0d0887"
             ],
             [
              0.1111111111111111,
              "#46039f"
             ],
             [
              0.2222222222222222,
              "#7201a8"
             ],
             [
              0.3333333333333333,
              "#9c179e"
             ],
             [
              0.4444444444444444,
              "#bd3786"
             ],
             [
              0.5555555555555556,
              "#d8576b"
             ],
             [
              0.6666666666666666,
              "#ed7953"
             ],
             [
              0.7777777777777778,
              "#fb9f3a"
             ],
             [
              0.8888888888888888,
              "#fdca26"
             ],
             [
              1,
              "#f0f921"
             ]
            ],
            "type": "histogram2dcontour"
           }
          ],
          "mesh3d": [
           {
            "colorbar": {
             "outlinewidth": 0,
             "ticks": ""
            },
            "type": "mesh3d"
           }
          ],
          "parcoords": [
           {
            "line": {
             "colorbar": {
              "outlinewidth": 0,
              "ticks": ""
             }
            },
            "type": "parcoords"
           }
          ],
          "pie": [
           {
            "automargin": true,
            "type": "pie"
           }
          ],
          "scatter": [
           {
            "fillpattern": {
             "fillmode": "overlay",
             "size": 10,
             "solidity": 0.2
            },
            "type": "scatter"
           }
          ],
          "scatter3d": [
           {
            "line": {
             "colorbar": {
              "outlinewidth": 0,
              "ticks": ""
             }
            },
            "marker": {
             "colorbar": {
              "outlinewidth": 0,
              "ticks": ""
             }
            },
            "type": "scatter3d"
           }
          ],
          "scattercarpet": [
           {
            "marker": {
             "colorbar": {
              "outlinewidth": 0,
              "ticks": ""
             }
            },
            "type": "scattercarpet"
           }
          ],
          "scattergeo": [
           {
            "marker": {
             "colorbar": {
              "outlinewidth": 0,
              "ticks": ""
             }
            },
            "type": "scattergeo"
           }
          ],
          "scattergl": [
           {
            "marker": {
             "colorbar": {
              "outlinewidth": 0,
              "ticks": ""
             }
            },
            "type": "scattergl"
           }
          ],
          "scattermapbox": [
           {
            "marker": {
             "colorbar": {
              "outlinewidth": 0,
              "ticks": ""
             }
            },
            "type": "scattermapbox"
           }
          ],
          "scatterpolar": [
           {
            "marker": {
             "colorbar": {
              "outlinewidth": 0,
              "ticks": ""
             }
            },
            "type": "scatterpolar"
           }
          ],
          "scatterpolargl": [
           {
            "marker": {
             "colorbar": {
              "outlinewidth": 0,
              "ticks": ""
             }
            },
            "type": "scatterpolargl"
           }
          ],
          "scatterternary": [
           {
            "marker": {
             "colorbar": {
              "outlinewidth": 0,
              "ticks": ""
             }
            },
            "type": "scatterternary"
           }
          ],
          "surface": [
           {
            "colorbar": {
             "outlinewidth": 0,
             "ticks": ""
            },
            "colorscale": [
             [
              0,
              "#0d0887"
             ],
             [
              0.1111111111111111,
              "#46039f"
             ],
             [
              0.2222222222222222,
              "#7201a8"
             ],
             [
              0.3333333333333333,
              "#9c179e"
             ],
             [
              0.4444444444444444,
              "#bd3786"
             ],
             [
              0.5555555555555556,
              "#d8576b"
             ],
             [
              0.6666666666666666,
              "#ed7953"
             ],
             [
              0.7777777777777778,
              "#fb9f3a"
             ],
             [
              0.8888888888888888,
              "#fdca26"
             ],
             [
              1,
              "#f0f921"
             ]
            ],
            "type": "surface"
           }
          ],
          "table": [
           {
            "cells": {
             "fill": {
              "color": "#EBF0F8"
             },
             "line": {
              "color": "white"
             }
            },
            "header": {
             "fill": {
              "color": "#C8D4E3"
             },
             "line": {
              "color": "white"
             }
            },
            "type": "table"
           }
          ]
         },
         "layout": {
          "annotationdefaults": {
           "arrowcolor": "#2a3f5f",
           "arrowhead": 0,
           "arrowwidth": 1
          },
          "autotypenumbers": "strict",
          "coloraxis": {
           "colorbar": {
            "outlinewidth": 0,
            "ticks": ""
           }
          },
          "colorscale": {
           "diverging": [
            [
             0,
             "#8e0152"
            ],
            [
             0.1,
             "#c51b7d"
            ],
            [
             0.2,
             "#de77ae"
            ],
            [
             0.3,
             "#f1b6da"
            ],
            [
             0.4,
             "#fde0ef"
            ],
            [
             0.5,
             "#f7f7f7"
            ],
            [
             0.6,
             "#e6f5d0"
            ],
            [
             0.7,
             "#b8e186"
            ],
            [
             0.8,
             "#7fbc41"
            ],
            [
             0.9,
             "#4d9221"
            ],
            [
             1,
             "#276419"
            ]
           ],
           "sequential": [
            [
             0,
             "#0d0887"
            ],
            [
             0.1111111111111111,
             "#46039f"
            ],
            [
             0.2222222222222222,
             "#7201a8"
            ],
            [
             0.3333333333333333,
             "#9c179e"
            ],
            [
             0.4444444444444444,
             "#bd3786"
            ],
            [
             0.5555555555555556,
             "#d8576b"
            ],
            [
             0.6666666666666666,
             "#ed7953"
            ],
            [
             0.7777777777777778,
             "#fb9f3a"
            ],
            [
             0.8888888888888888,
             "#fdca26"
            ],
            [
             1,
             "#f0f921"
            ]
           ],
           "sequentialminus": [
            [
             0,
             "#0d0887"
            ],
            [
             0.1111111111111111,
             "#46039f"
            ],
            [
             0.2222222222222222,
             "#7201a8"
            ],
            [
             0.3333333333333333,
             "#9c179e"
            ],
            [
             0.4444444444444444,
             "#bd3786"
            ],
            [
             0.5555555555555556,
             "#d8576b"
            ],
            [
             0.6666666666666666,
             "#ed7953"
            ],
            [
             0.7777777777777778,
             "#fb9f3a"
            ],
            [
             0.8888888888888888,
             "#fdca26"
            ],
            [
             1,
             "#f0f921"
            ]
           ]
          },
          "colorway": [
           "#636efa",
           "#EF553B",
           "#00cc96",
           "#ab63fa",
           "#FFA15A",
           "#19d3f3",
           "#FF6692",
           "#B6E880",
           "#FF97FF",
           "#FECB52"
          ],
          "font": {
           "color": "#2a3f5f"
          },
          "geo": {
           "bgcolor": "white",
           "lakecolor": "white",
           "landcolor": "#E5ECF6",
           "showlakes": true,
           "showland": true,
           "subunitcolor": "white"
          },
          "hoverlabel": {
           "align": "left"
          },
          "hovermode": "closest",
          "mapbox": {
           "style": "light"
          },
          "paper_bgcolor": "white",
          "plot_bgcolor": "#E5ECF6",
          "polar": {
           "angularaxis": {
            "gridcolor": "white",
            "linecolor": "white",
            "ticks": ""
           },
           "bgcolor": "#E5ECF6",
           "radialaxis": {
            "gridcolor": "white",
            "linecolor": "white",
            "ticks": ""
           }
          },
          "scene": {
           "xaxis": {
            "backgroundcolor": "#E5ECF6",
            "gridcolor": "white",
            "gridwidth": 2,
            "linecolor": "white",
            "showbackground": true,
            "ticks": "",
            "zerolinecolor": "white"
           },
           "yaxis": {
            "backgroundcolor": "#E5ECF6",
            "gridcolor": "white",
            "gridwidth": 2,
            "linecolor": "white",
            "showbackground": true,
            "ticks": "",
            "zerolinecolor": "white"
           },
           "zaxis": {
            "backgroundcolor": "#E5ECF6",
            "gridcolor": "white",
            "gridwidth": 2,
            "linecolor": "white",
            "showbackground": true,
            "ticks": "",
            "zerolinecolor": "white"
           }
          },
          "shapedefaults": {
           "line": {
            "color": "#2a3f5f"
           }
          },
          "ternary": {
           "aaxis": {
            "gridcolor": "white",
            "linecolor": "white",
            "ticks": ""
           },
           "baxis": {
            "gridcolor": "white",
            "linecolor": "white",
            "ticks": ""
           },
           "bgcolor": "#E5ECF6",
           "caxis": {
            "gridcolor": "white",
            "linecolor": "white",
            "ticks": ""
           }
          },
          "title": {
           "x": 0.05
          },
          "xaxis": {
           "automargin": true,
           "gridcolor": "white",
           "linecolor": "white",
           "ticks": "",
           "title": {
            "standoff": 15
           },
           "zerolinecolor": "white",
           "zerolinewidth": 2
          },
          "yaxis": {
           "automargin": true,
           "gridcolor": "white",
           "linecolor": "white",
           "ticks": "",
           "title": {
            "standoff": 15
           },
           "zerolinecolor": "white",
           "zerolinewidth": 2
          }
         }
        },
        "title": {
         "text": "Gráfico de lineas top 20 tweets "
        },
        "xaxis": {
         "anchor": "y",
         "domain": [
          0,
          1
         ],
         "title": {
          "text": "Autores"
         }
        },
        "yaxis": {
         "anchor": "x",
         "domain": [
          0,
          1
         ],
         "title": {
          "text": "frecuencia"
         }
        }
       }
      }
     },
     "metadata": {},
     "output_type": "display_data"
    }
   ],
   "source": [
    "fig_lineas = px.line(x=top20[\"Palabra\"], y=top20[\"Frecuencia\"])\n",
    "\n",
    "fig_lineas.update_layout(\n",
    "    yaxis_title='frecuencia', # label eje x\n",
    "    xaxis_title = \"Autores\", # label eje y\n",
    "    title = \"Gráfico de lineas top 20 tweets \" # label título \n",
    ")\n",
    "fig_lineas.show()"
   ]
  },
  {
   "attachments": {},
   "cell_type": "markdown",
   "id": "277c11b5",
   "metadata": {},
   "source": [
    "Las 5 cuentas que mas tweetean son PSOE, populares, CiudadanosCs, hermanntertsch y Jordebuxade. Tal como se puede apreciar en las dos graficas y tabla de frecuencias."
   ]
  },
  {
   "attachments": {},
   "cell_type": "markdown",
   "id": "078594c8",
   "metadata": {},
   "source": [
    "En relación con el item anterior se identifica que analizando todos los tweets, PSOE subio a ser el primer autor con mas tweets, populares se mantiene en el segundo lugar, CiudadanosCs baja al tercer lugar, ahorapodemos pasa al puesto 20 y pablocasado no esta en el top 20 de las personas que mas publican."
   ]
  },
  {
   "attachments": {},
   "cell_type": "markdown",
   "id": "68c7b683",
   "metadata": {},
   "source": [
    "+ Haga una nube de palabras donde se muestre el hashtag más posteado en los 500 tweets. ¿Cuántas veces fue posteado en los 500 tweets y en la base total?"
   ]
  },
  {
   "cell_type": "code",
   "execution_count": 171,
   "id": "fc8e2779",
   "metadata": {},
   "outputs": [],
   "source": [
    "import re\n",
    "def hashtags(tweet) -> list[str]:\n",
    "    return re.findall(r'#\\w+', tweet)"
   ]
  },
  {
   "cell_type": "code",
   "execution_count": 172,
   "id": "1f82b2dd",
   "metadata": {},
   "outputs": [
    {
     "name": "stdout",
     "output_type": "stream",
     "text": [
      "{'#LibertadDePrensa': 3, '#FelizViernes': 1, '#2DeMayo': 3, '#2deMayo': 4, '#TejerinaEnOndaCero': 2, '#TejerinaEnOndaCeroSíguela': 1, '#EsHerrero': 2, '#28A': 24, '#España': 7, '#ÚLTIMAHORA': 1, '#EleccionesGenerales28A': 16, '#MásPPMásEspaña': 7, '#VotaPP': 36, '#ElVotoQueNosUne': 15, '#ValorSeguro': 31, '#ElVotoSeUne': 3, '#FinCampañaESP': 5, '#CasadoConFJL': 3, '#CMIN': 1, '#DíaConvenciónDiscapacidadRecordar': 1, '#PGE2019': 1, '#LosDesayunos': 6, '#AcosoEscolar': 1, '#StopBullying': 2, '#140AñosPSOE': 16, '#estabilidad': 1, '#progreso': 1, '#igualdad': 2, '#PSOE': 21, '#140añosPSOE': 2, '#ComunidadDeMadrid': 1, '#2demayo': 3, '#libertad': 1, '#justiciasocial': 1, '#140AniversarioPSOE': 1, '#1demayo': 5, '#DíadelTrabajador': 1, '#Madrid': 1, '#derechossociales': 2, '#derechoslaborales': 2, '#PrimeroLasPersonas': 4, '#DíadelTrabajo': 3, '#DiaDelTrabajador': 2, '#1Mayo': 2, '#CMin': 5, '#28ALa': 1, '#HicisteisQuePasara': 37, '#26M': 4, '#PP': 1, '#Cs': 1, '#EnDirecto': 4, '#Ferraz': 3, '#ElDíaDespuésARV': 5, '#Constitución': 1, '#28APSOE': 5, '#HazQuePase': 1, '#EstamosMuyCerca': 1, '#GarridoAR': 3, '#2MayoPolíticoARV': 2, '#VamosMadrid': 1, '#VenezuelaLibre': 1, '#RiveraAR': 11, '#VamosCiudadanos': 3, '#OlaNaranja': 61, '#PGE': 1, '#EquiparacionSalarial': 1, '#EspañaVaciada': 2, '#PresupuestosFAKE': 1, '#PPSOE': 1, '#EleccionesGenerales': 2, '#26deMayo': 1, '#ActualidadCs': 7, '#Resultados28AR': 4, '#EquipoNaranja': 1, '#1Mayo2019': 1, '#1deMayo': 1, '#HoyUnidasPodemos': 5, '#28AUnidasPodemos': 6, '#JornadaDeReflexión': 1, '#FelizSábado': 1, '#EstaHistoriaLaEscribesTú': 44, '#ElDebateDecisivo': 6, '#TodoEsMentira77': 1, '#LaHistoriaLaEscribesTú': 22, '#IreneEnMálaga': 3, '#DíaDelTrabajo': 1, '#PremioPrincesadeAsturias': 1, '#vota': 1, '#FelizDomingo': 2, '#28DeAbril': 1, '#EPA': 1, '#ParoSánchez': 2, '#CaféDecisivoCasado': 1, '#ELDEBATEenRTVE': 4}\n"
     ]
    }
   ],
   "source": [
    "frecuencias = {}\n",
    "for tweet in data[:500][\"tweet\"]:\n",
    "    for hashtag in hashtags(tweet):\n",
    "        frecuencias[hashtag] = frecuencias.get(hashtag, 0) + 1\n",
    "        \n",
    "print(frecuencias)"
   ]
  },
  {
   "cell_type": "code",
   "execution_count": 173,
   "id": "a8c89566",
   "metadata": {},
   "outputs": [
    {
     "data": {
      "text/html": [
       "<div>\n",
       "<style scoped>\n",
       "    .dataframe tbody tr th:only-of-type {\n",
       "        vertical-align: middle;\n",
       "    }\n",
       "\n",
       "    .dataframe tbody tr th {\n",
       "        vertical-align: top;\n",
       "    }\n",
       "\n",
       "    .dataframe thead th {\n",
       "        text-align: right;\n",
       "    }\n",
       "</style>\n",
       "<table border=\"1\" class=\"dataframe\">\n",
       "  <thead>\n",
       "    <tr style=\"text-align: right;\">\n",
       "      <th></th>\n",
       "      <th>tweet</th>\n",
       "      <th>Frecuencia</th>\n",
       "    </tr>\n",
       "  </thead>\n",
       "  <tbody>\n",
       "    <tr>\n",
       "      <th>0</th>\n",
       "      <td>#LibertadDePrensa</td>\n",
       "      <td>3</td>\n",
       "    </tr>\n",
       "    <tr>\n",
       "      <th>1</th>\n",
       "      <td>#FelizViernes</td>\n",
       "      <td>1</td>\n",
       "    </tr>\n",
       "    <tr>\n",
       "      <th>2</th>\n",
       "      <td>#2DeMayo</td>\n",
       "      <td>3</td>\n",
       "    </tr>\n",
       "    <tr>\n",
       "      <th>3</th>\n",
       "      <td>#2deMayo</td>\n",
       "      <td>4</td>\n",
       "    </tr>\n",
       "    <tr>\n",
       "      <th>4</th>\n",
       "      <td>#TejerinaEnOndaCero</td>\n",
       "      <td>2</td>\n",
       "    </tr>\n",
       "    <tr>\n",
       "      <th>5</th>\n",
       "      <td>#TejerinaEnOndaCeroSíguela</td>\n",
       "      <td>1</td>\n",
       "    </tr>\n",
       "    <tr>\n",
       "      <th>6</th>\n",
       "      <td>#EsHerrero</td>\n",
       "      <td>2</td>\n",
       "    </tr>\n",
       "    <tr>\n",
       "      <th>7</th>\n",
       "      <td>#28A</td>\n",
       "      <td>24</td>\n",
       "    </tr>\n",
       "    <tr>\n",
       "      <th>8</th>\n",
       "      <td>#España</td>\n",
       "      <td>7</td>\n",
       "    </tr>\n",
       "    <tr>\n",
       "      <th>9</th>\n",
       "      <td>#ÚLTIMAHORA</td>\n",
       "      <td>1</td>\n",
       "    </tr>\n",
       "    <tr>\n",
       "      <th>10</th>\n",
       "      <td>#EleccionesGenerales28A</td>\n",
       "      <td>16</td>\n",
       "    </tr>\n",
       "    <tr>\n",
       "      <th>11</th>\n",
       "      <td>#MásPPMásEspaña</td>\n",
       "      <td>7</td>\n",
       "    </tr>\n",
       "    <tr>\n",
       "      <th>12</th>\n",
       "      <td>#VotaPP</td>\n",
       "      <td>36</td>\n",
       "    </tr>\n",
       "    <tr>\n",
       "      <th>13</th>\n",
       "      <td>#ElVotoQueNosUne</td>\n",
       "      <td>15</td>\n",
       "    </tr>\n",
       "    <tr>\n",
       "      <th>14</th>\n",
       "      <td>#ValorSeguro</td>\n",
       "      <td>31</td>\n",
       "    </tr>\n",
       "    <tr>\n",
       "      <th>15</th>\n",
       "      <td>#ElVotoSeUne</td>\n",
       "      <td>3</td>\n",
       "    </tr>\n",
       "    <tr>\n",
       "      <th>16</th>\n",
       "      <td>#FinCampañaESP</td>\n",
       "      <td>5</td>\n",
       "    </tr>\n",
       "    <tr>\n",
       "      <th>17</th>\n",
       "      <td>#CasadoConFJL</td>\n",
       "      <td>3</td>\n",
       "    </tr>\n",
       "    <tr>\n",
       "      <th>18</th>\n",
       "      <td>#CMIN</td>\n",
       "      <td>1</td>\n",
       "    </tr>\n",
       "    <tr>\n",
       "      <th>19</th>\n",
       "      <td>#DíaConvenciónDiscapacidadRecordar</td>\n",
       "      <td>1</td>\n",
       "    </tr>\n",
       "  </tbody>\n",
       "</table>\n",
       "</div>"
      ],
      "text/plain": [
       "                                 tweet  Frecuencia\n",
       "0                    #LibertadDePrensa           3\n",
       "1                        #FelizViernes           1\n",
       "2                             #2DeMayo           3\n",
       "3                             #2deMayo           4\n",
       "4                  #TejerinaEnOndaCero           2\n",
       "5           #TejerinaEnOndaCeroSíguela           1\n",
       "6                           #EsHerrero           2\n",
       "7                                 #28A          24\n",
       "8                              #España           7\n",
       "9                          #ÚLTIMAHORA           1\n",
       "10             #EleccionesGenerales28A          16\n",
       "11                     #MásPPMásEspaña           7\n",
       "12                             #VotaPP          36\n",
       "13                    #ElVotoQueNosUne          15\n",
       "14                        #ValorSeguro          31\n",
       "15                        #ElVotoSeUne           3\n",
       "16                      #FinCampañaESP           5\n",
       "17                       #CasadoConFJL           3\n",
       "18                               #CMIN           1\n",
       "19  #DíaConvenciónDiscapacidadRecordar           1"
      ]
     },
     "execution_count": 173,
     "metadata": {},
     "output_type": "execute_result"
    }
   ],
   "source": [
    "df = pd.DataFrame([[key, frecuencias[key]]\n",
    "                  for key in frecuencias.keys()], columns=['tweet', 'Frecuencia'])\n",
    "df.head(20) #Para observar que sirve vamos a ver 20 \n"
   ]
  },
  {
   "cell_type": "code",
   "execution_count": 174,
   "id": "f86a311e",
   "metadata": {},
   "outputs": [],
   "source": [
    "import matplotlib.pyplot as plt\n"
   ]
  },
  {
   "cell_type": "code",
   "execution_count": 175,
   "id": "e61270bd",
   "metadata": {},
   "outputs": [
    {
     "data": {
      "image/png": "[encoded data removed]",
      "text/plain": [
       "<Figure size 720x720 with 1 Axes>"
      ]
     },
     "metadata": {
      "needs_background": "light"
     },
     "output_type": "display_data"
    }
   ],
   "source": [
    "wordcloud = WordCloud(max_font_size=50, max_words=100, background_color=\"white\").generate_from_frequencies(frecuencias)\n",
    "plt.figure(figsize=(10, 10))\n",
    "plt.imshow(wordcloud, interpolation=\"bilinear\")\n",
    "plt.axis(\"off\")\n",
    "plt.show()"
   ]
  },
  {
   "cell_type": "code",
   "execution_count": 176,
   "id": "a27fdf4b",
   "metadata": {},
   "outputs": [],
   "source": [
    "# Guarde la imagen en .png o .jpg para y cárguela en la carpeta\n",
    "wordcloud.to_image().save(\"NubeDePalabras.png\")"
   ]
  },
  {
   "attachments": {},
   "cell_type": "markdown",
   "id": "f740f3e1",
   "metadata": {},
   "source": [
    " +¿Se puede cambiar la forma de la nube de palabras a una imagen personalizada?"
   ]
  },
  {
   "attachments": {},
   "cell_type": "markdown",
   "id": "92813daa",
   "metadata": {},
   "source": [
    "Si, se puede personalizar la imagen para hacer la nube de palabras, usando la opción mask."
   ]
  },
  {
   "attachments": {},
   "cell_type": "markdown",
   "id": "838dcf22",
   "metadata": {},
   "source": [
    "# PUNTO 2"
   ]
  },
  {
   "cell_type": "code",
   "execution_count": 177,
   "id": "fd924983",
   "metadata": {},
   "outputs": [
    {
     "name": "stderr",
     "output_type": "stream",
     "text": [
      "[nltk_data] Downloading package punkt to\n",
      "[nltk_data]     C:\\Users\\bizan\\AppData\\Roaming\\nltk_data...\n",
      "[nltk_data]   Package punkt is already up-to-date!\n",
      "[nltk_data] Downloading package stopwords to\n",
      "[nltk_data]     C:\\Users\\bizan\\AppData\\Roaming\\nltk_data...\n",
      "[nltk_data]   Package stopwords is already up-to-date!\n",
      "[nltk_data] Downloading package averaged_perceptron_tagger to\n",
      "[nltk_data]     C:\\Users\\bizan\\AppData\\Roaming\\nltk_data...\n",
      "[nltk_data]   Package averaged_perceptron_tagger is already up-to-\n",
      "[nltk_data]       date!\n"
     ]
    },
    {
     "data": {
      "text/plain": [
       "True"
      ]
     },
     "execution_count": 177,
     "metadata": {},
     "output_type": "execute_result"
    }
   ],
   "source": [
    "import nltk\n",
    "from nltk.corpus import stopwords\n",
    "import itertools\n",
    "import re\n",
    "\n",
    "nltk.download('punkt')\n",
    "nltk.download('stopwords')\n",
    "nltk.download('averaged_perceptron_tagger')\n"
   ]
  },
  {
   "attachments": {},
   "cell_type": "markdown",
   "id": "56293be5",
   "metadata": {},
   "source": [
    "#### Pasamos a minusculas el texto"
   ]
  },
  {
   "cell_type": "code",
   "execution_count": 178,
   "id": "9329c0a9",
   "metadata": {},
   "outputs": [],
   "source": [
    "# Pasamos a minusculas el texto\n",
    "text_GGM=open(\"Cien_años_GGM.txt\",encoding=\"utf-8\")\n",
    "text_GGM=text_GGM.read()"
   ]
  },
  {
   "cell_type": "code",
   "execution_count": 179,
   "id": "0503ebb2",
   "metadata": {},
   "outputs": [
    {
     "name": "stdout",
     "output_type": "stream",
     "text": [
      "El numero de palabras que tiene el fracmento del texto es de:  4306\n",
      "El numero de oraciones que tiene el fracmento del texto es de:  133\n"
     ]
    }
   ],
   "source": [
    "# item 2\n",
    "words = nltk.word_tokenize(text_GGM)\n",
    "sents = nltk.sent_tokenize(text_GGM)\n",
    "print(\"El numero de palabras que tiene el fracmento del texto es de: \", len(words))\n",
    "print(\"El numero de oraciones que tiene el fracmento del texto es de: \", len(sents))\n"
   ]
  },
  {
   "attachments": {},
   "cell_type": "markdown",
   "id": "02720a4d",
   "metadata": {},
   "source": [
    "### Preprocesamiento de texto"
   ]
  },
  {
   "attachments": {},
   "cell_type": "markdown",
   "id": "a0ab080a",
   "metadata": {},
   "source": [
    "#### Pasamos a minusculas el texto"
   ]
  },
  {
   "cell_type": "code",
   "execution_count": 180,
   "id": "2ebc1ca4",
   "metadata": {},
   "outputs": [
    {
     "name": "stdout",
     "output_type": "stream",
     "text": [
      "gabriel garcía márquez \n",
      "\n",
      "\n",
      "\n",
      "cien años de soledad \n",
      "\n",
      "\n",
      "\n",
      "editado por \"ediciones la cueva\" \n",
      "\n",
      "\n",
      "\n",
      "para j omi garcía ascot \n",
      "y maría luisa elio \n",
      "\n",
      "\n",
      "\n",
      "cien años de soledad \n",
      "\n",
      "\n",
      "\n",
      "gabriel garcía márquez \n",
      "\n",
      "\n",
      "\n",
      "muchos años después, frente al pelotón de fusilamiento, el coronel aureliano buendía había de \n",
      "recordar aquella tarde remota en que su padre lo llevó a conocer el hielo. macondo era entonces \n",
      "una aldea de veinte casas de barro y cañabrava construidas a la orilla de un río de aguas diáfanas \n",
      "que se precipitaban por un lecho de piedras pulidas, blancas y enormes como huevos \n",
      "prehistóricos. el mundo era tan reciente, que muchas cosas carecían de nombre, y para \n",
      "mencionarlas había que señalarías con el dedo. todos los años, por el mes de marzo, una familia \n",
      "de gitanos desarrapados plantaba su carpa cerca de la aldea, y con un grande alboroto de pitos y \n",
      "timbales daban a conocer los nuevos inventos. primero llevaron el imán. un gitano corpulento, de \n",
      "barba montaraz y manos de gorrión, que se presentó con el nombre de melquíades, hizo una \n",
      "truculenta demostración pública de lo que él mismo llamaba la octava maravilla de los sabios \n",
      "alquimistas de macedonia. fue de casa en casa arrastrando dos lingotes metálicos, y todo el \n",
      "mundo se espantó al ver que los calderos, las pailas, las tenazas y los anafes se caían de su sitio, \n",
      "y las maderas crujían por la desesperación de los clavos y los tornillos tratando de desenclavarse, \n",
      "y aun los objetos perdidos desde hacía mucho tiempo aparecían por donde más se les había \n",
      "buscado, y se arrastraban en desbandada turbulenta detrás de los fierros mágicos de melquíades. \n",
      "«las cosas, tienen vida propia -pregonaba el gitano con áspero acento-, todo es cuestión de \n",
      "despertarles el ánima.» josé arcadio buendía, cuya desaforada imaginación iba siempre más lejos \n",
      "que el ingenio de la naturaleza, y aun más allá del milagro y la magia, pensó que era posible \n",
      "servirse de aquella invención inútil para desentrañar el oro de la tierra. melquíades, que era un \n",
      "hombre honrado, le previno: «para eso no sirve.» pero josé arcadio buendía no creía en aquel \n",
      "tiempo en la honradez de los gitanos, así que cambió su mulo y una partida de chivos por los dos \n",
      "lingotes imantados. úrsula i guaran, su mujer, que contaba con aquellos animales para ensanchar \n",
      "el desmedrado patrimonio doméstico, no consiguió disuadirlo. «muy pronto ha de sobrarnos oro \n",
      "para empedrar la casa», replicó su marido. durante varios meses se empeñó en demostrar el \n",
      "acierto de sus conjeturas. exploró palmo a palmo la región, inclusive el fondo del río, arrastrando \n",
      "los dos lingotes de hierro y recitando en voz alta el conjuro de melquíades. lo único que logró \n",
      "desenterrar fue una armadura del siglo xv con todas sus partes soldadas por un cascote de óxido, \n",
      "cuyo interior tenía la resonancia hueca de un enorme calabazo lleno de piedras. cuando josé \n",
      "arcadio buendía y los cuatro hombres de su expedición lograron desarticular la armadura, \n",
      "encontraron dentro un esqueleto calcificado que llevaba colgado en el cuello un relicario de cobre \n",
      "con un rizo de mujer. \n",
      "\n",
      "en marzo volvieron los gitanos. esta vez llevaban un catalejo y una lupa del tamaño de un \n",
      "tambor, que exhibieron como el último descubrimiento de los judíos de amsterdam. sentaron una \n",
      "gitana en un extremo de la aldea e instalaron el catalejo a la entrada de la carpa. mediante el \n",
      "pago de cinco reales, la gente se asomaba al catalejo y veía a la gitana al alcance de su mano. \n",
      "«la ciencia ha eliminado las distancias», pregonaba melquíades. «dentro de poco, el hombre \n",
      "podrá ver lo que ocurre en cualquier lugar de la tierra, sin moverse de su casa.» un mediodía \n",
      "ardiente hicieron una asombrosa demostración con la lupa gigantesca: pusieron un montón de \n",
      "hierba seca en mitad de la calle y le prendieron fuego mediante la concentración de los rayos \n",
      "solares. josé arcadio buendía, que aún no acababa de consolarse por el fracaso de sus imanes, \n",
      "concibió la idea de utilizar aquel invento como un arma de guerra. melquíades, otra vez, trató de \n",
      "disuadirlo. pero terminó por aceptar los dos lingotes imantados y tres piezas de dinero colonial a \n",
      "cambio de la lupa. úrsula lloró de consternación. aquel dinero formaba parte de un cofre de \n",
      "monedas de oro que su padre había acumulado en toda una vida de privaciones, y que ella había \n",
      "enterrado debajo de la cama en espera de una buena ocasión para invertirías. josé arcadio \n",
      "buendía no trató siquiera de consolarla, entregado por entero a sus experimentos tácticos con la \n",
      "abnegación de un científico y aun a riesgo de su propia vida. tratando de demostrar los efectos \n",
      "de la lupa en la tropa enemiga, se expuso él mismo a la concentración de los rayos solares y \n",
      "sufrió quemaduras que se convirtieron en úlceras y tardaron mucho tiempo en sanar. ante las \n",
      "protestas de su mujer, alarmada por tan peligrosa inventiva, estuvo a punto de incendiar la casa. \n",
      "pasaba largas horas en su cuarto, haciendo cálculos sobre las posibilidades estratégicas de su \n",
      "arma novedosa, hasta que logró componer un manual de una asombrosa claridad didáctica y un \n",
      "\n",
      "\n",
      "\n",
      "cien años de soledad \n",
      "\n",
      "\n",
      "\n",
      "gabriel garcía márquez \n",
      "\n",
      "poder de convicción irresistible. lo envió a las autoridades acompañado de numerosos \n",
      "testimonios sobre sus experiencias y de varios pliegos de dibujos explicativos, al cuidado de un \n",
      "mensajero que atravesó la sierra, y se extravió en pantanos desmesurados, remontó ríos \n",
      "tormentosos y estuvo a punto de perecer bajo el azote de las fieras, la desesperación y la peste, \n",
      "antes de conseguir una ruta de enlace con las muías del correo. a pesar de que el viaje a la \n",
      "capital era en aquel tiempo poco menos que imposible, josé arcadio buendia prometía intentarlo \n",
      "tan pronto como se lo ordenara el gobierno, con el fin de hacer demostraciones prácticas de su \n",
      "invento ante los poderes militares, y adiestrarlos personalmente en las complicadas artes de la \n",
      "guerra solar. durante varios años esperó la respuesta. por último, cansado de esperar, se \n",
      "lamentó ante melquíades del fracaso de su iniciativa, y el gitano dio entonces una prueba \n",
      "convincente de honradez: le devolvió los doblones a cambio de la lupa, y le dejó además unos \n",
      "mapas portugueses y varios instrumentos de navegación. de su puño y letra escribió una \n",
      "apretada síntesis de los estudios del monje hermann, que dejó a su disposición para que pudiera \n",
      "servirse del astrolabio, la brújula y el sextante. josé arcadio buendia pasó los largos meses de \n",
      "lluvia encerrado en un cuartito que construyó en el fondo de la casa para que nadie perturbara \n",
      "sus experimentos. habiendo abandonado por completo las obligaciones domésticas, permaneció \n",
      "noches enteras en el patio vigilando el curso de los astros, y estuvo a punto de contraer una \n",
      "insolación por tratar de establecer un método exacto para encontrar el mediodía. cuando se hizo \n",
      "experto en el uso y manejo de sus instrumentos, tuvo una noción del espacio que le permitió \n",
      "navegar por mares incógnitos, visitar territorios deshabitados y trabar relación con seres \n",
      "espléndidos, sin necesidad de abandonar su gabinete. fue ésa la época en que adquirió el hábito \n",
      "de hablar a solas, paseándose por la casa sin hacer caso de nadie, mientras úrsula y los niños se \n",
      "partían el espinazo en la huerta cuidando el plátano y la malanga, la yuca y el ñame, la ahuyama \n",
      "y la berenjena. de pronto, sin ningún anuncio, su actividad febril se interrumpió y fue sustituida \n",
      "por una especie de fascinación. estuvo varios días como hechizado, repitiéndose a sí mismo en \n",
      "voz baja un sartal de asombrosas conjeturas, sin dar crédito a su propio entendimiento. por fin, \n",
      "un martes de diciembre, a la hora del almuerzo, soltó de un golpe toda la carga de su tormento. \n",
      "los niños habían de recordar por el resto de su vida la augusta solemnidad con que su padre se \n",
      "sentó a la cabecera de la mesa, temblando de fiebre, devastado por la prolongada vigilia y por el \n",
      "encono de su imaginación, y les reveló su descubrimiento. \n",
      "\n",
      "-la tierra es redonda como una naranja. \n",
      "\n",
      "úrsula perdió la paciencia. «si has de volverte loco, vuélvete tú solo -gritó-. pero no trates de \n",
      "inculcar a los niños tus ideas de gitano.» josé arcadio buendia, impasible, no se dejó amedrentar \n",
      "por la desesperación de su mujer, que en un rapto de cólera le destrozó el astrolabio contra el \n",
      "suelo. construyó otro, reunió en el cuartito a los hombres del pueblo y les demostró, con teorías \n",
      "que para todos resultaban incomprensibles, la posibilidad de regresar al punto de partida \n",
      "navegando siempre hacia el oriente. toda la aldea estaba convencida de que josé arcadio \n",
      "buendia había perdido el juicio, cuando llegó melquíades a poner las cosas en su punto. exaltó en \n",
      "público la inteligencia de aquel hombre que por pura especulación astronómica había construido \n",
      "una teoría ya comprobada en la práctica, aunque desconocida hasta entonces en macondo, y \n",
      "como una prueba de su admiración le hizo un regalo que había de ejercer una influencia \n",
      "terminante en el futuro de la aldea: un laboratorio de alquimia. \n",
      "\n",
      "para esa época, melquíades había envejecido con una rapidez asombrosa. en sus primeros \n",
      "viajes parecía tener la misma edad de josé arcadio buendia. pero mientras éste conservaba su \n",
      "fuerza descomunal, que le permitía derribar un caballo agarrándolo por las orejas, el gitano \n",
      "parecía estragado por una dolencia tenaz. era, en realidad, el resultado de múltiples y raras \n",
      "enfermedades contraídas en sus incontables viajes alrededor del mundo. según él mismo le contó \n",
      "a josé arcadio buendia mientras lo ayudaba a montar el laboratorio, la muerte lo seguía a todas \n",
      "partes, husmeándole los pantalones, pero sin decidirse a darle el zarpazo final. era un fugitivo de \n",
      "cuantas plagas y catástrofes habían flagelado al género humano. sobrevivió a la pelagra en \n",
      "persia, al escorbuto en el archipiélago de malasia, a la lepra en alejandría, al beriberi en el japón, \n",
      "a la peste bubónica en madagascar, al terremoto de sicilia y a un naufragio multitudinario en el \n",
      "estrecho de magallanes. aquel ser prodigioso que decía poseer las claves de nostradamus, era un \n",
      "hombre lúgubre, envuelto en un aura triste, con una mirada asiática que parecía conocer el otro \n",
      "lado de las cosas. usaba un sombrero grande y negro, como las alas extendidas de un cuervo, y \n",
      "un chaleco de terciopelo patinado por el verdín de los siglos. pero a pesar de su inmensa \n",
      "sabiduría y de su ámbito misterioso, tenía un peso humano, una condición terrestre que lo \n",
      "\n",
      "\n",
      "\n",
      "cien años de soledad \n",
      "\n",
      "\n",
      "\n",
      "gabriel garcía márquez \n",
      "\n",
      "mantenía enredado en los minúsculos problemas de la vida cotidiana. se quejaba de dolencias de \n",
      "viejo, sufría por los más insignificantes percances económicos y había dejado de reír desde hacía \n",
      "mucho tiempo, porque el escorbuto le había arrancado los dientes. el sofocante mediodía en que \n",
      "reveló sus secretos, josé arcadio buendía tuvo la certidumbre de que aquél era el principio de \n",
      "una grande amistad. los niños se asombraron con sus relatos fantásticos. aureliano, que no tenía \n",
      "entonces más de cinco años, había de recordarlo por el resto de su vida como lo vio aquella \n",
      "tarde, sentado contra la claridad metálica y reverberante de la ventana, alumbrando con su pro- \n",
      "funda voz de órgano los territorios más oscuros de la imaginación, mientras chorreaba por sus \n",
      "sienes la grasa derretida por el calor. josé arcadio, su hermano mayor, había de transmitir \n",
      "aquella imagen maravillosa, como un recuerdo hereditario, a toda su descendencia. úrsula, en \n",
      "cambio, conservó un mal recuerdo de aquella visita, porque entró al cuarto en el momento en \n",
      "que melquíades rompió por distracción un frasco de bicloruro de mercurio. \n",
      "\n",
      "-es el olor del demonio -dijo ella. \n",
      "\n",
      "-en absoluto -corrigió melquíades-. está comprobado que el demonio tiene propiedades \n",
      "sulfúricas, y esto no es más que un poco de solimán. \n",
      "\n",
      "siempre didáctico, hizo una sabia exposición sobre las virtudes diabólicas del cinabrio, pero \n",
      "úrsula no le hizo caso, sino que se llevó los niños a rezar. aquel olor mordiente quedaría para \n",
      "siempre en su memoria, vinculado al recuerdo de melquíades. \n",
      "\n",
      "el rudimentario laboratorio -sin contar una profusión de cazuelas, embudos, retortas, filtros y \n",
      "coladores- estaba compuesto por un atanor primitivo; una probeta de cristal de cuello largo y \n",
      "angosto, imitación del huevo filosófico, y un destilador construido por los propios gitanos según \n",
      "las descripciones modernas del alambique de tres brazos de maría la judía. además de estas \n",
      "cosas, melquíades dejó muestras de los siete metales correspondientes a los siete planetas, las \n",
      "fórmulas de moisés y zósimo para el doblado del oro, y una serie de apuntes y dibujos sobre los \n",
      "procesos del gran magisterio, que permitían a quien supiera interpretarlos intentar la fabricación \n",
      "de la piedra filosofal. seducido por la simplicidad de las fórmulas para doblar el oro, josé arcadio \n",
      "buendía cortejó a úrsula durante varias semanas, para que le permitiera desenterrar sus \n",
      "monedas coloniales y aumentarlas tantas veces como era posible subdividir el azogue. úrsula \n",
      "cedió, como ocurría siempre, ante la inquebrantable obstinación de su marido. entonces josé \n",
      "arcadio buendía echó treinta doblones en una cazuela, y los fundió con raspadura de cobre, \n",
      "oropimente, azufre y plomo. puso a hervir todo a fuego vivo en un caldero de aceite de ricino \n",
      "hasta obtener un jarabe espeso y pestilente más parecido al caramelo vulgar que al oro \n",
      "magnífico. en azarosos y desesperados procesos de destilación, fundida con los siete metales \n",
      "planetarios, trabajada con el mercurio hermético y el vitriolo de chipre, y vuelta a cocer en \n",
      "manteca de cerdo a falta de aceite de rábano, la preciosa herencia de úrsula quedó reducida a un \n",
      "chicharrón carbonizado que no pudo ser desprendido del fondo del caldero. \n",
      "\n",
      "cuando volvieron los gitanos, úrsula había predispuesto contra ellos a toda la población. pero \n",
      "la curiosidad pudo más que el temor, porque aquella vez los gitanos recorrieron la aldea haciendo \n",
      "un ruido ensordecedor con toda clase de instrumentos músicos, mientras el pregonero anunciaba \n",
      "la exhibición del más fabuloso hallazgo de los nasciancenos. de modo que todo el mundo se fue a \n",
      "la carpa, y mediante el pago de un centavo vieron un melquíades juvenil, repuesto, desarrugado, \n",
      "con una dentadura nueva y radiante. quienes recordaban sus encías destruidas por el escorbuto, \n",
      "sus mejillas flaccidas y sus labios marchitos, se estremecieron de pavor ante aquella prueba \n",
      "terminante de los poderes sobrenaturales del gitano. el pavor se convirtió en pánico cuando \n",
      "melquíades se sacó los dientes, intactos, engastados en las encías, y se los mostró al público por \n",
      "un instante un instante fugaz en que volvió a ser el mismo hombre decrépito de los años \n",
      "anteriores y se los puso otra vez y sonrió de nuevo con un dominio pleno de su juventud \n",
      "restaurada. hasta el propio josé arcadio buendía consideró que los conocimientos de melquíades \n",
      "habían llegado a extremos intolerables, pero experimentó un saludable alborozo cuando el gitano \n",
      "le explicó a solas el mecanismo de su dentadura postiza. aquello le pareció a la vez tan sencillo y \n",
      "prodigioso, que de la noche a la mañana perdió todo interés en las investigaciones de alquimia; \n",
      "sufrió una nueva crisis de mal humor, no volvió a comer en forma regular y se pasaba el día \n",
      "dando vueltas por la casa. «en el mundo están ocurriendo cosas increíbles -le decía a úrsula-. ahí \n",
      "mismo, al otro lado del río, hay toda clase de aparatos mágicos, mientras nosotros seguimos \n",
      "viviendo como los burros.» quienes lo conocían desde los tiempos de la fundación de macondo, se \n",
      "asombraban de cuánto había cambiado bajo la influencia de melquíades. \n",
      "\n",
      "\n",
      "\n",
      "cien años de soledad \n",
      "\n",
      "\n",
      "\n",
      "gabriel garcía márquez \n",
      "\n",
      "al principio, josé arcadio buendía era una especie de patriarca juvenil, que daba instrucciones \n",
      "para la siembra y consejos para la crianza de niños y animales, y colaboraba con todos, aun en el \n",
      "trabajo físico, para la buena marcha de la comunidad. puesto que su casa fue desde el primer \n",
      "momento la mejor de la aldea, las otras fueron arregladas a su imagen y semejanza. tenía una \n",
      "salita amplia y bien iluminada, un comedor en forma de terraza con flores de colores alegres, dos \n",
      "dormitorios, un patio con un castaño gigantesco, un huerto bien plantado y un corral donde vivían \n",
      "en comunidad pacífica los chivos, los cerdos y las gallinas. los únicos animales prohibidos no sólo \n",
      "en la casa, sino en todo el poblado, eran los gallos de pelea. \n",
      "\n",
      "la laboriosidad de úrsula andaba a la par con la de su marido. activa, menuda, severa, aquella \n",
      "mujer de nervios inquebrantables, a quien en ningún momento de su vida se la oyó cantar, \n",
      "parecía estar en todas partes desde el amanecer hasta muy entrada la noche, siempre perseguida \n",
      "por el suave susurro de sus pollerines de olán. \"gracias a ella, los pisos de tierra golpeada, los \n",
      "muros de barro sin encalar, los rústicos muebles de madera construidos por ellos mismos estaban \n",
      "siempre limpios, y los viejos arcones donde se guardaba la ropa exhalaban un tibio olor de \n",
      "albahaca\". \n",
      "\n",
      "josé arcadio buendía, que era el hombre más emprendedor que se vería jamás en la aldea, \n",
      "había dispuesto de tal modo la posición de las casas, que desde todas podía llegarse al río y \n",
      "abastecerse de agua con igual esfuerzo, y trazó las calles con tan buen sentido que ninguna casa \n",
      "recibía más sol que otra a la hora del calor. en pocos años, macondo fue una aldea más ordenada \n",
      "y laboriosa que cualquiera de las conocidas hasta entonces por sus 300 habitantes. era en verdad \n",
      "una aldea feliz, donde nadie era mayor de treinta años y donde nadie había muerto. \n",
      "\n",
      "desde los tiempos de la fundación, josé arcadio buendía construyó trampas y jaulas. en poco \n",
      "tiempo llenó de turpiales, canarios, azulejos y petirrojos no sólo la propia casa, sino todas las de \n",
      "la aldea. el concierto de tantos #pájaros distintos llegó a ser tan aturdidor#, que úrsula se tapó los \n",
      "oídos con cera de abejas para no perder el sentido de la realidad. la primera vez que llegó la \n",
      "tribu de melquíades vendiendo bolas de vidrio para el dolor de cabeza, todo el mundo se \n",
      "sorprendió de que hubieran podido encontrar aquella aldea perdida en el sopor de la ciénaga, y \n",
      "los gitanos confesaron que se habían orientado por el canto de los pájaros. \n",
      "\n",
      "aquel espíritu de iniciativa social desapareció en poco tiempo, arrastrado por la fiebre de los \n",
      "imanes, los cálculos astronómicos, los sueños de trasmutación y las ansias de conocer las \n",
      "maravillas del mundo. de emprendedor y limpio, josé arcadio buendía se convirtió en un hombre \n",
      "de aspecto holgazán, descuidado en el vestir, con una barba salvaje que úrsula lograba cuadrar a \n",
      "duras penas con un cuchillo de cocina. (no faltó quien lo considerara víctima de algún extraño \n",
      "sortilegio. pero hasta los más convencidos de su locura abandonaron trabajo y familias)) para \n",
      "seguirlo, cuando se echó al hombro sus herramientas de desmontar, y pidió el concurso de todos \n",
      "para abrir una trocha que pusiera a macondo en contacto con los graneles inventos. \n",
      "\n",
      "josé arcadio buendía ignoraba por completo la geografía de la región. sabía que hacia el \n",
      "oriente estaba la \\\\sierra impenetrable, y al otro lado de la sierra la antigua ciudad de riohacha, \n",
      "donde en épocas pasadas -según le había contado el primer aureliano buendía, su abuelo- sir \n",
      "francis drake se daba al deporte de cazar caimanes a cañonazos, que luego hacía remendar y \n",
      "rellenar de paja para llevárselos a la \\\\reina isabel. en su juventud, él y sus hombres, con mujeres \n",
      "y niños y animales y toda clase de enseres domésticos, atravesaron la sierra buscando una salida \n",
      "al mar, y al cabo de veintiséis meses desistieron de la empresa y fundaron a macondo para no \n",
      "tener que emprender el camino de regreso. era, pues, una ruta que no le interesaba, porque sólo \n",
      "podía conducirlo al pasado. al sur estaban los pantanos, cubiertos de una eterna nata vegetal, y \n",
      "el vasto universo de la **ciénaga grande, que según testimonio de los gitanos carecía de límites**. la \n",
      "ciénaga grande se confundía al occidente con una extensión acuática sin horizontes, donde había \n",
      "cetáceos de piel delicada con cabeza y torso de mujer, que perdían a los navegantes con el \n",
      "hechizo de sus tetas descomunales. $$los gitanos navegaban seis meses%$$ por esa ruta antes de \n",
      "alcanzar el cinturón de tierra firme por donde pasaban las muías del correo. de acuerdo con los \n",
      "cálculos de josé arcadio buendía, la única posibilidad de contacto con la civilización era la ruta del \n",
      "norte. de modo que dotó de herramientas de desmonte y armas de cacería a los mismos \n",
      "hombres que lo acompañaron en la fundación de macondo; echó en una mochila sus instrumentos \n",
      "de orientación y sus mapas, y emprendió la temeraria aventura. \n",
      "\n",
      "los primeros días no encontraron un obstáculo apreciable. descendieron por la pedregosa \n",
      "ribera del río hasta el lugar en que años antes habían encontrado la armadura del guerrero, y allí \n",
      "penetraron al bosque por un sendero de naranjos silvestres. al término de la primera semana, \n",
      "\n",
      "\n",
      "\n",
      "cien años de soledad \n",
      "\n",
      "\n",
      "\n",
      "gabriel garcía márquez \n",
      "\n",
      "mataron y asaron un venado, pero se conformaron con comer la mitad y salar el resto para los \n",
      "próximos días. trataban de aplazar con esa precaución la necesidad de seguir comiendo \n",
      "guacamayas, cuya carne azul tenía un áspero sabor de almizcle. luego, durante más de diez días, \n",
      "no volvieron a ver el sol. el suelo se volvió blando y húmedo, como ceniza volcánica, y la \n",
      "vegetación fue cada vez más insidiosa y se hicieron cada vez más lejanos los gritos de los pájaros \n",
      "y la bullaranga de los monos, y el mundo se volvió triste para siempre. los hombres de la \n",
      "expedición se sintieron abrumados por sus recuerdos más antiguos en aquel paraíso de humedad \n",
      "y silencio, anterior al pecado original, donde las botas se hundían en pozos de aceites humeantes \n",
      "y los machetes destrozaban lirios sangrientos y salamandras doradas. durante una semana, casi \n",
      "sin hablar, avanzaron como sonámbulos por un universo de pesadumbre, alumbrados apenas por \n",
      "una tenue reverberación de insectos luminosos y con los pulmones agobiados por un sofocante \n",
      "olor de sangre. no podían regresar, porque la trocha que iban abriendo a su paso se volvía a \n",
      "cerrar en poco tiempo, con una vegetación nueva que casi veían crecer ante sus ojos. «no \n",
      "importa -decía josé arcadio buendía-. lo esencial es no perder la orientación.» siempre \n",
      "pendiente de la brújula, siguió guiando a sus hombres hacia el norte invisible, hasta que lograron \n",
      "salir de la región encantada. era una noche densa, sin estrellas, pero la oscuridad estaba \n",
      "impregnada por un aire nuevo y limpio. agotados por la prolongada travesía, colgaron las \n",
      "hamacas y durmieron a fondo por primera vez en dos semanas. cuando despertaron, ya con el \n",
      "sol alto, se quedaron pasmados de fascinación. frente a ellos, rodeado de heléchos y palmeras, \n",
      "blanco y polvoriento en la silenciosa luz de la mañana, estaba un enorme galeón español. \n",
      "ligeramente volteado a estribor, de su arboladura intacta colgaban las piltrafas escuálidas del \n",
      "velamen, entre jarcias adornadas de orquídeas. el casco, cubierto con una tersa coraza de \n",
      "remora petrificada y musgo tierno, estaba firmemente enclavado en un suelo de piedras. toda la \n",
      "estructura parecía ocupar un ámbito propio, un espacio de soledad y de olvido, vedado a los \n",
      "vicios del tiempo y a las costumbres de los pájaros. en el interior, que los expedicionarios \n",
      "exploraron con un fervor sigiloso, no había nada más que un apretado bosque de flores. \n"
     ]
    }
   ],
   "source": [
    "# Pasamos a minusculas el texto\n",
    "text_GGM_low = text_GGM.lower()\n",
    "print(text_GGM_low)\n"
   ]
  },
  {
   "attachments": {},
   "cell_type": "markdown",
   "id": "c51766bb",
   "metadata": {},
   "source": [
    "#### conservamos solo palabras"
   ]
  },
  {
   "cell_type": "code",
   "execution_count": 181,
   "id": "d7ae7f2c",
   "metadata": {},
   "outputs": [
    {
     "data": {
      "text/plain": [
       "'gabriel garcía márquez cien años de soledad editado por ediciones la cueva para j omi garcía ascot y maría luisa elio cien años de soledad gabriel garcía márquez muchos años después frente al pelotón de fusilamiento el coronel aureliano buendía había de recordar aquella tarde remota en que su padre lo llevó a conocer el hielo macondo era entonces una aldea de veinte casas de barro y cañabrava construidas a la orilla de un río de aguas diáfanas que se precipitaban por un lecho de piedras pulidas blancas y enormes como huevos prehistóricos el mundo era tan reciente que muchas cosas carecían de nombre y para mencionarlas había que señalarías con el dedo todos los años por el mes de marzo una familia de gitanos desarrapados plantaba su carpa cerca de la aldea y con un grande alboroto de pitos y timbales daban a conocer los nuevos inventos primero llevaron el imán un gitano corpulento de barba montaraz y manos de gorrión que se presentó con el nombre de melquíades hizo una truculenta demostración pública de lo que él mismo llamaba la octava maravilla de los sabios alquimistas de macedonia fue de casa en casa arrastrando dos lingotes metálicos y todo el mundo se espantó al ver que los calderos las pailas las tenazas y los anafes se caían de su sitio y las maderas crujían por la desesperación de los clavos y los tornillos tratando de desenclavarse y aun los objetos perdidos desde hacía mucho tiempo aparecían por donde más se les había buscado y se arrastraban en desbandada turbulenta detrás de los fierros mágicos de melquíades las cosas tienen vida propia pregonaba el gitano con áspero acento todo es cuestión de despertarles el ánima josé arcadio buendía cuya desaforada imaginación iba siempre más lejos que el ingenio de la naturaleza y aun más allá del milagro y la magia pensó que era posible servirse de aquella invención inútil para desentrañar el oro de la tierra melquíades que era un hombre honrado le previno para eso no sirve pero josé arcadio buendía no creía en aquel tiempo en la honradez de los gitanos así que cambió su mulo y una partida de chivos por los dos lingotes imantados úrsula i guaran su mujer que contaba con aquellos animales para ensanchar el desmedrado patrimonio doméstico no consiguió disuadirlo muy pronto ha de sobrarnos oro para empedrar la casa replicó su marido durante varios meses se empeñó en demostrar el acierto de sus conjeturas exploró palmo a palmo la región inclusive el fondo del río arrastrando los dos lingotes de hierro y recitando en voz alta el conjuro de melquíades lo único que logró desenterrar fue una armadura del siglo xv con todas sus partes soldadas por un cascote de óxido cuyo interior tenía la resonancia hueca de un enorme calabazo lleno de piedras cuando josé arcadio buendía y los cuatro hombres de su expedición lograron desarticular la armadura encontraron dentro un esqueleto calcificado que llevaba colgado en el cuello un relicario de cobre con un rizo de mujer en marzo volvieron los gitanos esta vez llevaban un catalejo y una lupa del tamaño de un tambor que exhibieron como el último descubrimiento de los judíos de amsterdam sentaron una gitana en un extremo de la aldea e instalaron el catalejo a la entrada de la carpa mediante el pago de cinco reales la gente se asomaba al catalejo y veía a la gitana al alcance de su mano la ciencia ha eliminado las distancias pregonaba melquíades dentro de poco el hombre podrá ver lo que ocurre en cualquier lugar de la tierra sin moverse de su casa un mediodía ardiente hicieron una asombrosa demostración con la lupa gigantesca pusieron un montón de hierba seca en mitad de la calle y le prendieron fuego mediante la concentración de los rayos solares josé arcadio buendía que aún no acababa de consolarse por el fracaso de sus imanes concibió la idea de utilizar aquel invento como un arma de guerra melquíades otra vez trató de disuadirlo pero terminó por aceptar los dos lingotes imantados y tres piezas de dinero colonial a cambio de la lupa úrsula lloró de consternación aquel dinero formaba parte de un cofre de monedas de oro que su padre había acumulado en toda una vida de privaciones y que ella había enterrado debajo de la cama en espera de una buena ocasión para invertirías josé arcadio buendía no trató siquiera de consolarla entregado por entero a sus experimentos tácticos con la abnegación de un científico y aun a riesgo de su propia vida tratando de demostrar los efectos de la lupa en la tropa enemiga se expuso él mismo a la concentración de los rayos solares y sufrió quemaduras que se convirtieron en úlceras y tardaron mucho tiempo en sanar ante las protestas de su mujer alarmada por tan peligrosa inventiva estuvo a punto de incendiar la casa pasaba largas horas en su cuarto haciendo cálculos sobre las posibilidades estratégicas de su arma novedosa hasta que logró componer un manual de una asombrosa claridad didáctica y un cien años de soledad gabriel garcía márquez poder de convicción irresistible lo envió a las autoridades acompañado de numerosos testimonios sobre sus experiencias y de varios pliegos de dibujos explicativos al cuidado de un mensajero que atravesó la sierra y se extravió en pantanos desmesurados remontó ríos tormentosos y estuvo a punto de perecer bajo el azote de las fieras la desesperación y la peste antes de conseguir una ruta de enlace con las muías del correo a pesar de que el viaje a la capital era en aquel tiempo poco menos que imposible josé arcadio buendia prometía intentarlo tan pronto como se lo ordenara el gobierno con el fin de hacer demostraciones prácticas de su invento ante los poderes militares y adiestrarlos personalmente en las complicadas artes de la guerra solar durante varios años esperó la respuesta por último cansado de esperar se lamentó ante melquíades del fracaso de su iniciativa y el gitano dio entonces una prueba convincente de honradez le devolvió los doblones a cambio de la lupa y le dejó además unos mapas portugueses y varios instrumentos de navegación de su puño y letra escribió una apretada síntesis de los estudios del monje hermann que dejó a su disposición para que pudiera servirse del astrolabio la brújula y el sextante josé arcadio buendia pasó los largos meses de lluvia encerrado en un cuartito que construyó en el fondo de la casa para que nadie perturbara sus experimentos habiendo abandonado por completo las obligaciones domésticas permaneció noches enteras en el patio vigilando el curso de los astros y estuvo a punto de contraer una insolación por tratar de establecer un método exacto para encontrar el mediodía cuando se hizo experto en el uso y manejo de sus instrumentos tuvo una noción del espacio que le permitió navegar por mares incógnitos visitar territorios deshabitados y trabar relación con seres espléndidos sin necesidad de abandonar su gabinete fue ésa la época en que adquirió el hábito de hablar a solas paseándose por la casa sin hacer caso de nadie mientras úrsula y los niños se partían el espinazo en la huerta cuidando el plátano y la malanga la yuca y el ñame la ahuyama y la berenjena de pronto sin ningún anuncio su actividad febril se interrumpió y fue sustituida por una especie de fascinación estuvo varios días como hechizado repitiéndose a sí mismo en voz baja un sartal de asombrosas conjeturas sin dar crédito a su propio entendimiento por fin un martes de diciembre a la hora del almuerzo soltó de un golpe toda la carga de su tormento los niños habían de recordar por el resto de su vida la augusta solemnidad con que su padre se sentó a la cabecera de la mesa temblando de fiebre devastado por la prolongada vigilia y por el encono de su imaginación y les reveló su descubrimiento la tierra es redonda como una naranja úrsula perdió la paciencia si has de volverte loco vuélvete tú solo gritó pero no trates de inculcar a los niños tus ideas de gitano josé arcadio buendia impasible no se dejó amedrentar por la desesperación de su mujer que en un rapto de cólera le destrozó el astrolabio contra el suelo construyó otro reunió en el cuartito a los hombres del pueblo y les demostró con teorías que para todos resultaban incomprensibles la posibilidad de regresar al punto de partida navegando siempre hacia el oriente toda la aldea estaba convencida de que josé arcadio buendia había perdido el juicio cuando llegó melquíades a poner las cosas en su punto exaltó en público la inteligencia de aquel hombre que por pura especulación astronómica había construido una teoría ya comprobada en la práctica aunque desconocida hasta entonces en macondo y como una prueba de su admiración le hizo un regalo que había de ejercer una influencia terminante en el futuro de la aldea un laboratorio de alquimia para esa época melquíades había envejecido con una rapidez asombrosa en sus primeros viajes parecía tener la misma edad de josé arcadio buendia pero mientras éste conservaba su fuerza descomunal que le permitía derribar un caballo agarrándolo por las orejas el gitano parecía estragado por una dolencia tenaz era en realidad el resultado de múltiples y raras enfermedades contraídas en sus incontables viajes alrededor del mundo según él mismo le contó a josé arcadio buendia mientras lo ayudaba a montar el laboratorio la muerte lo seguía a todas partes husmeándole los pantalones pero sin decidirse a darle el zarpazo final era un fugitivo de cuantas plagas y catástrofes habían flagelado al género humano sobrevivió a la pelagra en persia al escorbuto en el archipiélago de malasia a la lepra en alejandría al beriberi en el japón a la peste bubónica en madagascar al terremoto de sicilia y a un naufragio multitudinario en el estrecho de magallanes aquel ser prodigioso que decía poseer las claves de nostradamus era un hombre lúgubre envuelto en un aura triste con una mirada asiática que parecía conocer el otro lado de las cosas usaba un sombrero grande y negro como las alas extendidas de un cuervo y un chaleco de terciopelo patinado por el verdín de los siglos pero a pesar de su inmensa sabiduría y de su ámbito misterioso tenía un peso humano una condición terrestre que lo cien años de soledad gabriel garcía márquez mantenía enredado en los minúsculos problemas de la vida cotidiana se quejaba de dolencias de viejo sufría por los más insignificantes percances económicos y había dejado de reír desde hacía mucho tiempo porque el escorbuto le había arrancado los dientes el sofocante mediodía en que reveló sus secretos josé arcadio buendía tuvo la certidumbre de que aquél era el principio de una grande amistad los niños se asombraron con sus relatos fantásticos aureliano que no tenía entonces más de cinco años había de recordarlo por el resto de su vida como lo vio aquella tarde sentado contra la claridad metálica y reverberante de la ventana alumbrando con su pro funda voz de órgano los territorios más oscuros de la imaginación mientras chorreaba por sus sienes la grasa derretida por el calor josé arcadio su hermano mayor había de transmitir aquella imagen maravillosa como un recuerdo hereditario a toda su descendencia úrsula en cambio conservó un mal recuerdo de aquella visita porque entró al cuarto en el momento en que melquíades rompió por distracción un frasco de bicloruro de mercurio es el olor del demonio dijo ella en absoluto corrigió melquíades está comprobado que el demonio tiene propiedades sulfúricas y esto no es más que un poco de solimán siempre didáctico hizo una sabia exposición sobre las virtudes diabólicas del cinabrio pero úrsula no le hizo caso sino que se llevó los niños a rezar aquel olor mordiente quedaría para siempre en su memoria vinculado al recuerdo de melquíades el rudimentario laboratorio sin contar una profusión de cazuelas embudos retortas filtros y coladores estaba compuesto por un atanor primitivo una probeta de cristal de cuello largo y angosto imitación del huevo filosófico y un destilador construido por los propios gitanos según las descripciones modernas del alambique de tres brazos de maría la judía además de estas cosas melquíades dejó muestras de los siete metales correspondientes a los siete planetas las fórmulas de moisés y zósimo para el doblado del oro y una serie de apuntes y dibujos sobre los procesos del gran magisterio que permitían a quien supiera interpretarlos intentar la fabricación de la piedra filosofal seducido por la simplicidad de las fórmulas para doblar el oro josé arcadio buendía cortejó a úrsula durante varias semanas para que le permitiera desenterrar sus monedas coloniales y aumentarlas tantas veces como era posible subdividir el azogue úrsula cedió como ocurría siempre ante la inquebrantable obstinación de su marido entonces josé arcadio buendía echó treinta doblones en una cazuela y los fundió con raspadura de cobre oropimente azufre y plomo puso a hervir todo a fuego vivo en un caldero de aceite de ricino hasta obtener un jarabe espeso y pestilente más parecido al caramelo vulgar que al oro magnífico en azarosos y desesperados procesos de destilación fundida con los siete metales planetarios trabajada con el mercurio hermético y el vitriolo de chipre y vuelta a cocer en manteca de cerdo a falta de aceite de rábano la preciosa herencia de úrsula quedó reducida a un chicharrón carbonizado que no pudo ser desprendido del fondo del caldero cuando volvieron los gitanos úrsula había predispuesto contra ellos a toda la población pero la curiosidad pudo más que el temor porque aquella vez los gitanos recorrieron la aldea haciendo un ruido ensordecedor con toda clase de instrumentos músicos mientras el pregonero anunciaba la exhibición del más fabuloso hallazgo de los nasciancenos de modo que todo el mundo se fue a la carpa y mediante el pago de un centavo vieron un melquíades juvenil repuesto desarrugado con una dentadura nueva y radiante quienes recordaban sus encías destruidas por el escorbuto sus mejillas flaccidas y sus labios marchitos se estremecieron de pavor ante aquella prueba terminante de los poderes sobrenaturales del gitano el pavor se convirtió en pánico cuando melquíades se sacó los dientes intactos engastados en las encías y se los mostró al público por un instante un instante fugaz en que volvió a ser el mismo hombre decrépito de los años anteriores y se los puso otra vez y sonrió de nuevo con un dominio pleno de su juventud restaurada hasta el propio josé arcadio buendía consideró que los conocimientos de melquíades habían llegado a extremos intolerables pero experimentó un saludable alborozo cuando el gitano le explicó a solas el mecanismo de su dentadura postiza aquello le pareció a la vez tan sencillo y prodigioso que de la noche a la mañana perdió todo interés en las investigaciones de alquimia sufrió una nueva crisis de mal humor no volvió a comer en forma regular y se pasaba el día dando vueltas por la casa en el mundo están ocurriendo cosas increíbles le decía a úrsula ahí mismo al otro lado del río hay toda clase de aparatos mágicos mientras nosotros seguimos viviendo como los burros quienes lo conocían desde los tiempos de la fundación de macondo se asombraban de cuánto había cambiado bajo la influencia de melquíades cien años de soledad gabriel garcía márquez al principio josé arcadio buendía era una especie de patriarca juvenil que daba instrucciones para la siembra y consejos para la crianza de niños y animales y colaboraba con todos aun en el trabajo físico para la buena marcha de la comunidad puesto que su casa fue desde el primer momento la mejor de la aldea las otras fueron arregladas a su imagen y semejanza tenía una salita amplia y bien iluminada un comedor en forma de terraza con flores de colores alegres dos dormitorios un patio con un castaño gigantesco un huerto bien plantado y un corral donde vivían en comunidad pacífica los chivos los cerdos y las gallinas los únicos animales prohibidos no sólo en la casa sino en todo el poblado eran los gallos de pelea la laboriosidad de úrsula andaba a la par con la de su marido activa menuda severa aquella mujer de nervios inquebrantables a quien en ningún momento de su vida se la oyó cantar parecía estar en todas partes desde el amanecer hasta muy entrada la noche siempre perseguida por el suave susurro de sus pollerines de olán gracias a ella los pisos de tierra golpeada los muros de barro sin encalar los rústicos muebles de madera construidos por ellos mismos estaban siempre limpios y los viejos arcones donde se guardaba la ropa exhalaban un tibio olor de albahaca josé arcadio buendía que era el hombre más emprendedor que se vería jamás en la aldea había dispuesto de tal modo la posición de las casas que desde todas podía llegarse al río y abastecerse de agua con igual esfuerzo y trazó las calles con tan buen sentido que ninguna casa recibía más sol que otra a la hora del calor en pocos años macondo fue una aldea más ordenada y laboriosa que cualquiera de las conocidas hasta entonces por sus 300 habitantes era en verdad una aldea feliz donde nadie era mayor de treinta años y donde nadie había muerto desde los tiempos de la fundación josé arcadio buendía construyó trampas y jaulas en poco tiempo llenó de turpiales canarios azulejos y petirrojos no sólo la propia casa sino todas las de la aldea el concierto de tantos pájaros distintos llegó a ser tan aturdidor que úrsula se tapó los oídos con cera de abejas para no perder el sentido de la realidad la primera vez que llegó la tribu de melquíades vendiendo bolas de vidrio para el dolor de cabeza todo el mundo se sorprendió de que hubieran podido encontrar aquella aldea perdida en el sopor de la ciénaga y los gitanos confesaron que se habían orientado por el canto de los pájaros aquel espíritu de iniciativa social desapareció en poco tiempo arrastrado por la fiebre de los imanes los cálculos astronómicos los sueños de trasmutación y las ansias de conocer las maravillas del mundo de emprendedor y limpio josé arcadio buendía se convirtió en un hombre de aspecto holgazán descuidado en el vestir con una barba salvaje que úrsula lograba cuadrar a duras penas con un cuchillo de cocina no faltó quien lo considerara víctima de algún extraño sortilegio pero hasta los más convencidos de su locura abandonaron trabajo y familias para seguirlo cuando se echó al hombro sus herramientas de desmontar y pidió el concurso de todos para abrir una trocha que pusiera a macondo en contacto con los graneles inventos josé arcadio buendía ignoraba por completo la geografía de la región sabía que hacia el oriente estaba la sierra impenetrable y al otro lado de la sierra la antigua ciudad de riohacha donde en épocas pasadas según le había contado el primer aureliano buendía su abuelo sir francis drake se daba al deporte de cazar caimanes a cañonazos que luego hacía remendar y rellenar de paja para llevárselos a la reina isabel en su juventud él y sus hombres con mujeres y niños y animales y toda clase de enseres domésticos atravesaron la sierra buscando una salida al mar y al cabo de veintiséis meses desistieron de la empresa y fundaron a macondo para no tener que emprender el camino de regreso era pues una ruta que no le interesaba porque sólo podía conducirlo al pasado al sur estaban los pantanos cubiertos de una eterna nata vegetal y el vasto universo de la ciénaga grande que según testimonio de los gitanos carecía de límites la ciénaga grande se confundía al occidente con una extensión acuática sin horizontes donde había cetáceos de piel delicada con cabeza y torso de mujer que perdían a los navegantes con el hechizo de sus tetas descomunales los gitanos navegaban seis meses por esa ruta antes de alcanzar el cinturón de tierra firme por donde pasaban las muías del correo de acuerdo con los cálculos de josé arcadio buendía la única posibilidad de contacto con la civilización era la ruta del norte de modo que dotó de herramientas de desmonte y armas de cacería a los mismos hombres que lo acompañaron en la fundación de macondo echó en una mochila sus instrumentos de orientación y sus mapas y emprendió la temeraria aventura los primeros días no encontraron un obstáculo apreciable descendieron por la pedregosa ribera del río hasta el lugar en que años antes habían encontrado la armadura del guerrero y allí penetraron al bosque por un sendero de naranjos silvestres al término de la primera semana cien años de soledad gabriel garcía márquez mataron y asaron un venado pero se conformaron con comer la mitad y salar el resto para los próximos días trataban de aplazar con esa precaución la necesidad de seguir comiendo guacamayas cuya carne azul tenía un áspero sabor de almizcle luego durante más de diez días no volvieron a ver el sol el suelo se volvió blando y húmedo como ceniza volcánica y la vegetación fue cada vez más insidiosa y se hicieron cada vez más lejanos los gritos de los pájaros y la bullaranga de los monos y el mundo se volvió triste para siempre los hombres de la expedición se sintieron abrumados por sus recuerdos más antiguos en aquel paraíso de humedad y silencio anterior al pecado original donde las botas se hundían en pozos de aceites humeantes y los machetes destrozaban lirios sangrientos y salamandras doradas durante una semana casi sin hablar avanzaron como sonámbulos por un universo de pesadumbre alumbrados apenas por una tenue reverberación de insectos luminosos y con los pulmones agobiados por un sofocante olor de sangre no podían regresar porque la trocha que iban abriendo a su paso se volvía a cerrar en poco tiempo con una vegetación nueva que casi veían crecer ante sus ojos no importa decía josé arcadio buendía lo esencial es no perder la orientación siempre pendiente de la brújula siguió guiando a sus hombres hacia el norte invisible hasta que lograron salir de la región encantada era una noche densa sin estrellas pero la oscuridad estaba impregnada por un aire nuevo y limpio agotados por la prolongada travesía colgaron las hamacas y durmieron a fondo por primera vez en dos semanas cuando despertaron ya con el sol alto se quedaron pasmados de fascinación frente a ellos rodeado de heléchos y palmeras blanco y polvoriento en la silenciosa luz de la mañana estaba un enorme galeón español ligeramente volteado a estribor de su arboladura intacta colgaban las piltrafas escuálidas del velamen entre jarcias adornadas de orquídeas el casco cubierto con una tersa coraza de remora petrificada y musgo tierno estaba firmemente enclavado en un suelo de piedras toda la estructura parecía ocupar un ámbito propio un espacio de soledad y de olvido vedado a los vicios del tiempo y a las costumbres de los pájaros en el interior que los expedicionarios exploraron con un fervor sigiloso no había nada más que un apretado bosque de flores '"
      ]
     },
     "execution_count": 181,
     "metadata": {},
     "output_type": "execute_result"
    }
   ],
   "source": [
    "# conservamos solo palabras\n",
    "text_no_esp = re.compile(r'\\W+', re.UNICODE).split(text_GGM_low)\n",
    "text_no_esp = ' '.join(text_no_esp)\n",
    "text_no_esp\n"
   ]
  },
  {
   "attachments": {},
   "cell_type": "markdown",
   "id": "816803dd",
   "metadata": {},
   "source": [
    "#### Funcion para quitar tildes del texto en minuscula"
   ]
  },
  {
   "cell_type": "code",
   "execution_count": 182,
   "id": "11c86f7d",
   "metadata": {},
   "outputs": [
    {
     "name": "stdout",
     "output_type": "stream",
     "text": [
      "gabriel garcia marquez cien anos de soledad editado por ediciones la cueva para j omi garcia ascot y maria luisa elio cien anos de soledad gabriel garcia marquez muchos anos despues frente al peloton de fusilamiento el coronel aureliano buendia habia de recordar aquella tarde remota en que su padre lo llevo a conocer el hielo macondo era entonces una aldea de veinte casas de barro y canabrava construidas a la orilla de un rio de aguas diafanas que se precipitaban por un lecho de piedras pulidas blancas y enormes como huevos prehistoricos el mundo era tan reciente que muchas cosas carecian de nombre y para mencionarlas habia que senalarias con el dedo todos los anos por el mes de marzo una familia de gitanos desarrapados plantaba su carpa cerca de la aldea y con un grande alboroto de pitos y timbales daban a conocer los nuevos inventos primero llevaron el iman un gitano corpulento de barba montaraz y manos de gorrion que se presento con el nombre de melquiades hizo una truculenta demostracion publica de lo que el mismo llamaba la octava maravilla de los sabios alquimistas de macedonia fue de casa en casa arrastrando dos lingotes metalicos y todo el mundo se espanto al ver que los calderos las pailas las tenazas y los anafes se caian de su sitio y las maderas crujian por la desesperacion de los clavos y los tornillos tratando de desenclavarse y aun los objetos perdidos desde hacia mucho tiempo aparecian por donde mas se les habia buscado y se arrastraban en desbandada turbulenta detras de los fierros magicos de melquiades las cosas tienen vida propia pregonaba el gitano con aspero acento todo es cuestion de despertarles el anima jose arcadio buendia cuya desaforada imaginacion iba siempre mas lejos que el ingenio de la naturaleza y aun mas alla del milagro y la magia penso que era posible servirse de aquella invencion inutil para desentranar el oro de la tierra melquiades que era un hombre honrado le previno para eso no sirve pero jose arcadio buendia no creia en aquel tiempo en la honradez de los gitanos asi que cambio su mulo y una partida de chivos por los dos lingotes imantados ursula i guaran su mujer que contaba con aquellos animales para ensanchar el desmedrado patrimonio domestico no consiguio disuadirlo muy pronto ha de sobrarnos oro para empedrar la casa replico su marido durante varios meses se empeno en demostrar el acierto de sus conjeturas exploro palmo a palmo la region inclusive el fondo del rio arrastrando los dos lingotes de hierro y recitando en voz alta el conjuro de melquiades lo unico que logro desenterrar fue una armadura del siglo xv con todas sus partes soldadas por un cascote de oxido cuyo interior tenia la resonancia hueca de un enorme calabazo lleno de piedras cuando jose arcadio buendia y los cuatro hombres de su expedicion lograron desarticular la armadura encontraron dentro un esqueleto calcificado que llevaba colgado en el cuello un relicario de cobre con un rizo de mujer en marzo volvieron los gitanos esta vez llevaban un catalejo y una lupa del tamano de un tambor que exhibieron como el ultimo descubrimiento de los judios de amsterdam sentaron una gitana en un extremo de la aldea e instalaron el catalejo a la entrada de la carpa mediante el pago de cinco reales la gente se asomaba al catalejo y veia a la gitana al alcance de su mano la ciencia ha eliminado las distancias pregonaba melquiades dentro de poco el hombre podra ver lo que ocurre en cualquier lugar de la tierra sin moverse de su casa un mediodia ardiente hicieron una asombrosa demostracion con la lupa gigantesca pusieron un monton de hierba seca en mitad de la calle y le prendieron fuego mediante la concentracion de los rayos solares jose arcadio buendia que aun no acababa de consolarse por el fracaso de sus imanes concibio la idea de utilizar aquel invento como un arma de guerra melquiades otra vez trato de disuadirlo pero termino por aceptar los dos lingotes imantados y tres piezas de dinero colonial a cambio de la lupa ursula lloro de consternacion aquel dinero formaba parte de un cofre de monedas de oro que su padre habia acumulado en toda una vida de privaciones y que ella habia enterrado debajo de la cama en espera de una buena ocasion para invertirias jose arcadio buendia no trato siquiera de consolarla entregado por entero a sus experimentos tacticos con la abnegacion de un cientifico y aun a riesgo de su propia vida tratando de demostrar los efectos de la lupa en la tropa enemiga se expuso el mismo a la concentracion de los rayos solares y sufrio quemaduras que se convirtieron en ulceras y tardaron mucho tiempo en sanar ante las protestas de su mujer alarmada por tan peligrosa inventiva estuvo a punto de incendiar la casa pasaba largas horas en su cuarto haciendo calculos sobre las posibilidades estrategicas de su arma novedosa hasta que logro componer un manual de una asombrosa claridad didactica y un cien anos de soledad gabriel garcia marquez poder de conviccion irresistible lo envio a las autoridades acompanado de numerosos testimonios sobre sus experiencias y de varios pliegos de dibujos explicativos al cuidado de un mensajero que atraveso la sierra y se extravio en pantanos desmesurados remonto rios tormentosos y estuvo a punto de perecer bajo el azote de las fieras la desesperacion y la peste antes de conseguir una ruta de enlace con las muias del correo a pesar de que el viaje a la capital era en aquel tiempo poco menos que imposible jose arcadio buendia prometia intentarlo tan pronto como se lo ordenara el gobierno con el fin de hacer demostraciones practicas de su invento ante los poderes militares y adiestrarlos personalmente en las complicadas artes de la guerra solar durante varios anos espero la respuesta por ultimo cansado de esperar se lamento ante melquiades del fracaso de su iniciativa y el gitano dio entonces una prueba convincente de honradez le devolvio los doblones a cambio de la lupa y le dejo ademas unos mapas portugueses y varios instrumentos de navegacion de su puno y letra escribio una apretada sintesis de los estudios del monje hermann que dejo a su disposicion para que pudiera servirse del astrolabio la brujula y el sextante jose arcadio buendia paso los largos meses de lluvia encerrado en un cuartito que construyo en el fondo de la casa para que nadie perturbara sus experimentos habiendo abandonado por completo las obligaciones domesticas permanecio noches enteras en el patio vigilando el curso de los astros y estuvo a punto de contraer una insolacion por tratar de establecer un metodo exacto para encontrar el mediodia cuando se hizo experto en el uso y manejo de sus instrumentos tuvo una nocion del espacio que le permitio navegar por mares incognitos visitar territorios deshabitados y trabar relacion con seres esplendidos sin necesidad de abandonar su gabinete fue esa la epoca en que adquirio el habito de hablar a solas paseandose por la casa sin hacer caso de nadie mientras ursula y los ninos se partian el espinazo en la huerta cuidando el platano y la malanga la yuca y el name la ahuyama y la berenjena de pronto sin ningun anuncio su actividad febril se interrumpio y fue sustituida por una especie de fascinacion estuvo varios dias como hechizado repitiendose a si mismo en voz baja un sartal de asombrosas conjeturas sin dar credito a su propio entendimiento por fin un martes de diciembre a la hora del almuerzo solto de un golpe toda la carga de su tormento los ninos habian de recordar por el resto de su vida la augusta solemnidad con que su padre se sento a la cabecera de la mesa temblando de fiebre devastado por la prolongada vigilia y por el encono de su imaginacion y les revelo su descubrimiento la tierra es redonda como una naranja ursula perdio la paciencia si has de volverte loco vuelvete tu solo grito pero no trates de inculcar a los ninos tus ideas de gitano jose arcadio buendia impasible no se dejo amedrentar por la desesperacion de su mujer que en un rapto de colera le destrozo el astrolabio contra el suelo construyo otro reunio en el cuartito a los hombres del pueblo y les demostro con teorias que para todos resultaban incomprensibles la posibilidad de regresar al punto de partida navegando siempre hacia el oriente toda la aldea estaba convencida de que jose arcadio buendia habia perdido el juicio cuando llego melquiades a poner las cosas en su punto exalto en publico la inteligencia de aquel hombre que por pura especulacion astronomica habia construido una teoria ya comprobada en la practica aunque desconocida hasta entonces en macondo y como una prueba de su admiracion le hizo un regalo que habia de ejercer una influencia terminante en el futuro de la aldea un laboratorio de alquimia para esa epoca melquiades habia envejecido con una rapidez asombrosa en sus primeros viajes parecia tener la misma edad de jose arcadio buendia pero mientras este conservaba su fuerza descomunal que le permitia derribar un caballo agarrandolo por las orejas el gitano parecia estragado por una dolencia tenaz era en realidad el resultado de multiples y raras enfermedades contraidas en sus incontables viajes alrededor del mundo segun el mismo le conto a jose arcadio buendia mientras lo ayudaba a montar el laboratorio la muerte lo seguia a todas partes husmeandole los pantalones pero sin decidirse a darle el zarpazo final era un fugitivo de cuantas plagas y catastrofes habian flagelado al genero humano sobrevivio a la pelagra en persia al escorbuto en el archipielago de malasia a la lepra en alejandria al beriberi en el japon a la peste bubonica en madagascar al terremoto de sicilia y a un naufragio multitudinario en el estrecho de magallanes aquel ser prodigioso que decia poseer las claves de nostradamus era un hombre lugubre envuelto en un aura triste con una mirada asiatica que parecia conocer el otro lado de las cosas usaba un sombrero grande y negro como las alas extendidas de un cuervo y un chaleco de terciopelo patinado por el verdin de los siglos pero a pesar de su inmensa sabiduria y de su ambito misterioso tenia un peso humano una condicion terrestre que lo cien anos de soledad gabriel garcia marquez mantenia enredado en los minusculos problemas de la vida cotidiana se quejaba de dolencias de viejo sufria por los mas insignificantes percances economicos y habia dejado de reir desde hacia mucho tiempo porque el escorbuto le habia arrancado los dientes el sofocante mediodia en que revelo sus secretos jose arcadio buendia tuvo la certidumbre de que aquel era el principio de una grande amistad los ninos se asombraron con sus relatos fantasticos aureliano que no tenia entonces mas de cinco anos habia de recordarlo por el resto de su vida como lo vio aquella tarde sentado contra la claridad metalica y reverberante de la ventana alumbrando con su pro funda voz de organo los territorios mas oscuros de la imaginacion mientras chorreaba por sus sienes la grasa derretida por el calor jose arcadio su hermano mayor habia de transmitir aquella imagen maravillosa como un recuerdo hereditario a toda su descendencia ursula en cambio conservo un mal recuerdo de aquella visita porque entro al cuarto en el momento en que melquiades rompio por distraccion un frasco de bicloruro de mercurio es el olor del demonio dijo ella en absoluto corrigio melquiades esta comprobado que el demonio tiene propiedades sulfuricas y esto no es mas que un poco de soliman siempre didactico hizo una sabia exposicion sobre las virtudes diabolicas del cinabrio pero ursula no le hizo caso sino que se llevo los ninos a rezar aquel olor mordiente quedaria para siempre en su memoria vinculado al recuerdo de melquiades el rudimentario laboratorio sin contar una profusion de cazuelas embudos retortas filtros y coladores estaba compuesto por un atanor primitivo una probeta de cristal de cuello largo y angosto imitacion del huevo filosofico y un destilador construido por los propios gitanos segun las descripciones modernas del alambique de tres brazos de maria la judia ademas de estas cosas melquiades dejo muestras de los siete metales correspondientes a los siete planetas las formulas de moises y zosimo para el doblado del oro y una serie de apuntes y dibujos sobre los procesos del gran magisterio que permitian a quien supiera interpretarlos intentar la fabricacion de la piedra filosofal seducido por la simplicidad de las formulas para doblar el oro jose arcadio buendia cortejo a ursula durante varias semanas para que le permitiera desenterrar sus monedas coloniales y aumentarlas tantas veces como era posible subdividir el azogue ursula cedio como ocurria siempre ante la inquebrantable obstinacion de su marido entonces jose arcadio buendia echo treinta doblones en una cazuela y los fundio con raspadura de cobre oropimente azufre y plomo puso a hervir todo a fuego vivo en un caldero de aceite de ricino hasta obtener un jarabe espeso y pestilente mas parecido al caramelo vulgar que al oro magnifico en azarosos y desesperados procesos de destilacion fundida con los siete metales planetarios trabajada con el mercurio hermetico y el vitriolo de chipre y vuelta a cocer en manteca de cerdo a falta de aceite de rabano la preciosa herencia de ursula quedo reducida a un chicharron carbonizado que no pudo ser desprendido del fondo del caldero cuando volvieron los gitanos ursula habia predispuesto contra ellos a toda la poblacion pero la curiosidad pudo mas que el temor porque aquella vez los gitanos recorrieron la aldea haciendo un ruido ensordecedor con toda clase de instrumentos musicos mientras el pregonero anunciaba la exhibicion del mas fabuloso hallazgo de los nasciancenos de modo que todo el mundo se fue a la carpa y mediante el pago de un centavo vieron un melquiades juvenil repuesto desarrugado con una dentadura nueva y radiante quienes recordaban sus encias destruidas por el escorbuto sus mejillas flaccidas y sus labios marchitos se estremecieron de pavor ante aquella prueba terminante de los poderes sobrenaturales del gitano el pavor se convirtio en panico cuando melquiades se saco los dientes intactos engastados en las encias y se los mostro al publico por un instante un instante fugaz en que volvio a ser el mismo hombre decrepito de los anos anteriores y se los puso otra vez y sonrio de nuevo con un dominio pleno de su juventud restaurada hasta el propio jose arcadio buendia considero que los conocimientos de melquiades habian llegado a extremos intolerables pero experimento un saludable alborozo cuando el gitano le explico a solas el mecanismo de su dentadura postiza aquello le parecio a la vez tan sencillo y prodigioso que de la noche a la manana perdio todo interes en las investigaciones de alquimia sufrio una nueva crisis de mal humor no volvio a comer en forma regular y se pasaba el dia dando vueltas por la casa en el mundo estan ocurriendo cosas increibles le decia a ursula ahi mismo al otro lado del rio hay toda clase de aparatos magicos mientras nosotros seguimos viviendo como los burros quienes lo conocian desde los tiempos de la fundacion de macondo se asombraban de cuanto habia cambiado bajo la influencia de melquiades cien anos de soledad gabriel garcia marquez al principio jose arcadio buendia era una especie de patriarca juvenil que daba instrucciones para la siembra y consejos para la crianza de ninos y animales y colaboraba con todos aun en el trabajo fisico para la buena marcha de la comunidad puesto que su casa fue desde el primer momento la mejor de la aldea las otras fueron arregladas a su imagen y semejanza tenia una salita amplia y bien iluminada un comedor en forma de terraza con flores de colores alegres dos dormitorios un patio con un castano gigantesco un huerto bien plantado y un corral donde vivian en comunidad pacifica los chivos los cerdos y las gallinas los unicos animales prohibidos no solo en la casa sino en todo el poblado eran los gallos de pelea la laboriosidad de ursula andaba a la par con la de su marido activa menuda severa aquella mujer de nervios inquebrantables a quien en ningun momento de su vida se la oyo cantar parecia estar en todas partes desde el amanecer hasta muy entrada la noche siempre perseguida por el suave susurro de sus pollerines de olan gracias a ella los pisos de tierra golpeada los muros de barro sin encalar los rusticos muebles de madera construidos por ellos mismos estaban siempre limpios y los viejos arcones donde se guardaba la ropa exhalaban un tibio olor de albahaca jose arcadio buendia que era el hombre mas emprendedor que se veria jamas en la aldea habia dispuesto de tal modo la posicion de las casas que desde todas podia llegarse al rio y abastecerse de agua con igual esfuerzo y trazo las calles con tan buen sentido que ninguna casa recibia mas sol que otra a la hora del calor en pocos anos macondo fue una aldea mas ordenada y laboriosa que cualquiera de las conocidas hasta entonces por sus 300 habitantes era en verdad una aldea feliz donde nadie era mayor de treinta anos y donde nadie habia muerto desde los tiempos de la fundacion jose arcadio buendia construyo trampas y jaulas en poco tiempo lleno de turpiales canarios azulejos y petirrojos no solo la propia casa sino todas las de la aldea el concierto de tantos pajaros distintos llego a ser tan aturdidor que ursula se tapo los oidos con cera de abejas para no perder el sentido de la realidad la primera vez que llego la tribu de melquiades vendiendo bolas de vidrio para el dolor de cabeza todo el mundo se sorprendio de que hubieran podido encontrar aquella aldea perdida en el sopor de la cienaga y los gitanos confesaron que se habian orientado por el canto de los pajaros aquel espiritu de iniciativa social desaparecio en poco tiempo arrastrado por la fiebre de los imanes los calculos astronomicos los suenos de trasmutacion y las ansias de conocer las maravillas del mundo de emprendedor y limpio jose arcadio buendia se convirtio en un hombre de aspecto holgazan descuidado en el vestir con una barba salvaje que ursula lograba cuadrar a duras penas con un cuchillo de cocina no falto quien lo considerara victima de algun extrano sortilegio pero hasta los mas convencidos de su locura abandonaron trabajo y familias para seguirlo cuando se echo al hombro sus herramientas de desmontar y pidio el concurso de todos para abrir una trocha que pusiera a macondo en contacto con los graneles inventos jose arcadio buendia ignoraba por completo la geografia de la region sabia que hacia el oriente estaba la sierra impenetrable y al otro lado de la sierra la antigua ciudad de riohacha donde en epocas pasadas segun le habia contado el primer aureliano buendia su abuelo sir francis drake se daba al deporte de cazar caimanes a canonazos que luego hacia remendar y rellenar de paja para llevarselos a la reina isabel en su juventud el y sus hombres con mujeres y ninos y animales y toda clase de enseres domesticos atravesaron la sierra buscando una salida al mar y al cabo de veintiseis meses desistieron de la empresa y fundaron a macondo para no tener que emprender el camino de regreso era pues una ruta que no le interesaba porque solo podia conducirlo al pasado al sur estaban los pantanos cubiertos de una eterna nata vegetal y el vasto universo de la cienaga grande que segun testimonio de los gitanos carecia de limites la cienaga grande se confundia al occidente con una extension acuatica sin horizontes donde habia cetaceos de piel delicada con cabeza y torso de mujer que perdian a los navegantes con el hechizo de sus tetas descomunales los gitanos navegaban seis meses por esa ruta antes de alcanzar el cinturon de tierra firme por donde pasaban las muias del correo de acuerdo con los calculos de jose arcadio buendia la unica posibilidad de contacto con la civilizacion era la ruta del norte de modo que doto de herramientas de desmonte y armas de caceria a los mismos hombres que lo acompanaron en la fundacion de macondo echo en una mochila sus instrumentos de orientacion y sus mapas y emprendio la temeraria aventura los primeros dias no encontraron un obstaculo apreciable descendieron por la pedregosa ribera del rio hasta el lugar en que anos antes habian encontrado la armadura del guerrero y alli penetraron al bosque por un sendero de naranjos silvestres al termino de la primera semana cien anos de soledad gabriel garcia marquez mataron y asaron un venado pero se conformaron con comer la mitad y salar el resto para los proximos dias trataban de aplazar con esa precaucion la necesidad de seguir comiendo guacamayas cuya carne azul tenia un aspero sabor de almizcle luego durante mas de diez dias no volvieron a ver el sol el suelo se volvio blando y humedo como ceniza volcanica y la vegetacion fue cada vez mas insidiosa y se hicieron cada vez mas lejanos los gritos de los pajaros y la bullaranga de los monos y el mundo se volvio triste para siempre los hombres de la expedicion se sintieron abrumados por sus recuerdos mas antiguos en aquel paraiso de humedad y silencio anterior al pecado original donde las botas se hundian en pozos de aceites humeantes y los machetes destrozaban lirios sangrientos y salamandras doradas durante una semana casi sin hablar avanzaron como sonambulos por un universo de pesadumbre alumbrados apenas por una tenue reverberacion de insectos luminosos y con los pulmones agobiados por un sofocante olor de sangre no podian regresar porque la trocha que iban abriendo a su paso se volvia a cerrar en poco tiempo con una vegetacion nueva que casi veian crecer ante sus ojos no importa decia jose arcadio buendia lo esencial es no perder la orientacion siempre pendiente de la brujula siguio guiando a sus hombres hacia el norte invisible hasta que lograron salir de la region encantada era una noche densa sin estrellas pero la oscuridad estaba impregnada por un aire nuevo y limpio agotados por la prolongada travesia colgaron las hamacas y durmieron a fondo por primera vez en dos semanas cuando despertaron ya con el sol alto se quedaron pasmados de fascinacion frente a ellos rodeado de helechos y palmeras blanco y polvoriento en la silenciosa luz de la manana estaba un enorme galeon espanol ligeramente volteado a estribor de su arboladura intacta colgaban las piltrafas escualidas del velamen entre jarcias adornadas de orquideas el casco cubierto con una tersa coraza de remora petrificada y musgo tierno estaba firmemente enclavado en un suelo de piedras toda la estructura parecia ocupar un ambito propio un espacio de soledad y de olvido vedado a los vicios del tiempo y a las costumbres de los pajaros en el interior que los expedicionarios exploraron con un fervor sigiloso no habia nada mas que un apretado bosque de flores \n"
     ]
    }
   ],
   "source": [
    "from unidecode import unidecode\n",
    "\n",
    "# funcion para quitar tildes del texto en minuscula\n",
    "def remove_tildes(s):\n",
    "    return unidecode(s)\n",
    "\n",
    "\n",
    "\n",
    "#removemos las tildes del texto de Gabo\n",
    "text_no_tildes = remove_tildes(text_no_esp)\n",
    "print(text_no_tildes)\n"
   ]
  },
  {
   "attachments": {},
   "cell_type": "markdown",
   "id": "8859073e",
   "metadata": {},
   "source": [
    "#### Tokenizamos"
   ]
  },
  {
   "cell_type": "code",
   "execution_count": 183,
   "id": "9127842a",
   "metadata": {},
   "outputs": [
    {
     "data": {
      "text/plain": [
       "['gabriel',\n",
       " 'garcia',\n",
       " 'marquez',\n",
       " 'cien',\n",
       " 'anos',\n",
       " 'de',\n",
       " 'soledad',\n",
       " 'editado',\n",
       " 'por',\n",
       " 'ediciones',\n",
       " 'la',\n",
       " 'cueva',\n",
       " 'para',\n",
       " 'j',\n",
       " 'omi',\n",
       " 'garcia',\n",
       " 'ascot',\n",
       " 'y',\n",
       " 'maria',\n",
       " 'luisa',\n",
       " 'elio',\n",
       " 'cien',\n",
       " 'anos',\n",
       " 'de',\n",
       " 'soledad',\n",
       " 'gabriel',\n",
       " 'garcia',\n",
       " 'marquez',\n",
       " 'muchos',\n",
       " 'anos',\n",
       " 'despues',\n",
       " 'frente',\n",
       " 'al',\n",
       " 'peloton',\n",
       " 'de',\n",
       " 'fusilamiento',\n",
       " 'el',\n",
       " 'coronel',\n",
       " 'aureliano',\n",
       " 'buendia',\n",
       " 'habia',\n",
       " 'de',\n",
       " 'recordar',\n",
       " 'aquella',\n",
       " 'tarde',\n",
       " 'remota',\n",
       " 'en',\n",
       " 'que',\n",
       " 'su',\n",
       " 'padre',\n",
       " 'lo',\n",
       " 'llevo',\n",
       " 'a',\n",
       " 'conocer',\n",
       " 'el',\n",
       " 'hielo',\n",
       " 'macondo',\n",
       " 'era',\n",
       " 'entonces',\n",
       " 'una',\n",
       " 'aldea',\n",
       " 'de',\n",
       " 'veinte',\n",
       " 'casas',\n",
       " 'de',\n",
       " 'barro',\n",
       " 'y',\n",
       " 'canabrava',\n",
       " 'construidas',\n",
       " 'a',\n",
       " 'la',\n",
       " 'orilla',\n",
       " 'de',\n",
       " 'un',\n",
       " 'rio',\n",
       " 'de',\n",
       " 'aguas',\n",
       " 'diafanas',\n",
       " 'que',\n",
       " 'se',\n",
       " 'precipitaban',\n",
       " 'por',\n",
       " 'un',\n",
       " 'lecho',\n",
       " 'de',\n",
       " 'piedras',\n",
       " 'pulidas',\n",
       " 'blancas',\n",
       " 'y',\n",
       " 'enormes',\n",
       " 'como',\n",
       " 'huevos',\n",
       " 'prehistoricos',\n",
       " 'el',\n",
       " 'mundo',\n",
       " 'era',\n",
       " 'tan',\n",
       " 'reciente',\n",
       " 'que',\n",
       " 'muchas',\n",
       " 'cosas',\n",
       " 'carecian',\n",
       " 'de',\n",
       " 'nombre',\n",
       " 'y',\n",
       " 'para',\n",
       " 'mencionarlas',\n",
       " 'habia',\n",
       " 'que',\n",
       " 'senalarias',\n",
       " 'con',\n",
       " 'el',\n",
       " 'dedo',\n",
       " 'todos',\n",
       " 'los',\n",
       " 'anos',\n",
       " 'por',\n",
       " 'el',\n",
       " 'mes',\n",
       " 'de',\n",
       " 'marzo',\n",
       " 'una',\n",
       " 'familia',\n",
       " 'de',\n",
       " 'gitanos',\n",
       " 'desarrapados',\n",
       " 'plantaba',\n",
       " 'su',\n",
       " 'carpa',\n",
       " 'cerca',\n",
       " 'de',\n",
       " 'la',\n",
       " 'aldea',\n",
       " 'y',\n",
       " 'con',\n",
       " 'un',\n",
       " 'grande',\n",
       " 'alboroto',\n",
       " 'de',\n",
       " 'pitos',\n",
       " 'y',\n",
       " 'timbales',\n",
       " 'daban',\n",
       " 'a',\n",
       " 'conocer',\n",
       " 'los',\n",
       " 'nuevos',\n",
       " 'inventos',\n",
       " 'primero',\n",
       " 'llevaron',\n",
       " 'el',\n",
       " 'iman',\n",
       " 'un',\n",
       " 'gitano',\n",
       " 'corpulento',\n",
       " 'de',\n",
       " 'barba',\n",
       " 'montaraz',\n",
       " 'y',\n",
       " 'manos',\n",
       " 'de',\n",
       " 'gorrion',\n",
       " 'que',\n",
       " 'se',\n",
       " 'presento',\n",
       " 'con',\n",
       " 'el',\n",
       " 'nombre',\n",
       " 'de',\n",
       " 'melquiades',\n",
       " 'hizo',\n",
       " 'una',\n",
       " 'truculenta',\n",
       " 'demostracion',\n",
       " 'publica',\n",
       " 'de',\n",
       " 'lo',\n",
       " 'que',\n",
       " 'el',\n",
       " 'mismo',\n",
       " 'llamaba',\n",
       " 'la',\n",
       " 'octava',\n",
       " 'maravilla',\n",
       " 'de',\n",
       " 'los',\n",
       " 'sabios',\n",
       " 'alquimistas',\n",
       " 'de',\n",
       " 'macedonia',\n",
       " 'fue',\n",
       " 'de',\n",
       " 'casa',\n",
       " 'en',\n",
       " 'casa',\n",
       " 'arrastrando',\n",
       " 'dos',\n",
       " 'lingotes',\n",
       " 'metalicos',\n",
       " 'y',\n",
       " 'todo',\n",
       " 'el',\n",
       " 'mundo',\n",
       " 'se',\n",
       " 'espanto',\n",
       " 'al',\n",
       " 'ver',\n",
       " 'que',\n",
       " 'los',\n",
       " 'calderos',\n",
       " 'las',\n",
       " 'pailas',\n",
       " 'las',\n",
       " 'tenazas',\n",
       " 'y',\n",
       " 'los',\n",
       " 'anafes',\n",
       " 'se',\n",
       " 'caian',\n",
       " 'de',\n",
       " 'su',\n",
       " 'sitio',\n",
       " 'y',\n",
       " 'las',\n",
       " 'maderas',\n",
       " 'crujian',\n",
       " 'por',\n",
       " 'la',\n",
       " 'desesperacion',\n",
       " 'de',\n",
       " 'los',\n",
       " 'clavos',\n",
       " 'y',\n",
       " 'los',\n",
       " 'tornillos',\n",
       " 'tratando',\n",
       " 'de',\n",
       " 'desenclavarse',\n",
       " 'y',\n",
       " 'aun',\n",
       " 'los',\n",
       " 'objetos',\n",
       " 'perdidos',\n",
       " 'desde',\n",
       " 'hacia',\n",
       " 'mucho',\n",
       " 'tiempo',\n",
       " 'aparecian',\n",
       " 'por',\n",
       " 'donde',\n",
       " 'mas',\n",
       " 'se',\n",
       " 'les',\n",
       " 'habia',\n",
       " 'buscado',\n",
       " 'y',\n",
       " 'se',\n",
       " 'arrastraban',\n",
       " 'en',\n",
       " 'desbandada',\n",
       " 'turbulenta',\n",
       " 'detras',\n",
       " 'de',\n",
       " 'los',\n",
       " 'fierros',\n",
       " 'magicos',\n",
       " 'de',\n",
       " 'melquiades',\n",
       " 'las',\n",
       " 'cosas',\n",
       " 'tienen',\n",
       " 'vida',\n",
       " 'propia',\n",
       " 'pregonaba',\n",
       " 'el',\n",
       " 'gitano',\n",
       " 'con',\n",
       " 'aspero',\n",
       " 'acento',\n",
       " 'todo',\n",
       " 'es',\n",
       " 'cuestion',\n",
       " 'de',\n",
       " 'despertarles',\n",
       " 'el',\n",
       " 'anima',\n",
       " 'jose',\n",
       " 'arcadio',\n",
       " 'buendia',\n",
       " 'cuya',\n",
       " 'desaforada',\n",
       " 'imaginacion',\n",
       " 'iba',\n",
       " 'siempre',\n",
       " 'mas',\n",
       " 'lejos',\n",
       " 'que',\n",
       " 'el',\n",
       " 'ingenio',\n",
       " 'de',\n",
       " 'la',\n",
       " 'naturaleza',\n",
       " 'y',\n",
       " 'aun',\n",
       " 'mas',\n",
       " 'alla',\n",
       " 'del',\n",
       " 'milagro',\n",
       " 'y',\n",
       " 'la',\n",
       " 'magia',\n",
       " 'penso',\n",
       " 'que',\n",
       " 'era',\n",
       " 'posible',\n",
       " 'servirse',\n",
       " 'de',\n",
       " 'aquella',\n",
       " 'invencion',\n",
       " 'inutil',\n",
       " 'para',\n",
       " 'desentranar',\n",
       " 'el',\n",
       " 'oro',\n",
       " 'de',\n",
       " 'la',\n",
       " 'tierra',\n",
       " 'melquiades',\n",
       " 'que',\n",
       " 'era',\n",
       " 'un',\n",
       " 'hombre',\n",
       " 'honrado',\n",
       " 'le',\n",
       " 'previno',\n",
       " 'para',\n",
       " 'eso',\n",
       " 'no',\n",
       " 'sirve',\n",
       " 'pero',\n",
       " 'jose',\n",
       " 'arcadio',\n",
       " 'buendia',\n",
       " 'no',\n",
       " 'creia',\n",
       " 'en',\n",
       " 'aquel',\n",
       " 'tiempo',\n",
       " 'en',\n",
       " 'la',\n",
       " 'honradez',\n",
       " 'de',\n",
       " 'los',\n",
       " 'gitanos',\n",
       " 'asi',\n",
       " 'que',\n",
       " 'cambio',\n",
       " 'su',\n",
       " 'mulo',\n",
       " 'y',\n",
       " 'una',\n",
       " 'partida',\n",
       " 'de',\n",
       " 'chivos',\n",
       " 'por',\n",
       " 'los',\n",
       " 'dos',\n",
       " 'lingotes',\n",
       " 'imantados',\n",
       " 'ursula',\n",
       " 'i',\n",
       " 'guaran',\n",
       " 'su',\n",
       " 'mujer',\n",
       " 'que',\n",
       " 'contaba',\n",
       " 'con',\n",
       " 'aquellos',\n",
       " 'animales',\n",
       " 'para',\n",
       " 'ensanchar',\n",
       " 'el',\n",
       " 'desmedrado',\n",
       " 'patrimonio',\n",
       " 'domestico',\n",
       " 'no',\n",
       " 'consiguio',\n",
       " 'disuadirlo',\n",
       " 'muy',\n",
       " 'pronto',\n",
       " 'ha',\n",
       " 'de',\n",
       " 'sobrarnos',\n",
       " 'oro',\n",
       " 'para',\n",
       " 'empedrar',\n",
       " 'la',\n",
       " 'casa',\n",
       " 'replico',\n",
       " 'su',\n",
       " 'marido',\n",
       " 'durante',\n",
       " 'varios',\n",
       " 'meses',\n",
       " 'se',\n",
       " 'empeno',\n",
       " 'en',\n",
       " 'demostrar',\n",
       " 'el',\n",
       " 'acierto',\n",
       " 'de',\n",
       " 'sus',\n",
       " 'conjeturas',\n",
       " 'exploro',\n",
       " 'palmo',\n",
       " 'a',\n",
       " 'palmo',\n",
       " 'la',\n",
       " 'region',\n",
       " 'inclusive',\n",
       " 'el',\n",
       " 'fondo',\n",
       " 'del',\n",
       " 'rio',\n",
       " 'arrastrando',\n",
       " 'los',\n",
       " 'dos',\n",
       " 'lingotes',\n",
       " 'de',\n",
       " 'hierro',\n",
       " 'y',\n",
       " 'recitando',\n",
       " 'en',\n",
       " 'voz',\n",
       " 'alta',\n",
       " 'el',\n",
       " 'conjuro',\n",
       " 'de',\n",
       " 'melquiades',\n",
       " 'lo',\n",
       " 'unico',\n",
       " 'que',\n",
       " 'logro',\n",
       " 'desenterrar',\n",
       " 'fue',\n",
       " 'una',\n",
       " 'armadura',\n",
       " 'del',\n",
       " 'siglo',\n",
       " 'xv',\n",
       " 'con',\n",
       " 'todas',\n",
       " 'sus',\n",
       " 'partes',\n",
       " 'soldadas',\n",
       " 'por',\n",
       " 'un',\n",
       " 'cascote',\n",
       " 'de',\n",
       " 'oxido',\n",
       " 'cuyo',\n",
       " 'interior',\n",
       " 'tenia',\n",
       " 'la',\n",
       " 'resonancia',\n",
       " 'hueca',\n",
       " 'de',\n",
       " 'un',\n",
       " 'enorme',\n",
       " 'calabazo',\n",
       " 'lleno',\n",
       " 'de',\n",
       " 'piedras',\n",
       " 'cuando',\n",
       " 'jose',\n",
       " 'arcadio',\n",
       " 'buendia',\n",
       " 'y',\n",
       " 'los',\n",
       " 'cuatro',\n",
       " 'hombres',\n",
       " 'de',\n",
       " 'su',\n",
       " 'expedicion',\n",
       " 'lograron',\n",
       " 'desarticular',\n",
       " 'la',\n",
       " 'armadura',\n",
       " 'encontraron',\n",
       " 'dentro',\n",
       " 'un',\n",
       " 'esqueleto',\n",
       " 'calcificado',\n",
       " 'que',\n",
       " 'llevaba',\n",
       " 'colgado',\n",
       " 'en',\n",
       " 'el',\n",
       " 'cuello',\n",
       " 'un',\n",
       " 'relicario',\n",
       " 'de',\n",
       " 'cobre',\n",
       " 'con',\n",
       " 'un',\n",
       " 'rizo',\n",
       " 'de',\n",
       " 'mujer',\n",
       " 'en',\n",
       " 'marzo',\n",
       " 'volvieron',\n",
       " 'los',\n",
       " 'gitanos',\n",
       " 'esta',\n",
       " 'vez',\n",
       " 'llevaban',\n",
       " 'un',\n",
       " 'catalejo',\n",
       " 'y',\n",
       " 'una',\n",
       " 'lupa',\n",
       " 'del',\n",
       " 'tamano',\n",
       " 'de',\n",
       " 'un',\n",
       " 'tambor',\n",
       " 'que',\n",
       " 'exhibieron',\n",
       " 'como',\n",
       " 'el',\n",
       " 'ultimo',\n",
       " 'descubrimiento',\n",
       " 'de',\n",
       " 'los',\n",
       " 'judios',\n",
       " 'de',\n",
       " 'amsterdam',\n",
       " 'sentaron',\n",
       " 'una',\n",
       " 'gitana',\n",
       " 'en',\n",
       " 'un',\n",
       " 'extremo',\n",
       " 'de',\n",
       " 'la',\n",
       " 'aldea',\n",
       " 'e',\n",
       " 'instalaron',\n",
       " 'el',\n",
       " 'catalejo',\n",
       " 'a',\n",
       " 'la',\n",
       " 'entrada',\n",
       " 'de',\n",
       " 'la',\n",
       " 'carpa',\n",
       " 'mediante',\n",
       " 'el',\n",
       " 'pago',\n",
       " 'de',\n",
       " 'cinco',\n",
       " 'reales',\n",
       " 'la',\n",
       " 'gente',\n",
       " 'se',\n",
       " 'asomaba',\n",
       " 'al',\n",
       " 'catalejo',\n",
       " 'y',\n",
       " 'veia',\n",
       " 'a',\n",
       " 'la',\n",
       " 'gitana',\n",
       " 'al',\n",
       " 'alcance',\n",
       " 'de',\n",
       " 'su',\n",
       " 'mano',\n",
       " 'la',\n",
       " 'ciencia',\n",
       " 'ha',\n",
       " 'eliminado',\n",
       " 'las',\n",
       " 'distancias',\n",
       " 'pregonaba',\n",
       " 'melquiades',\n",
       " 'dentro',\n",
       " 'de',\n",
       " 'poco',\n",
       " 'el',\n",
       " 'hombre',\n",
       " 'podra',\n",
       " 'ver',\n",
       " 'lo',\n",
       " 'que',\n",
       " 'ocurre',\n",
       " 'en',\n",
       " 'cualquier',\n",
       " 'lugar',\n",
       " 'de',\n",
       " 'la',\n",
       " 'tierra',\n",
       " 'sin',\n",
       " 'moverse',\n",
       " 'de',\n",
       " 'su',\n",
       " 'casa',\n",
       " 'un',\n",
       " 'mediodia',\n",
       " 'ardiente',\n",
       " 'hicieron',\n",
       " 'una',\n",
       " 'asombrosa',\n",
       " 'demostracion',\n",
       " 'con',\n",
       " 'la',\n",
       " 'lupa',\n",
       " 'gigantesca',\n",
       " 'pusieron',\n",
       " 'un',\n",
       " 'monton',\n",
       " 'de',\n",
       " 'hierba',\n",
       " 'seca',\n",
       " 'en',\n",
       " 'mitad',\n",
       " 'de',\n",
       " 'la',\n",
       " 'calle',\n",
       " 'y',\n",
       " 'le',\n",
       " 'prendieron',\n",
       " 'fuego',\n",
       " 'mediante',\n",
       " 'la',\n",
       " 'concentracion',\n",
       " 'de',\n",
       " 'los',\n",
       " 'rayos',\n",
       " 'solares',\n",
       " 'jose',\n",
       " 'arcadio',\n",
       " 'buendia',\n",
       " 'que',\n",
       " 'aun',\n",
       " 'no',\n",
       " 'acababa',\n",
       " 'de',\n",
       " 'consolarse',\n",
       " 'por',\n",
       " 'el',\n",
       " 'fracaso',\n",
       " 'de',\n",
       " 'sus',\n",
       " 'imanes',\n",
       " 'concibio',\n",
       " 'la',\n",
       " 'idea',\n",
       " 'de',\n",
       " 'utilizar',\n",
       " 'aquel',\n",
       " 'invento',\n",
       " 'como',\n",
       " 'un',\n",
       " 'arma',\n",
       " 'de',\n",
       " 'guerra',\n",
       " 'melquiades',\n",
       " 'otra',\n",
       " 'vez',\n",
       " 'trato',\n",
       " 'de',\n",
       " 'disuadirlo',\n",
       " 'pero',\n",
       " 'termino',\n",
       " 'por',\n",
       " 'aceptar',\n",
       " 'los',\n",
       " 'dos',\n",
       " 'lingotes',\n",
       " 'imantados',\n",
       " 'y',\n",
       " 'tres',\n",
       " 'piezas',\n",
       " 'de',\n",
       " 'dinero',\n",
       " 'colonial',\n",
       " 'a',\n",
       " 'cambio',\n",
       " 'de',\n",
       " 'la',\n",
       " 'lupa',\n",
       " 'ursula',\n",
       " 'lloro',\n",
       " 'de',\n",
       " 'consternacion',\n",
       " 'aquel',\n",
       " 'dinero',\n",
       " 'formaba',\n",
       " 'parte',\n",
       " 'de',\n",
       " 'un',\n",
       " 'cofre',\n",
       " 'de',\n",
       " 'monedas',\n",
       " 'de',\n",
       " 'oro',\n",
       " 'que',\n",
       " 'su',\n",
       " 'padre',\n",
       " 'habia',\n",
       " 'acumulado',\n",
       " 'en',\n",
       " 'toda',\n",
       " 'una',\n",
       " 'vida',\n",
       " 'de',\n",
       " 'privaciones',\n",
       " 'y',\n",
       " 'que',\n",
       " 'ella',\n",
       " 'habia',\n",
       " 'enterrado',\n",
       " 'debajo',\n",
       " 'de',\n",
       " 'la',\n",
       " 'cama',\n",
       " 'en',\n",
       " 'espera',\n",
       " 'de',\n",
       " 'una',\n",
       " 'buena',\n",
       " 'ocasion',\n",
       " 'para',\n",
       " 'invertirias',\n",
       " 'jose',\n",
       " 'arcadio',\n",
       " 'buendia',\n",
       " 'no',\n",
       " 'trato',\n",
       " 'siquiera',\n",
       " 'de',\n",
       " 'consolarla',\n",
       " 'entregado',\n",
       " 'por',\n",
       " 'entero',\n",
       " 'a',\n",
       " 'sus',\n",
       " 'experimentos',\n",
       " 'tacticos',\n",
       " 'con',\n",
       " 'la',\n",
       " 'abnegacion',\n",
       " 'de',\n",
       " 'un',\n",
       " 'cientifico',\n",
       " 'y',\n",
       " 'aun',\n",
       " 'a',\n",
       " 'riesgo',\n",
       " 'de',\n",
       " 'su',\n",
       " 'propia',\n",
       " 'vida',\n",
       " 'tratando',\n",
       " 'de',\n",
       " 'demostrar',\n",
       " 'los',\n",
       " 'efectos',\n",
       " 'de',\n",
       " 'la',\n",
       " 'lupa',\n",
       " 'en',\n",
       " 'la',\n",
       " 'tropa',\n",
       " 'enemiga',\n",
       " 'se',\n",
       " 'expuso',\n",
       " 'el',\n",
       " 'mismo',\n",
       " 'a',\n",
       " 'la',\n",
       " 'concentracion',\n",
       " 'de',\n",
       " 'los',\n",
       " 'rayos',\n",
       " 'solares',\n",
       " 'y',\n",
       " 'sufrio',\n",
       " 'quemaduras',\n",
       " 'que',\n",
       " 'se',\n",
       " 'convirtieron',\n",
       " 'en',\n",
       " 'ulceras',\n",
       " 'y',\n",
       " 'tardaron',\n",
       " 'mucho',\n",
       " 'tiempo',\n",
       " 'en',\n",
       " 'sanar',\n",
       " 'ante',\n",
       " 'las',\n",
       " 'protestas',\n",
       " 'de',\n",
       " 'su',\n",
       " 'mujer',\n",
       " 'alarmada',\n",
       " 'por',\n",
       " 'tan',\n",
       " 'peligrosa',\n",
       " 'inventiva',\n",
       " 'estuvo',\n",
       " 'a',\n",
       " 'punto',\n",
       " 'de',\n",
       " 'incendiar',\n",
       " 'la',\n",
       " 'casa',\n",
       " 'pasaba',\n",
       " 'largas',\n",
       " 'horas',\n",
       " 'en',\n",
       " 'su',\n",
       " 'cuarto',\n",
       " 'haciendo',\n",
       " 'calculos',\n",
       " 'sobre',\n",
       " 'las',\n",
       " 'posibilidades',\n",
       " 'estrategicas',\n",
       " 'de',\n",
       " 'su',\n",
       " 'arma',\n",
       " 'novedosa',\n",
       " 'hasta',\n",
       " 'que',\n",
       " 'logro',\n",
       " 'componer',\n",
       " 'un',\n",
       " 'manual',\n",
       " 'de',\n",
       " 'una',\n",
       " 'asombrosa',\n",
       " 'claridad',\n",
       " 'didactica',\n",
       " 'y',\n",
       " 'un',\n",
       " 'cien',\n",
       " 'anos',\n",
       " 'de',\n",
       " 'soledad',\n",
       " 'gabriel',\n",
       " 'garcia',\n",
       " 'marquez',\n",
       " 'poder',\n",
       " 'de',\n",
       " 'conviccion',\n",
       " 'irresistible',\n",
       " 'lo',\n",
       " 'envio',\n",
       " 'a',\n",
       " 'las',\n",
       " 'autoridades',\n",
       " 'acompanado',\n",
       " 'de',\n",
       " 'numerosos',\n",
       " 'testimonios',\n",
       " 'sobre',\n",
       " 'sus',\n",
       " 'experiencias',\n",
       " 'y',\n",
       " 'de',\n",
       " 'varios',\n",
       " 'pliegos',\n",
       " 'de',\n",
       " 'dibujos',\n",
       " 'explicativos',\n",
       " 'al',\n",
       " 'cuidado',\n",
       " 'de',\n",
       " 'un',\n",
       " 'mensajero',\n",
       " 'que',\n",
       " 'atraveso',\n",
       " 'la',\n",
       " 'sierra',\n",
       " 'y',\n",
       " 'se',\n",
       " 'extravio',\n",
       " 'en',\n",
       " 'pantanos',\n",
       " 'desmesurados',\n",
       " 'remonto',\n",
       " 'rios',\n",
       " 'tormentosos',\n",
       " 'y',\n",
       " 'estuvo',\n",
       " 'a',\n",
       " 'punto',\n",
       " 'de',\n",
       " 'perecer',\n",
       " 'bajo',\n",
       " 'el',\n",
       " 'azote',\n",
       " 'de',\n",
       " 'las',\n",
       " 'fieras',\n",
       " 'la',\n",
       " 'desesperacion',\n",
       " 'y',\n",
       " 'la',\n",
       " 'peste',\n",
       " 'antes',\n",
       " 'de',\n",
       " 'conseguir',\n",
       " 'una',\n",
       " 'ruta',\n",
       " 'de',\n",
       " 'enlace',\n",
       " 'con',\n",
       " 'las',\n",
       " 'muias',\n",
       " 'del',\n",
       " 'correo',\n",
       " 'a',\n",
       " 'pesar',\n",
       " 'de',\n",
       " 'que',\n",
       " 'el',\n",
       " 'viaje',\n",
       " 'a',\n",
       " 'la',\n",
       " 'capital',\n",
       " 'era',\n",
       " 'en',\n",
       " 'aquel',\n",
       " 'tiempo',\n",
       " 'poco',\n",
       " 'menos',\n",
       " 'que',\n",
       " 'imposible',\n",
       " 'jose',\n",
       " 'arcadio',\n",
       " 'buendia',\n",
       " 'prometia',\n",
       " 'intentarlo',\n",
       " 'tan',\n",
       " 'pronto',\n",
       " 'como',\n",
       " 'se',\n",
       " 'lo',\n",
       " 'ordenara',\n",
       " 'el',\n",
       " 'gobierno',\n",
       " 'con',\n",
       " 'el',\n",
       " 'fin',\n",
       " 'de',\n",
       " 'hacer',\n",
       " 'demostraciones',\n",
       " 'practicas',\n",
       " 'de',\n",
       " 'su',\n",
       " 'invento',\n",
       " 'ante',\n",
       " 'los',\n",
       " 'poderes',\n",
       " 'militares',\n",
       " 'y',\n",
       " 'adiestrarlos',\n",
       " 'personalmente',\n",
       " 'en',\n",
       " 'las',\n",
       " 'complicadas',\n",
       " 'artes',\n",
       " 'de',\n",
       " 'la',\n",
       " 'guerra',\n",
       " 'solar',\n",
       " 'durante',\n",
       " 'varios',\n",
       " 'anos',\n",
       " 'espero',\n",
       " 'la',\n",
       " 'respuesta',\n",
       " 'por',\n",
       " 'ultimo',\n",
       " 'cansado',\n",
       " 'de',\n",
       " 'esperar',\n",
       " 'se',\n",
       " 'lamento',\n",
       " 'ante',\n",
       " 'melquiades',\n",
       " 'del',\n",
       " 'fracaso',\n",
       " 'de',\n",
       " 'su',\n",
       " 'iniciativa',\n",
       " ...]"
      ]
     },
     "execution_count": 183,
     "metadata": {},
     "output_type": "execute_result"
    }
   ],
   "source": [
    "# hacemos una tokenizacion artesanal\n",
    "tokens = text_no_tildes.split()\n",
    "tokens\n"
   ]
  },
  {
   "cell_type": "code",
   "execution_count": 184,
   "id": "4b31d0c6",
   "metadata": {},
   "outputs": [
    {
     "name": "stdout",
     "output_type": "stream",
     "text": [
      "Las 10 palabras mas usadas son: \n",
      " ['buendia', 'jose', 'arcadio', 'melquiades', 'anos', 'ursula', 'aldea', 'casa', 'aquel', 'aquella']\n"
     ]
    }
   ],
   "source": [
    "# quitamos las tildes de las stop words mara que hagan match con el texto\n",
    "stop_w = ' '.join(stopwords.words('spanish'))\n",
    "stop_w = remove_tildes(stop_w)\n",
    "stop_w = stop_w.split()\n",
    "\n",
    "# eliminamos las stop words\n",
    "for n in stop_w:\n",
    "    for m in tokens:\n",
    "        if n == m:\n",
    "            tokens.remove(n)\n",
    "\n",
    "# miramos las frecuencias de las palabras\n",
    "frecuencias = {}\n",
    "for palabra in tokens:\n",
    "    if palabra in frecuencias:\n",
    "        frecuencias[palabra] += 1\n",
    "    else:\n",
    "        frecuencias[palabra] = 1\n",
    "\n",
    "# Ordenamos el diccionario\n",
    "frec_sort = dict(sorted(frecuencias.items(), key=lambda item: item[1],\n",
    "                        reverse=True))\n",
    "\n",
    "# mostramos los diez primeros valores\n",
    "res = dict(itertools.islice(frec_sort.items(), 10))\n",
    "print(\"Las 10 palabras mas usadas son: \\n\", list(res.keys()))\n"
   ]
  },
  {
   "attachments": {},
   "cell_type": "markdown",
   "id": "7747f197",
   "metadata": {},
   "source": [
    "#### Tagging"
   ]
  },
  {
   "cell_type": "code",
   "execution_count": 185,
   "id": "90a2645b",
   "metadata": {},
   "outputs": [
    {
     "data": {
      "text/plain": [
       "[('gabriel', 'NN'),\n",
       " ('garcia', 'NN'),\n",
       " ('marquez', 'NN'),\n",
       " ('cien', 'NN'),\n",
       " ('anos', 'NNS'),\n",
       " ('soledad', 'VBP'),\n",
       " ('editado', 'JJ'),\n",
       " ('ediciones', 'NNS'),\n",
       " ('cueva', 'VBP'),\n",
       " ('j', 'NN'),\n",
       " ('omi', 'NN'),\n",
       " ('garcia', 'NN'),\n",
       " ('ascot', 'NN'),\n",
       " ('maria', 'NN'),\n",
       " ('luisa', 'NN'),\n",
       " ('elio', 'NN'),\n",
       " ('cien', 'NN'),\n",
       " ('anos', 'NNS'),\n",
       " ('soledad', 'VBP'),\n",
       " ('gabriel', 'JJ'),\n",
       " ('garcia', 'NN'),\n",
       " ('marquez', 'NN'),\n",
       " ('anos', 'NN'),\n",
       " ('despues', 'NNS'),\n",
       " ('frente', 'VBP'),\n",
       " ('peloton', 'NN'),\n",
       " ('fusilamiento', 'NN'),\n",
       " ('coronel', 'NN'),\n",
       " ('aureliano', 'NN'),\n",
       " ('buendia', 'NN'),\n",
       " ('recordar', 'NN'),\n",
       " ('aquella', 'NN'),\n",
       " ('tarde', 'NN'),\n",
       " ('remota', 'NN'),\n",
       " ('padre', 'NN'),\n",
       " ('llevo', 'JJ'),\n",
       " ('conocer', 'NN'),\n",
       " ('hielo', 'NN'),\n",
       " ('macondo', 'NN'),\n",
       " ('entonces', 'NNS'),\n",
       " ('aldea', 'VBP'),\n",
       " ('veinte', 'JJ'),\n",
       " ('casas', 'NN'),\n",
       " ('barro', 'NN'),\n",
       " ('canabrava', 'NN'),\n",
       " ('construidas', 'NN'),\n",
       " ('orilla', 'NN'),\n",
       " ('rio', 'NN'),\n",
       " ('aguas', 'IN'),\n",
       " ('diafanas', 'JJ'),\n",
       " ('precipitaban', 'NN'),\n",
       " ('lecho', 'NN'),\n",
       " ('piedras', 'NNS'),\n",
       " ('pulidas', 'VBP'),\n",
       " ('blancas', 'JJ'),\n",
       " ('enormes', 'NNS'),\n",
       " ('huevos', 'VBP'),\n",
       " ('prehistoricos', 'JJ'),\n",
       " ('mundo', 'NN'),\n",
       " ('tan', 'NN'),\n",
       " ('reciente', 'NN'),\n",
       " ('muchas', 'FW'),\n",
       " ('cosas', 'NN'),\n",
       " ('carecian', 'JJ'),\n",
       " ('nombre', 'NN'),\n",
       " ('mencionarlas', 'NNS'),\n",
       " ('senalarias', 'VBP'),\n",
       " ('dedo', 'JJ'),\n",
       " ('anos', 'NNS'),\n",
       " ('mes', 'NNS'),\n",
       " ('marzo', 'VBP'),\n",
       " ('familia', 'JJ'),\n",
       " ('gitanos', 'NNS'),\n",
       " ('desarrapados', 'VBP'),\n",
       " ('plantaba', 'JJ'),\n",
       " ('carpa', 'NN'),\n",
       " ('cerca', 'NN'),\n",
       " ('aldea', 'NN'),\n",
       " ('grande', 'NN'),\n",
       " ('alboroto', 'NN'),\n",
       " ('pitos', 'NN'),\n",
       " ('timbales', 'VBZ'),\n",
       " ('daban', 'JJ'),\n",
       " ('conocer', 'NN'),\n",
       " ('nuevos', 'NN'),\n",
       " ('inventos', 'NN'),\n",
       " ('primero', 'NN'),\n",
       " ('llevaron', 'NN'),\n",
       " ('iman', 'JJ'),\n",
       " ('gitano', 'NN'),\n",
       " ('corpulento', 'NN'),\n",
       " ('barba', 'NN'),\n",
       " ('montaraz', 'NN'),\n",
       " ('manos', 'JJ'),\n",
       " ('gorrion', 'NN'),\n",
       " ('presento', 'IN'),\n",
       " ('nombre', 'JJ'),\n",
       " ('melquiades', 'NNS'),\n",
       " ('hizo', 'VBP'),\n",
       " ('truculenta', 'JJ'),\n",
       " ('demostracion', 'NN'),\n",
       " ('publica', 'NN'),\n",
       " ('mismo', 'NN'),\n",
       " ('llamaba', 'NN'),\n",
       " ('octava', 'IN'),\n",
       " ('maravilla', 'NN'),\n",
       " ('sabios', 'NNS'),\n",
       " ('alquimistas', 'VBP'),\n",
       " ('macedonia', 'NN'),\n",
       " ('casa', 'NN'),\n",
       " ('casa', 'NN'),\n",
       " ('arrastrando', 'NN'),\n",
       " ('dos', 'NN'),\n",
       " ('lingotes', 'VBZ'),\n",
       " ('metalicos', 'FW'),\n",
       " ('mundo', 'FW'),\n",
       " ('espanto', 'FW'),\n",
       " ('ver', 'FW'),\n",
       " ('calderos', 'NNS'),\n",
       " ('pailas', 'VBP'),\n",
       " ('tenazas', 'JJ'),\n",
       " ('anafes', 'NN'),\n",
       " ('caian', 'JJ'),\n",
       " ('sitio', 'NN'),\n",
       " ('maderas', 'NNS'),\n",
       " ('crujian', 'JJ'),\n",
       " ('desesperacion', 'NN'),\n",
       " ('clavos', 'NN'),\n",
       " ('tornillos', 'NN'),\n",
       " ('tratando', 'JJ'),\n",
       " ('desenclavarse', 'NN'),\n",
       " ('aun', 'NN'),\n",
       " ('objetos', 'NN'),\n",
       " ('perdidos', 'NN'),\n",
       " ('hacia', 'NN'),\n",
       " ('tiempo', 'NN'),\n",
       " ('aparecian', 'JJ'),\n",
       " ('buscado', 'NN'),\n",
       " ('arrastraban', 'NN'),\n",
       " ('desbandada', 'NN'),\n",
       " ('turbulenta', 'NN'),\n",
       " ('detras', 'NNS'),\n",
       " ('fierros', 'VBP'),\n",
       " ('magicos', 'NNS'),\n",
       " ('melquiades', 'NNS'),\n",
       " ('cosas', 'VBP'),\n",
       " ('vida', 'JJ'),\n",
       " ('propia', 'NN'),\n",
       " ('pregonaba', 'NN'),\n",
       " ('gitano', 'NN'),\n",
       " ('aspero', 'NN'),\n",
       " ('acento', 'IN'),\n",
       " ('cuestion', 'NN'),\n",
       " ('despertarles', 'NNS'),\n",
       " ('anima', 'VBP'),\n",
       " ('jose', 'JJ'),\n",
       " ('arcadio', 'JJ'),\n",
       " ('buendia', 'NN'),\n",
       " ('cuya', 'NN'),\n",
       " ('desaforada', 'NN'),\n",
       " ('imaginacion', 'NN'),\n",
       " ('iba', 'NN'),\n",
       " ('siempre', 'NN'),\n",
       " ('lejos', 'NN'),\n",
       " ('ingenio', 'NN'),\n",
       " ('naturaleza', 'JJ'),\n",
       " ('aun', 'NN'),\n",
       " ('alla', 'NN'),\n",
       " ('milagro', 'NN'),\n",
       " ('magia', 'NN'),\n",
       " ('penso', 'NN'),\n",
       " ('posible', 'JJ'),\n",
       " ('servirse', 'NN'),\n",
       " ('aquella', 'NN'),\n",
       " ('invencion', 'NN'),\n",
       " ('inutil', 'NN'),\n",
       " ('desentranar', 'NN'),\n",
       " ('oro', 'JJ'),\n",
       " ('tierra', 'NN'),\n",
       " ('melquiades', 'NNS'),\n",
       " ('hombre', 'VBP'),\n",
       " ('honrado', 'NN'),\n",
       " ('previno', 'NN'),\n",
       " ('sirve', 'VBP'),\n",
       " ('jose', 'JJ'),\n",
       " ('arcadio', 'JJ'),\n",
       " ('buendia', 'NN'),\n",
       " ('creia', 'NN'),\n",
       " ('aquel', 'NN'),\n",
       " ('tiempo', 'NN'),\n",
       " ('honradez', 'NN'),\n",
       " ('gitanos', 'NNS'),\n",
       " ('asi', 'VBP'),\n",
       " ('cambio', 'JJ'),\n",
       " ('mulo', 'NN'),\n",
       " ('partida', 'NN'),\n",
       " ('chivos', 'NN'),\n",
       " ('dos', 'NN'),\n",
       " ('lingotes', 'VBZ'),\n",
       " ('imantados', 'JJ'),\n",
       " ('ursula', 'NN'),\n",
       " ('i', 'NN'),\n",
       " ('guaran', 'VBD'),\n",
       " ('mujer', 'JJ'),\n",
       " ('contaba', 'NN'),\n",
       " ('aquellos', 'NN'),\n",
       " ('animales', 'NNS'),\n",
       " ('ensanchar', 'VBP'),\n",
       " ('desmedrado', 'JJ'),\n",
       " ('patrimonio', 'NN'),\n",
       " ('domestico', 'NN'),\n",
       " ('consiguio', 'NN'),\n",
       " ('disuadirlo', 'NN'),\n",
       " ('pronto', 'IN'),\n",
       " ('sobrarnos', 'JJ'),\n",
       " ('oro', 'JJ'),\n",
       " ('empedrar', 'NN'),\n",
       " ('casa', 'NN'),\n",
       " ('replico', 'NN'),\n",
       " ('marido', 'NN'),\n",
       " ('varios', 'NNS'),\n",
       " ('meses', 'VBZ'),\n",
       " ('empeno', 'JJ'),\n",
       " ('demostrar', 'NN'),\n",
       " ('acierto', 'NN'),\n",
       " ('conjeturas', 'NNS'),\n",
       " ('exploro', 'VBP'),\n",
       " ('palmo', 'JJ'),\n",
       " ('palmo', 'JJ'),\n",
       " ('region', 'NN'),\n",
       " ('inclusive', 'JJ'),\n",
       " ('fondo', 'NN'),\n",
       " ('rio', 'NN'),\n",
       " ('arrastrando', 'IN'),\n",
       " ('dos', 'NN'),\n",
       " ('lingotes', 'NNS'),\n",
       " ('hierro', 'VBP'),\n",
       " ('recitando', 'JJ'),\n",
       " ('voz', 'NN'),\n",
       " ('alta', 'NN'),\n",
       " ('conjuro', 'NN'),\n",
       " ('melquiades', 'NNS'),\n",
       " ('unico', 'JJ'),\n",
       " ('logro', 'JJ'),\n",
       " ('desenterrar', 'NN'),\n",
       " ('armadura', 'NN'),\n",
       " ('siglo', 'NN'),\n",
       " ('xv', 'NNP'),\n",
       " ('todas', 'NN'),\n",
       " ('partes', 'VBZ'),\n",
       " ('soldadas', 'JJ'),\n",
       " ('cascote', 'NN'),\n",
       " ('oxido', 'NN'),\n",
       " ('cuyo', 'NN'),\n",
       " ('interior', 'JJ'),\n",
       " ('resonancia', 'NN'),\n",
       " ('hueca', 'NN'),\n",
       " ('enorme', 'NN'),\n",
       " ('calabazo', 'NN'),\n",
       " ('lleno', 'NN'),\n",
       " ('piedras', 'NNS'),\n",
       " ('jose', 'VBP'),\n",
       " ('arcadio', 'JJ'),\n",
       " ('buendia', 'NN'),\n",
       " ('cuatro', 'NN'),\n",
       " ('hombres', 'VBZ'),\n",
       " ('expedicion', 'NN'),\n",
       " ('lograron', 'NN'),\n",
       " ('desarticular', 'JJ'),\n",
       " ('armadura', 'NN'),\n",
       " ('encontraron', 'NN'),\n",
       " ('dentro', 'NN'),\n",
       " ('esqueleto', 'NN'),\n",
       " ('calcificado', 'NN'),\n",
       " ('llevaba', 'NN'),\n",
       " ('colgado', 'NN'),\n",
       " ('cuello', 'NN'),\n",
       " ('relicario', 'NN'),\n",
       " ('cobre', 'NN'),\n",
       " ('rizo', 'NN'),\n",
       " ('mujer', 'NN'),\n",
       " ('marzo', 'NN'),\n",
       " ('volvieron', 'NN'),\n",
       " ('gitanos', 'NN'),\n",
       " ('vez', 'JJ'),\n",
       " ('llevaban', 'NN'),\n",
       " ('catalejo', 'NN'),\n",
       " ('lupa', 'JJ'),\n",
       " ('tamano', 'NN'),\n",
       " ('tambor', 'NN'),\n",
       " ('exhibieron', 'NN'),\n",
       " ('ultimo', 'JJ'),\n",
       " ('descubrimiento', 'NN'),\n",
       " ('judios', 'NNS'),\n",
       " ('amsterdam', 'VBP'),\n",
       " ('sentaron', 'NN'),\n",
       " ('gitana', 'NN'),\n",
       " ('extremo', 'NN'),\n",
       " ('aldea', 'NN'),\n",
       " ('instalaron', 'NN'),\n",
       " ('catalejo', 'NN'),\n",
       " ('entrada', 'NN'),\n",
       " ('carpa', 'NN'),\n",
       " ('mediante', 'NN'),\n",
       " ('pago', 'IN'),\n",
       " ('cinco', 'NN'),\n",
       " ('reales', 'NNS'),\n",
       " ('gente', 'VBP'),\n",
       " ('asomaba', 'JJ'),\n",
       " ('catalejo', 'NN'),\n",
       " ('veia', 'NN'),\n",
       " ('gitana', 'NN'),\n",
       " ('alcance', 'NN'),\n",
       " ('mano', 'NN'),\n",
       " ('ciencia', 'NN'),\n",
       " ('eliminado', 'NN'),\n",
       " ('distancias', 'NN'),\n",
       " ('pregonaba', 'NN'),\n",
       " ('melquiades', 'NNS'),\n",
       " ('dentro', 'VBP'),\n",
       " ('hombre', 'JJ'),\n",
       " ('podra', 'NN'),\n",
       " ('ver', 'NN'),\n",
       " ('ocurre', 'VBP'),\n",
       " ('cualquier', 'JJR'),\n",
       " ('lugar', 'JJ'),\n",
       " ('tierra', 'NN'),\n",
       " ('moverse', 'NN'),\n",
       " ('casa', 'NN'),\n",
       " ('mediodia', 'NN'),\n",
       " ('ardiente', 'NN'),\n",
       " ('hicieron', 'NN'),\n",
       " ('asombrosa', 'NN'),\n",
       " ('demostracion', 'NN'),\n",
       " ('lupa', 'NN'),\n",
       " ('gigantesca', 'NN'),\n",
       " ('pusieron', 'NN'),\n",
       " ('monton', 'NN'),\n",
       " ('hierba', 'NN'),\n",
       " ('seca', 'NN'),\n",
       " ('mitad', 'NN'),\n",
       " ('calle', 'NN'),\n",
       " ('prendieron', 'NN'),\n",
       " ('fuego', 'NN'),\n",
       " ('mediante', 'NN'),\n",
       " ('concentracion', 'NN'),\n",
       " ('rayos', 'NN'),\n",
       " ('solares', 'NNS'),\n",
       " ('jose', 'VBP'),\n",
       " ('arcadio', 'JJ'),\n",
       " ('buendia', 'NN'),\n",
       " ('aun', 'NN'),\n",
       " ('acababa', 'JJ'),\n",
       " ('consolarse', 'NN'),\n",
       " ('fracaso', 'NN'),\n",
       " ('imanes', 'NNS'),\n",
       " ('concibio', 'VBP'),\n",
       " ('idea', 'NN'),\n",
       " ('utilizar', 'NN'),\n",
       " ('aquel', 'NN'),\n",
       " ('invento', 'NN'),\n",
       " ('arma', 'JJ'),\n",
       " ('guerra', 'NN'),\n",
       " ('melquiades', 'NNS'),\n",
       " ('vez', 'VBP'),\n",
       " ('trato', 'JJ'),\n",
       " ('disuadirlo', 'NN'),\n",
       " ('termino', 'NN'),\n",
       " ('aceptar', 'NN'),\n",
       " ('dos', 'NN'),\n",
       " ('lingotes', 'VBZ'),\n",
       " ('imantados', 'JJ'),\n",
       " ('tres', 'NNS'),\n",
       " ('piezas', 'VBP'),\n",
       " ('dinero', 'JJ'),\n",
       " ('colonial', 'NN'),\n",
       " ('cambio', 'NN'),\n",
       " ('lupa', 'NN'),\n",
       " ('ursula', 'JJ'),\n",
       " ('lloro', 'JJ'),\n",
       " ('consternacion', 'NN'),\n",
       " ('aquel', 'NN'),\n",
       " ('dinero', 'NN'),\n",
       " ('formaba', 'NN'),\n",
       " ('parte', 'NN'),\n",
       " ('cofre', 'NN'),\n",
       " ('monedas', 'FW'),\n",
       " ('oro', 'FW'),\n",
       " ('padre', 'FW'),\n",
       " ('acumulado', 'FW'),\n",
       " ('toda', 'NN'),\n",
       " ('vida', 'NN'),\n",
       " ('privaciones', 'NNS'),\n",
       " ('enterrado', 'VBP'),\n",
       " ('debajo', 'JJ'),\n",
       " ('cama', 'NN'),\n",
       " ('espera', 'NN'),\n",
       " ('buena', 'NN'),\n",
       " ('ocasion', 'NN'),\n",
       " ('invertirias', 'NN'),\n",
       " ('jose', 'JJ'),\n",
       " ('arcadio', 'JJ'),\n",
       " ('buendia', 'NN'),\n",
       " ('trato', 'NN'),\n",
       " ('siquiera', 'NN'),\n",
       " ('consolarla', 'NN'),\n",
       " ('entregado', 'NN'),\n",
       " ('entero', 'NN'),\n",
       " ('experimentos', 'NN'),\n",
       " ('tacticos', 'NN'),\n",
       " ('abnegacion', 'NN'),\n",
       " ('cientifico', 'NN'),\n",
       " ('aun', 'NN'),\n",
       " ('riesgo', 'NN'),\n",
       " ('propia', 'NN'),\n",
       " ('vida', 'FW'),\n",
       " ('tratando', 'NN'),\n",
       " ('demostrar', 'NN'),\n",
       " ('efectos', 'NN'),\n",
       " ('lupa', 'NN'),\n",
       " ('tropa', 'NN'),\n",
       " ('enemiga', 'NN'),\n",
       " ('expuso', 'NN'),\n",
       " ('mismo', 'NN'),\n",
       " ('concentracion', 'NN'),\n",
       " ('rayos', 'NN'),\n",
       " ('solares', 'VBZ'),\n",
       " ('sufrio', 'JJ'),\n",
       " ('quemaduras', 'NNS'),\n",
       " ('convirtieron', 'VBP'),\n",
       " ('ulceras', 'JJ'),\n",
       " ('tardaron', 'NN'),\n",
       " ('tiempo', 'NN'),\n",
       " ('sanar', 'NN'),\n",
       " ('protestas', 'NNS'),\n",
       " ('mujer', 'VBP'),\n",
       " ('alarmada', 'JJ'),\n",
       " ('tan', 'NN'),\n",
       " ('peligrosa', 'NN'),\n",
       " ('inventiva', 'NN'),\n",
       " ('punto', 'NN'),\n",
       " ('incendiar', 'NN'),\n",
       " ('casa', 'NN'),\n",
       " ('pasaba', 'NN'),\n",
       " ('largas', 'NN'),\n",
       " ('horas', 'NNS'),\n",
       " ('cuarto', 'VBP'),\n",
       " ('haciendo', 'JJ'),\n",
       " ('calculos', 'NN'),\n",
       " ('posibilidades', 'NNS'),\n",
       " ('estrategicas', 'VBP'),\n",
       " ('arma', 'JJ'),\n",
       " ('novedosa', 'JJ'),\n",
       " ('logro', 'NN'),\n",
       " ('componer', 'NN'),\n",
       " ('manual', 'JJ'),\n",
       " ('asombrosa', 'NN'),\n",
       " ('claridad', 'NN'),\n",
       " ('didactica', 'NN'),\n",
       " ('cien', 'NN'),\n",
       " ('anos', 'NNS'),\n",
       " ('soledad', 'VBP'),\n",
       " ('gabriel', 'JJ'),\n",
       " ('garcia', 'NN'),\n",
       " ('marquez', 'NN'),\n",
       " ('poder', 'NN'),\n",
       " ('conviccion', 'NN'),\n",
       " ('irresistible', 'JJ'),\n",
       " ('envio', 'NN'),\n",
       " ('autoridades', 'NNS'),\n",
       " ('acompanado', 'VBP'),\n",
       " ('numerosos', 'JJ'),\n",
       " ('testimonios', 'NNS'),\n",
       " ('experiencias', 'VBP'),\n",
       " ('varios', 'NNS'),\n",
       " ('pliegos', 'VBP'),\n",
       " ('dibujos', 'JJ'),\n",
       " ('explicativos', 'NN'),\n",
       " ('cuidado', 'NN'),\n",
       " ('mensajero', 'NN'),\n",
       " ('atraveso', 'JJ'),\n",
       " ('sierra', 'NN'),\n",
       " ('extravio', 'NN'),\n",
       " ('pantanos', 'NNS'),\n",
       " ('desmesurados', 'VBP'),\n",
       " ('remonto', 'JJ'),\n",
       " ('rios', 'NNS'),\n",
       " ('tormentosos', 'VBP'),\n",
       " ('punto', 'JJ'),\n",
       " ('perecer', 'NN'),\n",
       " ('bajo', 'NN'),\n",
       " ('azote', 'NN'),\n",
       " ('fieras', 'JJ'),\n",
       " ('desesperacion', 'NN'),\n",
       " ('peste', 'NN'),\n",
       " ('conseguir', 'NN'),\n",
       " ('ruta', 'NN'),\n",
       " ('enlace', 'NN'),\n",
       " ('muias', 'NN'),\n",
       " ('correo', 'NN'),\n",
       " ('pesar', 'NN'),\n",
       " ('viaje', 'JJ'),\n",
       " ('capital', 'NN'),\n",
       " ('aquel', 'NN'),\n",
       " ('tiempo', 'NN'),\n",
       " ('menos', 'RBS'),\n",
       " ('imposible', 'JJ'),\n",
       " ('jose', 'NN'),\n",
       " ('arcadio', 'JJ'),\n",
       " ('buendia', 'NN'),\n",
       " ('prometia', 'NN'),\n",
       " ('intentarlo', 'NN'),\n",
       " ('tan', 'NN'),\n",
       " ('pronto', 'NN'),\n",
       " ('ordenara', 'NN'),\n",
       " ('gobierno', 'NN'),\n",
       " ('fin', 'NN'),\n",
       " ('hacer', 'NN'),\n",
       " ('demostraciones', 'NNS'),\n",
       " ('practicas', 'VBP'),\n",
       " ('invento', 'JJ'),\n",
       " ('poderes', 'NNS'),\n",
       " ('militares', 'VBZ'),\n",
       " ('adiestrarlos', 'JJ'),\n",
       " ('personalmente', 'NN'),\n",
       " ('complicadas', 'NN'),\n",
       " ('artes', 'VBZ'),\n",
       " ('guerra', 'JJ'),\n",
       " ('solar', 'JJ'),\n",
       " ('varios', 'NNS'),\n",
       " ('anos', 'VBP'),\n",
       " ('espero', 'JJ'),\n",
       " ('respuesta', 'NN'),\n",
       " ('ultimo', 'JJ'),\n",
       " ('cansado', 'NN'),\n",
       " ('esperar', 'NN'),\n",
       " ('lamento', 'NN'),\n",
       " ('melquiades', 'NNS'),\n",
       " ('fracaso', 'VBP'),\n",
       " ('iniciativa', 'JJ'),\n",
       " ('gitano', 'NN'),\n",
       " ('dio', 'NN'),\n",
       " ('entonces', 'NNS'),\n",
       " ('prueba', 'VBP'),\n",
       " ('convincente', 'JJ'),\n",
       " ('honradez', 'NN'),\n",
       " ('devolvio', 'NN'),\n",
       " ('doblones', 'NNS'),\n",
       " ('cambio', 'VBP'),\n",
       " ('lupa', 'JJ'),\n",
       " ('dejo', 'NN'),\n",
       " ('ademas', 'NN'),\n",
       " ('mapas', 'NN'),\n",
       " ('portugueses', 'VBZ'),\n",
       " ('varios', 'NNS'),\n",
       " ('instrumentos', 'JJ'),\n",
       " ('navegacion', 'NN'),\n",
       " ('puno', 'NN'),\n",
       " ('letra', 'JJ'),\n",
       " ('escribio', 'NN'),\n",
       " ('apretada', 'JJ'),\n",
       " ('sintesis', 'NN'),\n",
       " ('estudios', 'NNS'),\n",
       " ('monje', 'VBP'),\n",
       " ('hermann', 'JJ'),\n",
       " ('dejo', 'NN'),\n",
       " ('disposicion', 'NN'),\n",
       " ('pudiera', 'NN'),\n",
       " ('servirse', 'NN'),\n",
       " ('astrolabio', 'NN'),\n",
       " ('brujula', 'NN'),\n",
       " ('sextante', 'NN'),\n",
       " ('jose', 'NN'),\n",
       " ('arcadio', 'JJ'),\n",
       " ('buendia', 'NN'),\n",
       " ('paso', 'NN'),\n",
       " ('largos', 'NN'),\n",
       " ('meses', 'VBZ'),\n",
       " ('lluvia', 'JJ'),\n",
       " ('encerrado', 'NN'),\n",
       " ('cuartito', 'NN'),\n",
       " ('construyo', 'NN'),\n",
       " ('fondo', 'NN'),\n",
       " ('casa', 'NN'),\n",
       " ('nadie', 'JJ'),\n",
       " ('perturbara', 'NN'),\n",
       " ('experimentos', 'NN'),\n",
       " ('abandonado', 'NN'),\n",
       " ('completo', 'NN'),\n",
       " ('obligaciones', 'NNS'),\n",
       " ('domesticas', 'VBP'),\n",
       " ('permanecio', 'JJ'),\n",
       " ('noches', 'NNS'),\n",
       " ('enteras', 'VBP'),\n",
       " ('patio', 'JJ'),\n",
       " ('vigilando', 'NN'),\n",
       " ('curso', 'NN'),\n",
       " ('astros', 'NN'),\n",
       " ('punto', 'IN'),\n",
       " ('contraer', 'JJ'),\n",
       " ('insolacion', 'NN'),\n",
       " ('tratar', 'NN'),\n",
       " ('establecer', 'NN'),\n",
       " ('metodo', 'NN'),\n",
       " ('exacto', 'NN'),\n",
       " ('encontrar', 'JJ'),\n",
       " ('mediodia', 'NN'),\n",
       " ('hizo', 'NN'),\n",
       " ('experto', 'NN'),\n",
       " ('uso', 'JJ'),\n",
       " ('manejo', 'NN'),\n",
       " ('instrumentos', 'NN'),\n",
       " ('nocion', 'NN'),\n",
       " ('espacio', 'FW'),\n",
       " ('permitio', 'NN'),\n",
       " ('navegar', 'NN'),\n",
       " ('mares', 'NNS'),\n",
       " ('incognitos', 'VBP'),\n",
       " ('visitar', 'JJ'),\n",
       " ('territorios', 'NNS'),\n",
       " ('deshabitados', 'VBP'),\n",
       " ('trabar', 'JJ'),\n",
       " ('relacion', 'NN'),\n",
       " ('seres', 'NNS'),\n",
       " ('esplendidos', 'VBP'),\n",
       " ('necesidad', 'JJ'),\n",
       " ('abandonar', 'NN'),\n",
       " ('gabinete', 'JJ'),\n",
       " ('epoca', 'NN'),\n",
       " ('adquirio', 'NN'),\n",
       " ('habito', 'NN'),\n",
       " ('hablar', 'JJ'),\n",
       " ('solas', 'NNS'),\n",
       " ('paseandose', 'VBP'),\n",
       " ('casa', 'JJ'),\n",
       " ('hacer', 'NN'),\n",
       " ('caso', 'NN'),\n",
       " ('nadie', 'JJ'),\n",
       " ('mientras', 'NNS'),\n",
       " ('ursula', 'JJ'),\n",
       " ('ninos', 'JJ'),\n",
       " ('partian', 'JJ'),\n",
       " ('espinazo', 'NN'),\n",
       " ('huerta', 'NN'),\n",
       " ('cuidando', 'NN'),\n",
       " ('platano', 'NN'),\n",
       " ('malanga', 'NN'),\n",
       " ('yuca', 'NN'),\n",
       " ('name', 'NN'),\n",
       " ('ahuyama', 'JJ'),\n",
       " ('berenjena', 'NN'),\n",
       " ('pronto', 'NN'),\n",
       " ('ningun', 'NN'),\n",
       " ('anuncio', 'NN'),\n",
       " ('actividad', 'NN'),\n",
       " ('febril', 'NN'),\n",
       " ('interrumpio', 'NN'),\n",
       " ('sustituida', 'NN'),\n",
       " ('especie', 'NN'),\n",
       " ('fascinacion', 'NN'),\n",
       " ('varios', 'NNS'),\n",
       " ('dias', 'VBP'),\n",
       " ('hechizado', 'NNS'),\n",
       " ('repitiendose', 'VB'),\n",
       " ('mismo', 'NNS'),\n",
       " ('voz', 'FW'),\n",
       " ('baja', 'NN'),\n",
       " ('sartal', 'JJ'),\n",
       " ('asombrosas', 'NN'),\n",
       " ('conjeturas', 'NNS'),\n",
       " ('dar', 'VBP'),\n",
       " ('credito', 'JJ'),\n",
       " ('propio', 'NN'),\n",
       " ('entendimiento', 'NN'),\n",
       " ('fin', 'NN'),\n",
       " ('martes', 'VBZ'),\n",
       " ('diciembre', 'JJ'),\n",
       " ('hora', 'NNS'),\n",
       " ('almuerzo', 'VBP'),\n",
       " ('solto', 'JJ'),\n",
       " ('golpe', 'NN'),\n",
       " ('toda', 'NN'),\n",
       " ('carga', 'NN'),\n",
       " ('tormento', 'IN'),\n",
       " ('ninos', 'JJ'),\n",
       " ('recordar', 'NN'),\n",
       " ('resto', 'NN'),\n",
       " ('vida', 'NN'),\n",
       " ('augusta', 'NN'),\n",
       " ('solemnidad', 'NN'),\n",
       " ('padre', 'NN'),\n",
       " ('sento', 'NN'),\n",
       " ('cabecera', 'NN'),\n",
       " ('mesa', 'FW'),\n",
       " ('temblando', 'NN'),\n",
       " ('fiebre', 'NN'),\n",
       " ('devastado', 'NN'),\n",
       " ('prolongada', 'NN'),\n",
       " ('vigilia', 'FW'),\n",
       " ('encono', 'FW'),\n",
       " ('imaginacion', 'NN'),\n",
       " ('revelo', 'NN'),\n",
       " ('descubrimiento', 'NN'),\n",
       " ('tierra', 'NN'),\n",
       " ('redonda', 'NN'),\n",
       " ('naranja', 'JJ'),\n",
       " ('ursula', 'JJ'),\n",
       " ('perdio', 'NN'),\n",
       " ('paciencia', 'NN'),\n",
       " ('volverte', 'NN'),\n",
       " ('loco', 'VBD'),\n",
       " ('vuelvete', 'JJ'),\n",
       " ('solo', 'NN'),\n",
       " ('grito', 'NN'),\n",
       " ('trates', 'VBZ'),\n",
       " ('inculcar', 'JJ'),\n",
       " ('ninos', 'NNS'),\n",
       " ('ideas', 'NNS'),\n",
       " ('gitano', 'VBP'),\n",
       " ('jose', 'JJ'),\n",
       " ('arcadio', 'JJ'),\n",
       " ('buendia', 'NN'),\n",
       " ('impasible', 'JJ'),\n",
       " ('dejo', 'NN'),\n",
       " ('amedrentar', 'NN'),\n",
       " ('desesperacion', 'NN'),\n",
       " ('mujer', 'NN'),\n",
       " ('rapto', 'NN'),\n",
       " ('colera', 'NN'),\n",
       " ('destrozo', 'NN'),\n",
       " ('astrolabio', 'NN'),\n",
       " ('suelo', 'NN'),\n",
       " ('construyo', 'NN'),\n",
       " ('reunio', 'NN'),\n",
       " ('cuartito', 'NN'),\n",
       " ('hombres', 'VBZ'),\n",
       " ('pueblo', 'JJ'),\n",
       " ('demostro', 'NN'),\n",
       " ('teorias', 'JJ'),\n",
       " ('resultaban', 'NN'),\n",
       " ('incomprensibles', 'NNS'),\n",
       " ('posibilidad', 'VBP'),\n",
       " ('regresar', 'NN'),\n",
       " ('punto', 'NN'),\n",
       " ('partida', 'NN'),\n",
       " ('navegando', 'NN'),\n",
       " ('siempre', 'NN'),\n",
       " ('hacia', 'NN'),\n",
       " ('oriente', 'NN'),\n",
       " ('toda', 'NN'),\n",
       " ('aldea', 'NN'),\n",
       " ('convencida', 'NN'),\n",
       " ('jose', 'NN'),\n",
       " ('arcadio', 'JJ'),\n",
       " ('buendia', 'NN'),\n",
       " ('perdido', 'NN'),\n",
       " ('juicio', 'NN'),\n",
       " ('llego', 'NN'),\n",
       " ('melquiades', 'NNS'),\n",
       " ('poner', 'VBP'),\n",
       " ('cosas', 'JJ'),\n",
       " ('punto', 'NN'),\n",
       " ('exalto', 'NN'),\n",
       " ('publico', 'NN'),\n",
       " ('inteligencia', 'NN'),\n",
       " ('aquel', 'NN'),\n",
       " ('hombre', 'NN'),\n",
       " ('pura', 'NN'),\n",
       " ('especulacion', 'NN'),\n",
       " ('astronomica', 'IN'),\n",
       " ('construido', 'NN'),\n",
       " ('teoria', 'NN'),\n",
       " ('comprobada', 'NN'),\n",
       " ('practica', 'NN'),\n",
       " ('aunque', 'NN'),\n",
       " ('desconocida', 'NN'),\n",
       " ('entonces', 'NNS'),\n",
       " ('macondo', 'VBP'),\n",
       " ('prueba', 'JJ'),\n",
       " ('admiracion', 'NN'),\n",
       " ('hizo', 'NN'),\n",
       " ('regalo', 'NN'),\n",
       " ('ejercer', 'NN'),\n",
       " ('influencia', 'NN'),\n",
       " ('terminante', 'NN'),\n",
       " ('futuro', 'NN'),\n",
       " ('aldea', 'NN'),\n",
       " ('laboratorio', 'NN'),\n",
       " ('alquimia', 'NN'),\n",
       " ('epoca', 'NN'),\n",
       " ('melquiades', 'NNS'),\n",
       " ('envejecido', 'VBP'),\n",
       " ('rapidez', 'JJ'),\n",
       " ('asombrosa', 'NN'),\n",
       " ('primeros', 'NNS'),\n",
       " ('viajes', 'VBP'),\n",
       " ('parecia', 'JJ'),\n",
       " ('tener', 'NN'),\n",
       " ('misma', 'NN'),\n",
       " ('edad', 'VBP'),\n",
       " ('jose', 'JJ'),\n",
       " ('arcadio', 'JJ'),\n",
       " ('buendia', 'NN'),\n",
       " ('mientras', 'NNS'),\n",
       " ('conservaba', 'VBP'),\n",
       " ('fuerza', 'JJ'),\n",
       " ('descomunal', 'JJ'),\n",
       " ('permitia', 'NN'),\n",
       " ('derribar', 'NN'),\n",
       " ('caballo', 'NN'),\n",
       " ('agarrandolo', 'NN'),\n",
       " ('orejas', 'JJ'),\n",
       " ('gitano', 'NN'),\n",
       " ('parecia', 'NN'),\n",
       " ('estragado', 'NN'),\n",
       " ('dolencia', 'NN'),\n",
       " ('tenaz', 'NN'),\n",
       " ('realidad', 'NN'),\n",
       " ('resultado', 'NN'),\n",
       " ('multiples', 'NNS'),\n",
       " ('raras', 'VBP'),\n",
       " ('enfermedades', 'NNS'),\n",
       " ('contraidas', 'VBP'),\n",
       " ('incontables', 'NNS'),\n",
       " ('viajes', 'FW'),\n",
       " ('alrededor', 'FW'),\n",
       " ('mundo', 'FW'),\n",
       " ('segun', 'FW'),\n",
       " ('mismo', 'FW'),\n",
       " ('conto', 'NN'),\n",
       " ('jose', 'NN'),\n",
       " ('arcadio', 'JJ'),\n",
       " ('buendia', 'NN'),\n",
       " ('mientras', 'NNS'),\n",
       " ('ayudaba', 'VBP'),\n",
       " ('montar', 'NN'),\n",
       " ('laboratorio', 'NN'),\n",
       " ('muerte', 'NN'),\n",
       " ('seguia', 'NN'),\n",
       " ('todas', 'NN'),\n",
       " ('partes', 'VBZ'),\n",
       " ('husmeandole', 'JJ'),\n",
       " ('pantalones', 'NNS'),\n",
       " ('decidirse', 'JJ'),\n",
       " ('darle', 'NN'),\n",
       " ('zarpazo', 'NNP'),\n",
       " ('final', 'JJ'),\n",
       " ('fugitivo', 'NN'),\n",
       " ('cuantas', 'NNS'),\n",
       " ('plagas', 'VBP'),\n",
       " ('catastrofes', 'JJ'),\n",
       " ('flagelado', 'NN'),\n",
       " ('genero', 'NN'),\n",
       " ('humano', 'NN'),\n",
       " ('sobrevivio', 'NN'),\n",
       " ('pelagra', 'NN'),\n",
       " ('persia', 'NN'),\n",
       " ('escorbuto', 'NN'),\n",
       " ('archipielago', 'IN'),\n",
       " ('malasia', 'NN'),\n",
       " ('lepra', 'NN'),\n",
       " ('alejandria', 'NN'),\n",
       " ('beriberi', 'NN'),\n",
       " ('japon', 'NN'),\n",
       " ('peste', 'NN'),\n",
       " ('bubonica', 'NN'),\n",
       " ('madagascar', 'NN'),\n",
       " ('terremoto', 'NN'),\n",
       " ('sicilia', 'NN'),\n",
       " ('naufragio', 'NN'),\n",
       " ('multitudinario', 'NN'),\n",
       " ('estrecho', 'JJ'),\n",
       " ('magallanes', 'NNS'),\n",
       " ('aquel', 'IN'),\n",
       " ('ser', 'NN'),\n",
       " ('prodigioso', 'NN'),\n",
       " ('decia', 'NN'),\n",
       " ('poseer', 'NN'),\n",
       " ('claves', 'NNS'),\n",
       " ('nostradamus', 'VBP'),\n",
       " ('hombre', 'JJ'),\n",
       " ('lugubre', 'NN'),\n",
       " ('envuelto', 'NN'),\n",
       " ('aura', 'NN'),\n",
       " ('triste', 'NN'),\n",
       " ('mirada', 'NN'),\n",
       " ('asiatica', 'NN'),\n",
       " ('parecia', 'NN'),\n",
       " ('conocer', 'NN'),\n",
       " ('lado', 'VBZ'),\n",
       " ('cosas', 'JJ'),\n",
       " ('usaba', 'JJ'),\n",
       " ('sombrero', 'NN'),\n",
       " ('grande', 'NN'),\n",
       " ('negro', 'NN'),\n",
       " ('alas', 'NNS'),\n",
       " ('extendidas', 'VBP'),\n",
       " ('cuervo', 'JJ'),\n",
       " ('chaleco', 'NN'),\n",
       " ('terciopelo', 'NN'),\n",
       " ('patinado', 'NN'),\n",
       " ('verdin', 'NN'),\n",
       " ('siglos', 'NN'),\n",
       " ('pesar', 'NN'),\n",
       " ('inmensa', 'NN'),\n",
       " ('sabiduria', 'NN'),\n",
       " ('ambito', 'NN'),\n",
       " ('misterioso', 'NN'),\n",
       " ('peso', 'NN'),\n",
       " ('humano', 'NN'),\n",
       " ('condicion', 'NN'),\n",
       " ('terrestre', 'NN'),\n",
       " ('cien', 'NN'),\n",
       " ('anos', 'NNS'),\n",
       " ('soledad', 'VBP'),\n",
       " ('gabriel', 'JJ'),\n",
       " ('garcia', 'NN'),\n",
       " ('marquez', 'NN'),\n",
       " ('mantenia', 'NN'),\n",
       " ('enredado', 'NN'),\n",
       " ('minusculos', 'NN'),\n",
       " ('problemas', 'NN'),\n",
       " ('vida', 'NN'),\n",
       " ('cotidiana', 'NN'),\n",
       " ('quejaba', 'NN'),\n",
       " ('dolencias', 'NN'),\n",
       " ('viejo', 'FW'),\n",
       " ('sufria', 'NN'),\n",
       " ('insignificantes', 'NNS'),\n",
       " ('percances', 'NNS'),\n",
       " ('economicos', 'VBP'),\n",
       " ('dejado', 'VB'),\n",
       " ('reir', 'JJ'),\n",
       " ('hacia', 'NN'),\n",
       " ('tiempo', 'JJ'),\n",
       " ('escorbuto', 'NN'),\n",
       " ('arrancado', 'NN'),\n",
       " ('dientes', 'VBZ'),\n",
       " ('sofocante', 'JJ'),\n",
       " ('mediodia', 'NNP'),\n",
       " ('revelo', 'NN'),\n",
       " ('secretos', 'NN'),\n",
       " ('jose', 'NN'),\n",
       " ('arcadio', 'JJ'),\n",
       " ('buendia', 'NN'),\n",
       " ('certidumbre', 'NN'),\n",
       " ('aquel', 'NN'),\n",
       " ('principio', 'NN'),\n",
       " ('grande', 'NN'),\n",
       " ('amistad', 'NN'),\n",
       " ('ninos', 'FW'),\n",
       " ('asombraron', 'NN'),\n",
       " ('relatos', 'NN'),\n",
       " ('fantasticos', 'JJ'),\n",
       " ('aureliano', 'NN'),\n",
       " ('entonces', 'NNS'),\n",
       " ('cinco', 'VBP'),\n",
       " ('anos', 'JJ'),\n",
       " ('recordarlo', 'NN'),\n",
       " ('resto', 'NN'),\n",
       " ('vida', 'NN'),\n",
       " ('vio', 'NN'),\n",
       " ('aquella', 'NN'),\n",
       " ('tarde', 'NN'),\n",
       " ('sentado', 'NN'),\n",
       " ('claridad', 'NN'),\n",
       " ('metalica', 'NN'),\n",
       " ('reverberante', 'NN'),\n",
       " ('ventana', 'FW'),\n",
       " ('alumbrando', 'JJ'),\n",
       " ('pro', 'FW'),\n",
       " ('funda', 'FW'),\n",
       " ('voz', 'FW'),\n",
       " ('organo', 'FW'),\n",
       " ('territorios', 'NNS'),\n",
       " ('oscuros', 'VBP'),\n",
       " ('imaginacion', 'NN'),\n",
       " ('mientras', 'NNS'),\n",
       " ('chorreaba', 'VBP'),\n",
       " ('sienes', 'NNS'),\n",
       " ('grasa', 'NNS'),\n",
       " ('derretida', 'VBP'),\n",
       " ('calor', 'NN'),\n",
       " ('jose', 'NN'),\n",
       " ('arcadio', 'NN'),\n",
       " ('hermano', 'NN'),\n",
       " ('mayor', 'NN'),\n",
       " ('transmitir', 'NN'),\n",
       " ('aquella', 'NN'),\n",
       " ('imagen', 'NN'),\n",
       " ('maravillosa', 'NN'),\n",
       " ('recuerdo', 'NN'),\n",
       " ('hereditario', 'NN'),\n",
       " ('toda', 'NN'),\n",
       " ('descendencia', 'NN'),\n",
       " ('ursula', 'JJ'),\n",
       " ('cambio', 'NN'),\n",
       " ('conservo', 'NN'),\n",
       " ('mal', 'JJ'),\n",
       " ('recuerdo', 'NN'),\n",
       " ...]"
      ]
     },
     "execution_count": 185,
     "metadata": {},
     "output_type": "execute_result"
    }
   ],
   "source": [
    "# tagging sobre todo el texto en minusculas\n",
    "nltk.pos_tag(tokens)\n"
   ]
  },
  {
   "attachments": {},
   "cell_type": "markdown",
   "id": "9ee422d1",
   "metadata": {},
   "source": [
    "# Punto 3"
   ]
  },
  {
   "attachments": {},
   "cell_type": "markdown",
   "id": "a51f6077",
   "metadata": {},
   "source": [
    "1. Escoger una página web que contenga texto (noticias, articulo, cuento, historia, etc.)\n",
    "\n",
    "\n",
    "2. Utilizar la librería BeautifulSoup para leer el texto HTML\n",
    "\n",
    "3. Hacer preprocesamiento de la información de la página web.\n",
    "\n"
   ]
  },
  {
   "cell_type": "code",
   "execution_count": 186,
   "id": "7394f6c4",
   "metadata": {},
   "outputs": [],
   "source": [
    "from bs4 import BeautifulSoup\n",
    "from urllib.request import urlopen\n"
   ]
  },
  {
   "cell_type": "code",
   "execution_count": 187,
   "id": "17d3fa6f",
   "metadata": {},
   "outputs": [],
   "source": [
    "from urllib.request import urlopen\n",
    "pagina = urlopen(\"https://es.uefa.com/uefachampionsleague/\")\n",
    "CodHTML=pagina.read().decode(\"utf-8\")\n"
   ]
  },
  {
   "cell_type": "code",
   "execution_count": 188,
   "id": "04569f66",
   "metadata": {},
   "outputs": [],
   "source": [
    "from bs4 import BeautifulSoup\n",
    "CodHTMLclean = BeautifulSoup(CodHTML).get_text()\n"
   ]
  },
  {
   "cell_type": "code",
   "execution_count": 189,
   "id": "8cb3c0a1",
   "metadata": {},
   "outputs": [],
   "source": [
    "tokens = nltk.word_tokenize(CodHTMLclean)\n"
   ]
  },
  {
   "cell_type": "code",
   "execution_count": 190,
   "id": "6497331c",
   "metadata": {},
   "outputs": [],
   "source": [
    "CodHTMLclean=re.split('\\W+',CodHTML) \n",
    "CodHTMLclean= ' '.join(CodHTMLclean)\n",
    "CodHTMLclean=CodHTMLclean.lower()"
   ]
  },
  {
   "attachments": {},
   "cell_type": "markdown",
   "id": "b2bccee6",
   "metadata": {},
   "source": [
    "##### Removemos caracteres especiales"
   ]
  },
  {
   "cell_type": "code",
   "execution_count": 191,
   "id": "f34d03ba",
   "metadata": {},
   "outputs": [
    {
     "data": {
      "text/plain": [
       "['',\n",
       " 'doctype',\n",
       " 'html',\n",
       " 'html',\n",
       " 'lang',\n",
       " 'es',\n",
       " 'data',\n",
       " 'lang',\n",
       " 'es',\n",
       " 'data',\n",
       " 'culture',\n",
       " 'es',\n",
       " 'es',\n",
       " 'head',\n",
       " 'prefix',\n",
       " 'og',\n",
       " 'http',\n",
       " 'ogp',\n",
       " 'me',\n",
       " 'ns',\n",
       " 'fb',\n",
       " 'http',\n",
       " 'ogp',\n",
       " 'me',\n",
       " 'ns',\n",
       " 'fb',\n",
       " 'website',\n",
       " 'http',\n",
       " 'ogp',\n",
       " 'me',\n",
       " 'ns',\n",
       " 'website',\n",
       " 'title',\n",
       " 'uefa',\n",
       " 'champions',\n",
       " 'league',\n",
       " 'uefa',\n",
       " 'com',\n",
       " 'title',\n",
       " 'meta',\n",
       " 'http',\n",
       " 'equiv',\n",
       " 'x',\n",
       " 'ua',\n",
       " 'compatible',\n",
       " 'content',\n",
       " 'ie',\n",
       " 'edge',\n",
       " 'meta',\n",
       " 'http',\n",
       " 'equiv',\n",
       " 'content',\n",
       " 'type',\n",
       " 'content',\n",
       " 'text',\n",
       " 'html',\n",
       " 'charset',\n",
       " 'utf',\n",
       " '8',\n",
       " 'meta',\n",
       " 'charset',\n",
       " 'utf',\n",
       " '8',\n",
       " 'meta',\n",
       " 'name',\n",
       " 'description',\n",
       " 'content',\n",
       " 'la',\n",
       " 'p',\n",
       " 'xe1',\n",
       " 'gina',\n",
       " 'oficial',\n",
       " 'de',\n",
       " 'la',\n",
       " 'competici',\n",
       " 'xf3',\n",
       " 'n',\n",
       " 'de',\n",
       " 'clubes',\n",
       " 'm',\n",
       " 'xe1',\n",
       " 's',\n",
       " 'prestigiosa',\n",
       " 'del',\n",
       " 'mundo',\n",
       " 'accede',\n",
       " 'a',\n",
       " 'noticias',\n",
       " 'estad',\n",
       " 'xed',\n",
       " 'sticas',\n",
       " 'y',\n",
       " 'v',\n",
       " 'xed',\n",
       " 'deos',\n",
       " 'y',\n",
       " 'juega',\n",
       " 'al',\n",
       " 'fantasy',\n",
       " 'y',\n",
       " 'la',\n",
       " 'quiniela',\n",
       " 'meta',\n",
       " 'name',\n",
       " 'author',\n",
       " 'content',\n",
       " 'uefa',\n",
       " 'com',\n",
       " 'meta',\n",
       " 'name',\n",
       " 'handheldfriendly',\n",
       " 'content',\n",
       " 'true',\n",
       " 'meta',\n",
       " 'name',\n",
       " 'mobileoptimized',\n",
       " 'content',\n",
       " '320',\n",
       " 'meta',\n",
       " 'name',\n",
       " 'application',\n",
       " 'name',\n",
       " 'content',\n",
       " 'uefa',\n",
       " 'com',\n",
       " 'meta',\n",
       " 'name',\n",
       " 'apple',\n",
       " 'mobile',\n",
       " 'web',\n",
       " 'app',\n",
       " 'capable',\n",
       " 'content',\n",
       " 'yes',\n",
       " 'meta',\n",
       " 'name',\n",
       " 'apple',\n",
       " 'mobile',\n",
       " 'web',\n",
       " 'app',\n",
       " 'title',\n",
       " 'content',\n",
       " 'uefa',\n",
       " 'com',\n",
       " 'meta',\n",
       " 'name',\n",
       " 'theme',\n",
       " 'color',\n",
       " 'content',\n",
       " 'ffffff',\n",
       " 'meta',\n",
       " 'property',\n",
       " 'twitter',\n",
       " 'text',\n",
       " 'title',\n",
       " 'content',\n",
       " 'uefa',\n",
       " 'champions',\n",
       " 'league',\n",
       " 'meta',\n",
       " 'name',\n",
       " 'twitter',\n",
       " 'card',\n",
       " 'content',\n",
       " 'summary_large_image',\n",
       " 'meta',\n",
       " 'property',\n",
       " 'og',\n",
       " 'url',\n",
       " 'content',\n",
       " 'https',\n",
       " 'es',\n",
       " 'uefa',\n",
       " 'com',\n",
       " 'uefachampionsleague',\n",
       " 'link',\n",
       " 'rel',\n",
       " 'canonical',\n",
       " 'href',\n",
       " 'https',\n",
       " 'es',\n",
       " 'uefa',\n",
       " 'com',\n",
       " 'uefachampionsleague',\n",
       " 'meta',\n",
       " 'property',\n",
       " 'fb',\n",
       " 'app_id',\n",
       " 'content',\n",
       " '3637676002952740',\n",
       " 'meta',\n",
       " 'property',\n",
       " 'og',\n",
       " 'type',\n",
       " 'content',\n",
       " 'website',\n",
       " 'meta',\n",
       " 'property',\n",
       " 'og',\n",
       " 'title',\n",
       " 'content',\n",
       " 'uefa',\n",
       " 'champions',\n",
       " 'league',\n",
       " 'meta',\n",
       " 'property',\n",
       " 'og',\n",
       " 'image',\n",
       " 'content',\n",
       " 'https',\n",
       " 'img',\n",
       " 'uefa',\n",
       " 'com',\n",
       " 'imgml',\n",
       " 'uefacom',\n",
       " 'ucl',\n",
       " 'social',\n",
       " 'og',\n",
       " 'default',\n",
       " 'jpg',\n",
       " 'meta',\n",
       " 'property',\n",
       " 'og',\n",
       " 'image',\n",
       " 'width',\n",
       " 'content',\n",
       " '2048',\n",
       " 'meta',\n",
       " 'property',\n",
       " 'og',\n",
       " 'image',\n",
       " 'height',\n",
       " 'content',\n",
       " '1152',\n",
       " 'link',\n",
       " 'rel',\n",
       " 'image_src',\n",
       " 'href',\n",
       " 'https',\n",
       " 'img',\n",
       " 'uefa',\n",
       " 'com',\n",
       " 'imgml',\n",
       " 'uefacom',\n",
       " 'ucl',\n",
       " 'social',\n",
       " 'og',\n",
       " 'default',\n",
       " 'jpg',\n",
       " 'meta',\n",
       " 'property',\n",
       " 'og',\n",
       " 'description',\n",
       " 'content',\n",
       " 'la',\n",
       " 'p',\n",
       " 'xe1',\n",
       " 'gina',\n",
       " 'oficial',\n",
       " 'de',\n",
       " 'la',\n",
       " 'competici',\n",
       " 'xf3',\n",
       " 'n',\n",
       " 'de',\n",
       " 'clubes',\n",
       " 'm',\n",
       " 'xe1',\n",
       " 's',\n",
       " 'prestigiosa',\n",
       " 'del',\n",
       " 'mundo',\n",
       " 'accede',\n",
       " 'a',\n",
       " 'noticias',\n",
       " 'estad',\n",
       " 'xed',\n",
       " 'sticas',\n",
       " 'y',\n",
       " 'v',\n",
       " 'xed',\n",
       " 'deos',\n",
       " 'y',\n",
       " 'juega',\n",
       " 'al',\n",
       " 'fantasy',\n",
       " 'y',\n",
       " 'la',\n",
       " 'quiniela',\n",
       " 'meta',\n",
       " 'property',\n",
       " 'og',\n",
       " 'site_name',\n",
       " 'content',\n",
       " 'uefa',\n",
       " 'com',\n",
       " 'link',\n",
       " 'rel',\n",
       " 'shortcut',\n",
       " 'icon',\n",
       " 'href',\n",
       " 'img',\n",
       " 'uefa',\n",
       " 'com',\n",
       " 'imgml',\n",
       " 'favicon',\n",
       " 'comp',\n",
       " 'ucl',\n",
       " 'ico',\n",
       " 'link',\n",
       " 'rel',\n",
       " 'icon',\n",
       " 'href',\n",
       " 'img',\n",
       " 'uefa',\n",
       " 'com',\n",
       " 'imgml',\n",
       " 'favicon',\n",
       " 'comp',\n",
       " 'ucl',\n",
       " 'ico',\n",
       " 'type',\n",
       " 'image',\n",
       " 'x',\n",
       " 'icon',\n",
       " 'link',\n",
       " 'rel',\n",
       " 'apple',\n",
       " 'touch',\n",
       " 'icon',\n",
       " 'href',\n",
       " 'https',\n",
       " 'img',\n",
       " 'uefa',\n",
       " 'com',\n",
       " 'imgml',\n",
       " 'favicon',\n",
       " 'apple',\n",
       " 'touch',\n",
       " 'icon',\n",
       " 'png',\n",
       " 'link',\n",
       " 'rel',\n",
       " 'apple',\n",
       " 'touch',\n",
       " 'icon',\n",
       " 'sizes',\n",
       " '57x57',\n",
       " 'href',\n",
       " 'https',\n",
       " 'img',\n",
       " 'uefa',\n",
       " 'com',\n",
       " 'imgml',\n",
       " 'favicon',\n",
       " 'apple',\n",
       " 'touch',\n",
       " 'icon',\n",
       " '57x57',\n",
       " 'png',\n",
       " 'link',\n",
       " 'rel',\n",
       " 'apple',\n",
       " 'touch',\n",
       " 'icon',\n",
       " 'sizes',\n",
       " '72x72',\n",
       " 'href',\n",
       " 'https',\n",
       " 'img',\n",
       " 'uefa',\n",
       " 'com',\n",
       " 'imgml',\n",
       " 'favicon',\n",
       " 'apple',\n",
       " 'touch',\n",
       " 'icon',\n",
       " '72x72',\n",
       " 'png',\n",
       " 'link',\n",
       " 'rel',\n",
       " 'apple',\n",
       " 'touch',\n",
       " 'icon',\n",
       " 'sizes',\n",
       " '76x76',\n",
       " 'href',\n",
       " 'https',\n",
       " 'img',\n",
       " 'uefa',\n",
       " 'com',\n",
       " 'imgml',\n",
       " 'favicon',\n",
       " 'apple',\n",
       " 'touch',\n",
       " 'icon',\n",
       " '76x76',\n",
       " 'png',\n",
       " 'link',\n",
       " 'rel',\n",
       " 'apple',\n",
       " 'touch',\n",
       " 'icon',\n",
       " 'sizes',\n",
       " '114x114',\n",
       " 'href',\n",
       " 'https',\n",
       " 'img',\n",
       " 'uefa',\n",
       " 'com',\n",
       " 'imgml',\n",
       " 'favicon',\n",
       " 'apple',\n",
       " 'touch',\n",
       " 'icon',\n",
       " '114x114',\n",
       " 'png',\n",
       " 'link',\n",
       " 'rel',\n",
       " 'apple',\n",
       " 'touch',\n",
       " 'icon',\n",
       " 'sizes',\n",
       " '120x120',\n",
       " 'href',\n",
       " 'https',\n",
       " 'img',\n",
       " 'uefa',\n",
       " 'com',\n",
       " 'imgml',\n",
       " 'favicon',\n",
       " 'apple',\n",
       " 'touch',\n",
       " 'icon',\n",
       " '120x120',\n",
       " 'png',\n",
       " 'link',\n",
       " 'rel',\n",
       " 'apple',\n",
       " 'touch',\n",
       " 'icon',\n",
       " 'sizes',\n",
       " '144x144',\n",
       " 'href',\n",
       " 'https',\n",
       " 'img',\n",
       " 'uefa',\n",
       " 'com',\n",
       " 'imgml',\n",
       " 'favicon',\n",
       " 'apple',\n",
       " 'touch',\n",
       " 'icon',\n",
       " '144x144',\n",
       " 'png',\n",
       " 'link',\n",
       " 'rel',\n",
       " 'apple',\n",
       " 'touch',\n",
       " 'icon',\n",
       " 'sizes',\n",
       " '152x152',\n",
       " 'href',\n",
       " 'https',\n",
       " 'img',\n",
       " 'uefa',\n",
       " 'com',\n",
       " 'imgml',\n",
       " 'favicon',\n",
       " 'apple',\n",
       " 'touch',\n",
       " 'icon',\n",
       " '152x152',\n",
       " 'png',\n",
       " 'link',\n",
       " 'rel',\n",
       " 'apple',\n",
       " 'touch',\n",
       " 'icon',\n",
       " 'sizes',\n",
       " '180x180',\n",
       " 'href',\n",
       " 'https',\n",
       " 'img',\n",
       " 'uefa',\n",
       " 'com',\n",
       " 'imgml',\n",
       " 'favicon',\n",
       " 'apple',\n",
       " 'touch',\n",
       " 'icon',\n",
       " '180x180',\n",
       " 'png',\n",
       " 'mobile',\n",
       " 'stuff',\n",
       " 'meta',\n",
       " 'name',\n",
       " 'viewport',\n",
       " 'content',\n",
       " 'width',\n",
       " 'device',\n",
       " 'width',\n",
       " 'initial',\n",
       " 'scale',\n",
       " '1',\n",
       " '0',\n",
       " 'meta',\n",
       " 'name',\n",
       " 'apple',\n",
       " 'itunes',\n",
       " 'app',\n",
       " 'content',\n",
       " 'app',\n",
       " 'id',\n",
       " '1024506667',\n",
       " 'link',\n",
       " 'rel',\n",
       " 'manifest',\n",
       " 'href',\n",
       " 'uefachampionsleague',\n",
       " 'libraries',\n",
       " 'manifest',\n",
       " 'link',\n",
       " 'rel',\n",
       " 'preload',\n",
       " 'crossorigin',\n",
       " 'anonymous',\n",
       " 'href',\n",
       " 'content',\n",
       " 'fonts',\n",
       " 'icomoon',\n",
       " 'icomoon',\n",
       " 'woff',\n",
       " 'as',\n",
       " 'font',\n",
       " 'link',\n",
       " 'rel',\n",
       " 'preload',\n",
       " 'crossorigin',\n",
       " 'anonymous',\n",
       " 'href',\n",
       " 'https',\n",
       " 'panenka',\n",
       " 'uefa',\n",
       " 'com',\n",
       " 'panenka',\n",
       " 'fonts',\n",
       " 'roboto',\n",
       " 'roboto',\n",
       " 'regular',\n",
       " 'woff2',\n",
       " 'as',\n",
       " 'font',\n",
       " 'link',\n",
       " 'rel',\n",
       " 'preload',\n",
       " 'crossorigin',\n",
       " 'anonymous',\n",
       " 'href',\n",
       " 'https',\n",
       " 'panenka',\n",
       " 'uefa',\n",
       " 'com',\n",
       " 'panenka',\n",
       " 'fonts',\n",
       " 'roboto',\n",
       " 'roboto',\n",
       " 'medium',\n",
       " 'woff2',\n",
       " 'as',\n",
       " 'font',\n",
       " 'link',\n",
       " 'rel',\n",
       " 'preload',\n",
       " 'crossorigin',\n",
       " 'anonymous',\n",
       " 'href',\n",
       " 'https',\n",
       " 'panenka',\n",
       " 'uefa',\n",
       " 'com',\n",
       " 'panenka',\n",
       " 'fonts',\n",
       " 'roboto',\n",
       " 'roboto',\n",
       " 'bold',\n",
       " 'woff2',\n",
       " 'as',\n",
       " 'font',\n",
       " 'link',\n",
       " 'rel',\n",
       " 'preload',\n",
       " 'crossorigin',\n",
       " 'anonymous',\n",
       " 'href',\n",
       " 'https',\n",
       " 'panenka',\n",
       " 'uefa',\n",
       " 'com',\n",
       " 'panenka',\n",
       " 'fonts',\n",
       " 'champions',\n",
       " 'champions',\n",
       " 'bold',\n",
       " 'woff2',\n",
       " 'as',\n",
       " 'font',\n",
       " 'link',\n",
       " 'rel',\n",
       " 'preload',\n",
       " 'crossorigin',\n",
       " 'anonymous',\n",
       " 'href',\n",
       " 'https',\n",
       " 'panenka',\n",
       " 'uefa',\n",
       " 'com',\n",
       " 'panenka',\n",
       " 'fonts',\n",
       " 'champions',\n",
       " 'champions',\n",
       " 'regular',\n",
       " 'woff2',\n",
       " 'as',\n",
       " 'font',\n",
       " 'css',\n",
       " 'file',\n",
       " 'compiledassets',\n",
       " 'uefacom',\n",
       " 'css',\n",
       " 'preload',\n",
       " 'css',\n",
       " 'content',\n",
       " 'style',\n",
       " 'type',\n",
       " 'text',\n",
       " 'css',\n",
       " 'data',\n",
       " 'href',\n",
       " 'compiledassets',\n",
       " 'uefacom',\n",
       " 'css',\n",
       " 'preload',\n",
       " 'css',\n",
       " '_t',\n",
       " 'e13be2363d55268b6fc61661cbce4bcd',\n",
       " 'keyframes',\n",
       " 'dismiss',\n",
       " '0',\n",
       " 'opacity',\n",
       " '1',\n",
       " 'visibility',\n",
       " 'visible',\n",
       " 'to',\n",
       " 'opacity',\n",
       " '0',\n",
       " 'visibility',\n",
       " 'hidden',\n",
       " 'font',\n",
       " 'face',\n",
       " 'font',\n",
       " 'family',\n",
       " 'roboto',\n",
       " 'regular',\n",
       " 'font',\n",
       " 'display',\n",
       " 'swap',\n",
       " 'src',\n",
       " 'url',\n",
       " 'https',\n",
       " 'panenka',\n",
       " 'uefa',\n",
       " 'com',\n",
       " 'panenka',\n",
       " 'fonts',\n",
       " 'roboto',\n",
       " 'roboto',\n",
       " 'regular',\n",
       " 'woff2',\n",
       " 'format',\n",
       " 'woff2',\n",
       " 'url',\n",
       " 'https',\n",
       " 'panenka',\n",
       " 'uefa',\n",
       " 'com',\n",
       " 'panenka',\n",
       " 'fonts',\n",
       " 'roboto',\n",
       " 'roboto',\n",
       " 'regular',\n",
       " 'woff',\n",
       " 'format',\n",
       " 'woff',\n",
       " 'font',\n",
       " 'weight',\n",
       " '400',\n",
       " 'font',\n",
       " 'style',\n",
       " 'normal',\n",
       " 'font',\n",
       " 'face',\n",
       " 'font',\n",
       " 'family',\n",
       " 'roboto',\n",
       " 'medium',\n",
       " 'font',\n",
       " 'display',\n",
       " 'swap',\n",
       " 'src',\n",
       " 'url',\n",
       " 'https',\n",
       " 'panenka',\n",
       " 'uefa',\n",
       " 'com',\n",
       " 'panenka',\n",
       " 'fonts',\n",
       " 'roboto',\n",
       " 'roboto',\n",
       " 'medium',\n",
       " 'woff2',\n",
       " 'format',\n",
       " 'woff2',\n",
       " 'url',\n",
       " 'https',\n",
       " 'panenka',\n",
       " 'uefa',\n",
       " 'com',\n",
       " 'panenka',\n",
       " 'fonts',\n",
       " 'roboto',\n",
       " 'roboto',\n",
       " 'medium',\n",
       " 'woff',\n",
       " 'format',\n",
       " 'woff',\n",
       " 'font',\n",
       " 'weight',\n",
       " '500',\n",
       " 'font',\n",
       " 'style',\n",
       " 'normal',\n",
       " 'font',\n",
       " 'face',\n",
       " 'font',\n",
       " 'family',\n",
       " 'roboto',\n",
       " 'bold',\n",
       " 'font',\n",
       " 'display',\n",
       " 'swap',\n",
       " 'src',\n",
       " 'url',\n",
       " 'https',\n",
       " 'panenka',\n",
       " 'uefa',\n",
       " 'com',\n",
       " 'panenka',\n",
       " 'fonts',\n",
       " 'roboto',\n",
       " 'roboto',\n",
       " 'bold',\n",
       " 'woff2',\n",
       " 'format',\n",
       " 'woff2',\n",
       " 'url',\n",
       " 'https',\n",
       " 'panenka',\n",
       " 'uefa',\n",
       " 'com',\n",
       " 'panenka',\n",
       " 'fonts',\n",
       " 'roboto',\n",
       " 'roboto',\n",
       " 'bold',\n",
       " 'woff',\n",
       " 'format',\n",
       " 'woff',\n",
       " 'font',\n",
       " 'weight',\n",
       " '700',\n",
       " 'font',\n",
       " 'style',\n",
       " 'normal',\n",
       " 'root',\n",
       " 'root',\n",
       " 'pk',\n",
       " 'competition',\n",
       " 'base',\n",
       " 'root',\n",
       " 'pk',\n",
       " 'competition',\n",
       " 'base',\n",
       " 'pk',\n",
       " 'primary',\n",
       " '01',\n",
       " 'light',\n",
       " '005eb4',\n",
       " 'pk',\n",
       " 'primary',\n",
       " '01',\n",
       " 'light',\n",
       " 'h',\n",
       " '208',\n",
       " '67deg',\n",
       " 'pk',\n",
       " 'primary',\n",
       " '01',\n",
       " 'light',\n",
       " 's',\n",
       " '100',\n",
       " 'pk',\n",
       " 'primary',\n",
       " '01',\n",
       " 'light',\n",
       " 'l',\n",
       " '35',\n",
       " '29',\n",
       " 'pk',\n",
       " 'primary',\n",
       " '02',\n",
       " 'light',\n",
       " '1c88eb',\n",
       " 'pk',\n",
       " 'primary',\n",
       " '02',\n",
       " 'light',\n",
       " 'h',\n",
       " '208',\n",
       " '7deg',\n",
       " 'pk',\n",
       " 'primary',\n",
       " '02',\n",
       " 'light',\n",
       " 's',\n",
       " '83',\n",
       " '81',\n",
       " 'pk',\n",
       " 'primary',\n",
       " '02',\n",
       " 'light',\n",
       " 'l',\n",
       " '51',\n",
       " '57',\n",
       " 'pk',\n",
       " 'primary',\n",
       " '03',\n",
       " 'light',\n",
       " '0356a3',\n",
       " 'pk',\n",
       " 'primary',\n",
       " '03',\n",
       " 'light',\n",
       " 'h',\n",
       " '208',\n",
       " '88deg',\n",
       " 'pk',\n",
       " 'primary',\n",
       " '03',\n",
       " 'light',\n",
       " 's',\n",
       " '96',\n",
       " '39',\n",
       " 'pk',\n",
       " 'primary',\n",
       " '03',\n",
       " 'light',\n",
       " 'l',\n",
       " '32',\n",
       " '55',\n",
       " 'pk',\n",
       " 'primary',\n",
       " '04',\n",
       " 'light',\n",
       " '043f74',\n",
       " 'pk',\n",
       " 'primary',\n",
       " '04',\n",
       " 'light',\n",
       " 'h',\n",
       " '208',\n",
       " '39deg',\n",
       " 'pk',\n",
       " 'primary',\n",
       " '04',\n",
       " 'light',\n",
       " 's',\n",
       " '93',\n",
       " '33',\n",
       " 'pk',\n",
       " 'primary',\n",
       " '04',\n",
       " 'light',\n",
       " 'l',\n",
       " '23',\n",
       " '53',\n",
       " 'pk',\n",
       " 'secondary',\n",
       " '01',\n",
       " 'light',\n",
       " '1bc4db',\n",
       " 'pk',\n",
       " 'secondary',\n",
       " '01',\n",
       " 'light',\n",
       " 'h',\n",
       " '187',\n",
       " '19deg',\n",
       " 'pk',\n",
       " 'secondary',\n",
       " '01',\n",
       " 'light',\n",
       " 's',\n",
       " '78',\n",
       " '05',\n",
       " 'pk',\n",
       " 'secondary',\n",
       " '01',\n",
       " 'light',\n",
       " 'l',\n",
       " '48',\n",
       " '24',\n",
       " 'pk',\n",
       " 'secondary',\n",
       " '02',\n",
       " 'light',\n",
       " '70eeff',\n",
       " 'pk',\n",
       " 'secondary',\n",
       " '02',\n",
       " 'light',\n",
       " 'h',\n",
       " '187',\n",
       " '13deg',\n",
       " 'pk',\n",
       " 'secondary',\n",
       " '02',\n",
       " 'light',\n",
       " 's',\n",
       " '100',\n",
       " 'pk',\n",
       " 'secondary',\n",
       " '02',\n",
       " 'light',\n",
       " 'l',\n",
       " '71',\n",
       " '96',\n",
       " 'pk',\n",
       " 'secondary',\n",
       " '03',\n",
       " 'light',\n",
       " '148595',\n",
       " 'pk',\n",
       " 'secondary',\n",
       " '03',\n",
       " 'light',\n",
       " 'h',\n",
       " '187',\n",
       " '44deg',\n",
       " 'pk',\n",
       " 'secondary',\n",
       " '03',\n",
       " 'light',\n",
       " 's',\n",
       " '76',\n",
       " '33',\n",
       " 'pk',\n",
       " 'secondary',\n",
       " '03',\n",
       " 'light',\n",
       " 'l',\n",
       " '33',\n",
       " '14',\n",
       " 'pk',\n",
       " 'secondary',\n",
       " '04',\n",
       " 'light',\n",
       " '046876',\n",
       " 'pk',\n",
       " 'secondary',\n",
       " '04',\n",
       " 'light',\n",
       " 'h',\n",
       " '187',\n",
       " '37deg',\n",
       " 'pk',\n",
       " 'secondary',\n",
       " '04',\n",
       " 'light',\n",
       " 's',\n",
       " '93',\n",
       " '44',\n",
       " 'pk',\n",
       " 'secondary',\n",
       " '04',\n",
       " 'light',\n",
       " 'l',\n",
       " '23',\n",
       " '92',\n",
       " 'pk',\n",
       " ...]"
      ]
     },
     "execution_count": 191,
     "metadata": {},
     "output_type": "execute_result"
    }
   ],
   "source": [
    "CodHTMLclean = re.compile(r'\\W+', re.UNICODE).split(CodHTMLclean)\n",
    "CodHTMLclean\n"
   ]
  },
  {
   "attachments": {},
   "cell_type": "markdown",
   "id": "1f1c48af",
   "metadata": {},
   "source": [
    "##### Quitamos tildes"
   ]
  },
  {
   "cell_type": "code",
   "execution_count": 192,
   "id": "586a3cbb",
   "metadata": {},
   "outputs": [],
   "source": [
    "CodHTMLclean=[remove_tildes(x) for x in CodHTMLclean]"
   ]
  },
  {
   "cell_type": "code",
   "execution_count": 193,
   "id": "5cd483ad",
   "metadata": {},
   "outputs": [
    {
     "data": {
      "text/plain": [
       "['',\n",
       " 'doctype',\n",
       " 'html',\n",
       " 'html',\n",
       " 'lang',\n",
       " 'es',\n",
       " 'data',\n",
       " 'lang',\n",
       " 'es',\n",
       " 'data',\n",
       " 'culture',\n",
       " 'es',\n",
       " 'es',\n",
       " 'head',\n",
       " 'prefix',\n",
       " 'og',\n",
       " 'http',\n",
       " 'ogp',\n",
       " 'me',\n",
       " 'ns',\n",
       " 'fb',\n",
       " 'http',\n",
       " 'ogp',\n",
       " 'me',\n",
       " 'ns',\n",
       " 'fb',\n",
       " 'website',\n",
       " 'http',\n",
       " 'ogp',\n",
       " 'me',\n",
       " 'ns',\n",
       " 'website',\n",
       " 'title',\n",
       " 'uefa',\n",
       " 'champions',\n",
       " 'league',\n",
       " 'uefa',\n",
       " 'com',\n",
       " 'title',\n",
       " 'meta',\n",
       " 'http',\n",
       " 'equiv',\n",
       " 'x',\n",
       " 'ua',\n",
       " 'compatible',\n",
       " 'content',\n",
       " 'ie',\n",
       " 'edge',\n",
       " 'meta',\n",
       " 'http',\n",
       " 'equiv',\n",
       " 'content',\n",
       " 'type',\n",
       " 'content',\n",
       " 'text',\n",
       " 'html',\n",
       " 'charset',\n",
       " 'utf',\n",
       " '8',\n",
       " 'meta',\n",
       " 'charset',\n",
       " 'utf',\n",
       " '8',\n",
       " 'meta',\n",
       " 'name',\n",
       " 'description',\n",
       " 'content',\n",
       " 'la',\n",
       " 'p',\n",
       " 'xe1',\n",
       " 'gina',\n",
       " 'oficial',\n",
       " 'de',\n",
       " 'la',\n",
       " 'competici',\n",
       " 'xf3',\n",
       " 'n',\n",
       " 'de',\n",
       " 'clubes',\n",
       " 'm',\n",
       " 'xe1',\n",
       " 's',\n",
       " 'prestigiosa',\n",
       " 'del',\n",
       " 'mundo',\n",
       " 'accede',\n",
       " 'a',\n",
       " 'noticias',\n",
       " 'estad',\n",
       " 'xed',\n",
       " 'sticas',\n",
       " 'y',\n",
       " 'v',\n",
       " 'xed',\n",
       " 'deos',\n",
       " 'y',\n",
       " 'juega',\n",
       " 'al',\n",
       " 'fantasy',\n",
       " 'y',\n",
       " 'la',\n",
       " 'quiniela',\n",
       " 'meta',\n",
       " 'name',\n",
       " 'author',\n",
       " 'content',\n",
       " 'uefa',\n",
       " 'com',\n",
       " 'meta',\n",
       " 'name',\n",
       " 'handheldfriendly',\n",
       " 'content',\n",
       " 'true',\n",
       " 'meta',\n",
       " 'name',\n",
       " 'mobileoptimized',\n",
       " 'content',\n",
       " '320',\n",
       " 'meta',\n",
       " 'name',\n",
       " 'application',\n",
       " 'name',\n",
       " 'content',\n",
       " 'uefa',\n",
       " 'com',\n",
       " 'meta',\n",
       " 'name',\n",
       " 'apple',\n",
       " 'mobile',\n",
       " 'web',\n",
       " 'app',\n",
       " 'capable',\n",
       " 'content',\n",
       " 'yes',\n",
       " 'meta',\n",
       " 'name',\n",
       " 'apple',\n",
       " 'mobile',\n",
       " 'web',\n",
       " 'app',\n",
       " 'title',\n",
       " 'content',\n",
       " 'uefa',\n",
       " 'com',\n",
       " 'meta',\n",
       " 'name',\n",
       " 'theme',\n",
       " 'color',\n",
       " 'content',\n",
       " 'ffffff',\n",
       " 'meta',\n",
       " 'property',\n",
       " 'twitter',\n",
       " 'text',\n",
       " 'title',\n",
       " 'content',\n",
       " 'uefa',\n",
       " 'champions',\n",
       " 'league',\n",
       " 'meta',\n",
       " 'name',\n",
       " 'twitter',\n",
       " 'card',\n",
       " 'content',\n",
       " 'summary_large_image',\n",
       " 'meta',\n",
       " 'property',\n",
       " 'og',\n",
       " 'url',\n",
       " 'content',\n",
       " 'https',\n",
       " 'es',\n",
       " 'uefa',\n",
       " 'com',\n",
       " 'uefachampionsleague',\n",
       " 'link',\n",
       " 'rel',\n",
       " 'canonical',\n",
       " 'href',\n",
       " 'https',\n",
       " 'es',\n",
       " 'uefa',\n",
       " 'com',\n",
       " 'uefachampionsleague',\n",
       " 'meta',\n",
       " 'property',\n",
       " 'fb',\n",
       " 'app_id',\n",
       " 'content',\n",
       " '3637676002952740',\n",
       " 'meta',\n",
       " 'property',\n",
       " 'og',\n",
       " 'type',\n",
       " 'content',\n",
       " 'website',\n",
       " 'meta',\n",
       " 'property',\n",
       " 'og',\n",
       " 'title',\n",
       " 'content',\n",
       " 'uefa',\n",
       " 'champions',\n",
       " 'league',\n",
       " 'meta',\n",
       " 'property',\n",
       " 'og',\n",
       " 'image',\n",
       " 'content',\n",
       " 'https',\n",
       " 'img',\n",
       " 'uefa',\n",
       " 'com',\n",
       " 'imgml',\n",
       " 'uefacom',\n",
       " 'ucl',\n",
       " 'social',\n",
       " 'og',\n",
       " 'default',\n",
       " 'jpg',\n",
       " 'meta',\n",
       " 'property',\n",
       " 'og',\n",
       " 'image',\n",
       " 'width',\n",
       " 'content',\n",
       " '2048',\n",
       " 'meta',\n",
       " 'property',\n",
       " 'og',\n",
       " 'image',\n",
       " 'height',\n",
       " 'content',\n",
       " '1152',\n",
       " 'link',\n",
       " 'rel',\n",
       " 'image_src',\n",
       " 'href',\n",
       " 'https',\n",
       " 'img',\n",
       " 'uefa',\n",
       " 'com',\n",
       " 'imgml',\n",
       " 'uefacom',\n",
       " 'ucl',\n",
       " 'social',\n",
       " 'og',\n",
       " 'default',\n",
       " 'jpg',\n",
       " 'meta',\n",
       " 'property',\n",
       " 'og',\n",
       " 'description',\n",
       " 'content',\n",
       " 'la',\n",
       " 'p',\n",
       " 'xe1',\n",
       " 'gina',\n",
       " 'oficial',\n",
       " 'de',\n",
       " 'la',\n",
       " 'competici',\n",
       " 'xf3',\n",
       " 'n',\n",
       " 'de',\n",
       " 'clubes',\n",
       " 'm',\n",
       " 'xe1',\n",
       " 's',\n",
       " 'prestigiosa',\n",
       " 'del',\n",
       " 'mundo',\n",
       " 'accede',\n",
       " 'a',\n",
       " 'noticias',\n",
       " 'estad',\n",
       " 'xed',\n",
       " 'sticas',\n",
       " 'y',\n",
       " 'v',\n",
       " 'xed',\n",
       " 'deos',\n",
       " 'y',\n",
       " 'juega',\n",
       " 'al',\n",
       " 'fantasy',\n",
       " 'y',\n",
       " 'la',\n",
       " 'quiniela',\n",
       " 'meta',\n",
       " 'property',\n",
       " 'og',\n",
       " 'site_name',\n",
       " 'content',\n",
       " 'uefa',\n",
       " 'com',\n",
       " 'link',\n",
       " 'rel',\n",
       " 'shortcut',\n",
       " 'icon',\n",
       " 'href',\n",
       " 'img',\n",
       " 'uefa',\n",
       " 'com',\n",
       " 'imgml',\n",
       " 'favicon',\n",
       " 'comp',\n",
       " 'ucl',\n",
       " 'ico',\n",
       " 'link',\n",
       " 'rel',\n",
       " 'icon',\n",
       " 'href',\n",
       " 'img',\n",
       " 'uefa',\n",
       " 'com',\n",
       " 'imgml',\n",
       " 'favicon',\n",
       " 'comp',\n",
       " 'ucl',\n",
       " 'ico',\n",
       " 'type',\n",
       " 'image',\n",
       " 'x',\n",
       " 'icon',\n",
       " 'link',\n",
       " 'rel',\n",
       " 'apple',\n",
       " 'touch',\n",
       " 'icon',\n",
       " 'href',\n",
       " 'https',\n",
       " 'img',\n",
       " 'uefa',\n",
       " 'com',\n",
       " 'imgml',\n",
       " 'favicon',\n",
       " 'apple',\n",
       " 'touch',\n",
       " 'icon',\n",
       " 'png',\n",
       " 'link',\n",
       " 'rel',\n",
       " 'apple',\n",
       " 'touch',\n",
       " 'icon',\n",
       " 'sizes',\n",
       " '57x57',\n",
       " 'href',\n",
       " 'https',\n",
       " 'img',\n",
       " 'uefa',\n",
       " 'com',\n",
       " 'imgml',\n",
       " 'favicon',\n",
       " 'apple',\n",
       " 'touch',\n",
       " 'icon',\n",
       " '57x57',\n",
       " 'png',\n",
       " 'link',\n",
       " 'rel',\n",
       " 'apple',\n",
       " 'touch',\n",
       " 'icon',\n",
       " 'sizes',\n",
       " '72x72',\n",
       " 'href',\n",
       " 'https',\n",
       " 'img',\n",
       " 'uefa',\n",
       " 'com',\n",
       " 'imgml',\n",
       " 'favicon',\n",
       " 'apple',\n",
       " 'touch',\n",
       " 'icon',\n",
       " '72x72',\n",
       " 'png',\n",
       " 'link',\n",
       " 'rel',\n",
       " 'apple',\n",
       " 'touch',\n",
       " 'icon',\n",
       " 'sizes',\n",
       " '76x76',\n",
       " 'href',\n",
       " 'https',\n",
       " 'img',\n",
       " 'uefa',\n",
       " 'com',\n",
       " 'imgml',\n",
       " 'favicon',\n",
       " 'apple',\n",
       " 'touch',\n",
       " 'icon',\n",
       " '76x76',\n",
       " 'png',\n",
       " 'link',\n",
       " 'rel',\n",
       " 'apple',\n",
       " 'touch',\n",
       " 'icon',\n",
       " 'sizes',\n",
       " '114x114',\n",
       " 'href',\n",
       " 'https',\n",
       " 'img',\n",
       " 'uefa',\n",
       " 'com',\n",
       " 'imgml',\n",
       " 'favicon',\n",
       " 'apple',\n",
       " 'touch',\n",
       " 'icon',\n",
       " '114x114',\n",
       " 'png',\n",
       " 'link',\n",
       " 'rel',\n",
       " 'apple',\n",
       " 'touch',\n",
       " 'icon',\n",
       " 'sizes',\n",
       " '120x120',\n",
       " 'href',\n",
       " 'https',\n",
       " 'img',\n",
       " 'uefa',\n",
       " 'com',\n",
       " 'imgml',\n",
       " 'favicon',\n",
       " 'apple',\n",
       " 'touch',\n",
       " 'icon',\n",
       " '120x120',\n",
       " 'png',\n",
       " 'link',\n",
       " 'rel',\n",
       " 'apple',\n",
       " 'touch',\n",
       " 'icon',\n",
       " 'sizes',\n",
       " '144x144',\n",
       " 'href',\n",
       " 'https',\n",
       " 'img',\n",
       " 'uefa',\n",
       " 'com',\n",
       " 'imgml',\n",
       " 'favicon',\n",
       " 'apple',\n",
       " 'touch',\n",
       " 'icon',\n",
       " '144x144',\n",
       " 'png',\n",
       " 'link',\n",
       " 'rel',\n",
       " 'apple',\n",
       " 'touch',\n",
       " 'icon',\n",
       " 'sizes',\n",
       " '152x152',\n",
       " 'href',\n",
       " 'https',\n",
       " 'img',\n",
       " 'uefa',\n",
       " 'com',\n",
       " 'imgml',\n",
       " 'favicon',\n",
       " 'apple',\n",
       " 'touch',\n",
       " 'icon',\n",
       " '152x152',\n",
       " 'png',\n",
       " 'link',\n",
       " 'rel',\n",
       " 'apple',\n",
       " 'touch',\n",
       " 'icon',\n",
       " 'sizes',\n",
       " '180x180',\n",
       " 'href',\n",
       " 'https',\n",
       " 'img',\n",
       " 'uefa',\n",
       " 'com',\n",
       " 'imgml',\n",
       " 'favicon',\n",
       " 'apple',\n",
       " 'touch',\n",
       " 'icon',\n",
       " '180x180',\n",
       " 'png',\n",
       " 'mobile',\n",
       " 'stuff',\n",
       " 'meta',\n",
       " 'name',\n",
       " 'viewport',\n",
       " 'content',\n",
       " 'width',\n",
       " 'device',\n",
       " 'width',\n",
       " 'initial',\n",
       " 'scale',\n",
       " '1',\n",
       " '0',\n",
       " 'meta',\n",
       " 'name',\n",
       " 'apple',\n",
       " 'itunes',\n",
       " 'app',\n",
       " 'content',\n",
       " 'app',\n",
       " 'id',\n",
       " '1024506667',\n",
       " 'link',\n",
       " 'rel',\n",
       " 'manifest',\n",
       " 'href',\n",
       " 'uefachampionsleague',\n",
       " 'libraries',\n",
       " 'manifest',\n",
       " 'link',\n",
       " 'rel',\n",
       " 'preload',\n",
       " 'crossorigin',\n",
       " 'anonymous',\n",
       " 'href',\n",
       " 'content',\n",
       " 'fonts',\n",
       " 'icomoon',\n",
       " 'icomoon',\n",
       " 'woff',\n",
       " 'as',\n",
       " 'font',\n",
       " 'link',\n",
       " 'rel',\n",
       " 'preload',\n",
       " 'crossorigin',\n",
       " 'anonymous',\n",
       " 'href',\n",
       " 'https',\n",
       " 'panenka',\n",
       " 'uefa',\n",
       " 'com',\n",
       " 'panenka',\n",
       " 'fonts',\n",
       " 'roboto',\n",
       " 'roboto',\n",
       " 'regular',\n",
       " 'woff2',\n",
       " 'as',\n",
       " 'font',\n",
       " 'link',\n",
       " 'rel',\n",
       " 'preload',\n",
       " 'crossorigin',\n",
       " 'anonymous',\n",
       " 'href',\n",
       " 'https',\n",
       " 'panenka',\n",
       " 'uefa',\n",
       " 'com',\n",
       " 'panenka',\n",
       " 'fonts',\n",
       " 'roboto',\n",
       " 'roboto',\n",
       " 'medium',\n",
       " 'woff2',\n",
       " 'as',\n",
       " 'font',\n",
       " 'link',\n",
       " 'rel',\n",
       " 'preload',\n",
       " 'crossorigin',\n",
       " 'anonymous',\n",
       " 'href',\n",
       " 'https',\n",
       " 'panenka',\n",
       " 'uefa',\n",
       " 'com',\n",
       " 'panenka',\n",
       " 'fonts',\n",
       " 'roboto',\n",
       " 'roboto',\n",
       " 'bold',\n",
       " 'woff2',\n",
       " 'as',\n",
       " 'font',\n",
       " 'link',\n",
       " 'rel',\n",
       " 'preload',\n",
       " 'crossorigin',\n",
       " 'anonymous',\n",
       " 'href',\n",
       " 'https',\n",
       " 'panenka',\n",
       " 'uefa',\n",
       " 'com',\n",
       " 'panenka',\n",
       " 'fonts',\n",
       " 'champions',\n",
       " 'champions',\n",
       " 'bold',\n",
       " 'woff2',\n",
       " 'as',\n",
       " 'font',\n",
       " 'link',\n",
       " 'rel',\n",
       " 'preload',\n",
       " 'crossorigin',\n",
       " 'anonymous',\n",
       " 'href',\n",
       " 'https',\n",
       " 'panenka',\n",
       " 'uefa',\n",
       " 'com',\n",
       " 'panenka',\n",
       " 'fonts',\n",
       " 'champions',\n",
       " 'champions',\n",
       " 'regular',\n",
       " 'woff2',\n",
       " 'as',\n",
       " 'font',\n",
       " 'css',\n",
       " 'file',\n",
       " 'compiledassets',\n",
       " 'uefacom',\n",
       " 'css',\n",
       " 'preload',\n",
       " 'css',\n",
       " 'content',\n",
       " 'style',\n",
       " 'type',\n",
       " 'text',\n",
       " 'css',\n",
       " 'data',\n",
       " 'href',\n",
       " 'compiledassets',\n",
       " 'uefacom',\n",
       " 'css',\n",
       " 'preload',\n",
       " 'css',\n",
       " '_t',\n",
       " 'e13be2363d55268b6fc61661cbce4bcd',\n",
       " 'keyframes',\n",
       " 'dismiss',\n",
       " '0',\n",
       " 'opacity',\n",
       " '1',\n",
       " 'visibility',\n",
       " 'visible',\n",
       " 'to',\n",
       " 'opacity',\n",
       " '0',\n",
       " 'visibility',\n",
       " 'hidden',\n",
       " 'font',\n",
       " 'face',\n",
       " 'font',\n",
       " 'family',\n",
       " 'roboto',\n",
       " 'regular',\n",
       " 'font',\n",
       " 'display',\n",
       " 'swap',\n",
       " 'src',\n",
       " 'url',\n",
       " 'https',\n",
       " 'panenka',\n",
       " 'uefa',\n",
       " 'com',\n",
       " 'panenka',\n",
       " 'fonts',\n",
       " 'roboto',\n",
       " 'roboto',\n",
       " 'regular',\n",
       " 'woff2',\n",
       " 'format',\n",
       " 'woff2',\n",
       " 'url',\n",
       " 'https',\n",
       " 'panenka',\n",
       " 'uefa',\n",
       " 'com',\n",
       " 'panenka',\n",
       " 'fonts',\n",
       " 'roboto',\n",
       " 'roboto',\n",
       " 'regular',\n",
       " 'woff',\n",
       " 'format',\n",
       " 'woff',\n",
       " 'font',\n",
       " 'weight',\n",
       " '400',\n",
       " 'font',\n",
       " 'style',\n",
       " 'normal',\n",
       " 'font',\n",
       " 'face',\n",
       " 'font',\n",
       " 'family',\n",
       " 'roboto',\n",
       " 'medium',\n",
       " 'font',\n",
       " 'display',\n",
       " 'swap',\n",
       " 'src',\n",
       " 'url',\n",
       " 'https',\n",
       " 'panenka',\n",
       " 'uefa',\n",
       " 'com',\n",
       " 'panenka',\n",
       " 'fonts',\n",
       " 'roboto',\n",
       " 'roboto',\n",
       " 'medium',\n",
       " 'woff2',\n",
       " 'format',\n",
       " 'woff2',\n",
       " 'url',\n",
       " 'https',\n",
       " 'panenka',\n",
       " 'uefa',\n",
       " 'com',\n",
       " 'panenka',\n",
       " 'fonts',\n",
       " 'roboto',\n",
       " 'roboto',\n",
       " 'medium',\n",
       " 'woff',\n",
       " 'format',\n",
       " 'woff',\n",
       " 'font',\n",
       " 'weight',\n",
       " '500',\n",
       " 'font',\n",
       " 'style',\n",
       " 'normal',\n",
       " 'font',\n",
       " 'face',\n",
       " 'font',\n",
       " 'family',\n",
       " 'roboto',\n",
       " 'bold',\n",
       " 'font',\n",
       " 'display',\n",
       " 'swap',\n",
       " 'src',\n",
       " 'url',\n",
       " 'https',\n",
       " 'panenka',\n",
       " 'uefa',\n",
       " 'com',\n",
       " 'panenka',\n",
       " 'fonts',\n",
       " 'roboto',\n",
       " 'roboto',\n",
       " 'bold',\n",
       " 'woff2',\n",
       " 'format',\n",
       " 'woff2',\n",
       " 'url',\n",
       " 'https',\n",
       " 'panenka',\n",
       " 'uefa',\n",
       " 'com',\n",
       " 'panenka',\n",
       " 'fonts',\n",
       " 'roboto',\n",
       " 'roboto',\n",
       " 'bold',\n",
       " 'woff',\n",
       " 'format',\n",
       " 'woff',\n",
       " 'font',\n",
       " 'weight',\n",
       " '700',\n",
       " 'font',\n",
       " 'style',\n",
       " 'normal',\n",
       " 'root',\n",
       " 'root',\n",
       " 'pk',\n",
       " 'competition',\n",
       " 'base',\n",
       " 'root',\n",
       " 'pk',\n",
       " 'competition',\n",
       " 'base',\n",
       " 'pk',\n",
       " 'primary',\n",
       " '01',\n",
       " 'light',\n",
       " '005eb4',\n",
       " 'pk',\n",
       " 'primary',\n",
       " '01',\n",
       " 'light',\n",
       " 'h',\n",
       " '208',\n",
       " '67deg',\n",
       " 'pk',\n",
       " 'primary',\n",
       " '01',\n",
       " 'light',\n",
       " 's',\n",
       " '100',\n",
       " 'pk',\n",
       " 'primary',\n",
       " '01',\n",
       " 'light',\n",
       " 'l',\n",
       " '35',\n",
       " '29',\n",
       " 'pk',\n",
       " 'primary',\n",
       " '02',\n",
       " 'light',\n",
       " '1c88eb',\n",
       " 'pk',\n",
       " 'primary',\n",
       " '02',\n",
       " 'light',\n",
       " 'h',\n",
       " '208',\n",
       " '7deg',\n",
       " 'pk',\n",
       " 'primary',\n",
       " '02',\n",
       " 'light',\n",
       " 's',\n",
       " '83',\n",
       " '81',\n",
       " 'pk',\n",
       " 'primary',\n",
       " '02',\n",
       " 'light',\n",
       " 'l',\n",
       " '51',\n",
       " '57',\n",
       " 'pk',\n",
       " 'primary',\n",
       " '03',\n",
       " 'light',\n",
       " '0356a3',\n",
       " 'pk',\n",
       " 'primary',\n",
       " '03',\n",
       " 'light',\n",
       " 'h',\n",
       " '208',\n",
       " '88deg',\n",
       " 'pk',\n",
       " 'primary',\n",
       " '03',\n",
       " 'light',\n",
       " 's',\n",
       " '96',\n",
       " '39',\n",
       " 'pk',\n",
       " 'primary',\n",
       " '03',\n",
       " 'light',\n",
       " 'l',\n",
       " '32',\n",
       " '55',\n",
       " 'pk',\n",
       " 'primary',\n",
       " '04',\n",
       " 'light',\n",
       " '043f74',\n",
       " 'pk',\n",
       " 'primary',\n",
       " '04',\n",
       " 'light',\n",
       " 'h',\n",
       " '208',\n",
       " '39deg',\n",
       " 'pk',\n",
       " 'primary',\n",
       " '04',\n",
       " 'light',\n",
       " 's',\n",
       " '93',\n",
       " '33',\n",
       " 'pk',\n",
       " 'primary',\n",
       " '04',\n",
       " 'light',\n",
       " 'l',\n",
       " '23',\n",
       " '53',\n",
       " 'pk',\n",
       " 'secondary',\n",
       " '01',\n",
       " 'light',\n",
       " '1bc4db',\n",
       " 'pk',\n",
       " 'secondary',\n",
       " '01',\n",
       " 'light',\n",
       " 'h',\n",
       " '187',\n",
       " '19deg',\n",
       " 'pk',\n",
       " 'secondary',\n",
       " '01',\n",
       " 'light',\n",
       " 's',\n",
       " '78',\n",
       " '05',\n",
       " 'pk',\n",
       " 'secondary',\n",
       " '01',\n",
       " 'light',\n",
       " 'l',\n",
       " '48',\n",
       " '24',\n",
       " 'pk',\n",
       " 'secondary',\n",
       " '02',\n",
       " 'light',\n",
       " '70eeff',\n",
       " 'pk',\n",
       " 'secondary',\n",
       " '02',\n",
       " 'light',\n",
       " 'h',\n",
       " '187',\n",
       " '13deg',\n",
       " 'pk',\n",
       " 'secondary',\n",
       " '02',\n",
       " 'light',\n",
       " 's',\n",
       " '100',\n",
       " 'pk',\n",
       " 'secondary',\n",
       " '02',\n",
       " 'light',\n",
       " 'l',\n",
       " '71',\n",
       " '96',\n",
       " 'pk',\n",
       " 'secondary',\n",
       " '03',\n",
       " 'light',\n",
       " '148595',\n",
       " 'pk',\n",
       " 'secondary',\n",
       " '03',\n",
       " 'light',\n",
       " 'h',\n",
       " '187',\n",
       " '44deg',\n",
       " 'pk',\n",
       " 'secondary',\n",
       " '03',\n",
       " 'light',\n",
       " 's',\n",
       " '76',\n",
       " '33',\n",
       " 'pk',\n",
       " 'secondary',\n",
       " '03',\n",
       " 'light',\n",
       " 'l',\n",
       " '33',\n",
       " '14',\n",
       " 'pk',\n",
       " 'secondary',\n",
       " '04',\n",
       " 'light',\n",
       " '046876',\n",
       " 'pk',\n",
       " 'secondary',\n",
       " '04',\n",
       " 'light',\n",
       " 'h',\n",
       " '187',\n",
       " '37deg',\n",
       " 'pk',\n",
       " 'secondary',\n",
       " '04',\n",
       " 'light',\n",
       " 's',\n",
       " '93',\n",
       " '44',\n",
       " 'pk',\n",
       " 'secondary',\n",
       " '04',\n",
       " 'light',\n",
       " 'l',\n",
       " '23',\n",
       " '92',\n",
       " 'pk',\n",
       " ...]"
      ]
     },
     "execution_count": 193,
     "metadata": {},
     "output_type": "execute_result"
    }
   ],
   "source": [
    "CodHTMLclean"
   ]
  },
  {
   "attachments": {},
   "cell_type": "markdown",
   "id": "fb9500f6",
   "metadata": {},
   "source": [
    "##### Quitamos stop words y tokenizamos"
   ]
  },
  {
   "cell_type": "code",
   "execution_count": 194,
   "id": "44b8e859",
   "metadata": {},
   "outputs": [
    {
     "data": {
      "text/plain": [
       "['',\n",
       " 'doctype',\n",
       " 'html',\n",
       " 'html',\n",
       " 'lang',\n",
       " 'data',\n",
       " 'lang',\n",
       " 'data',\n",
       " 'culture',\n",
       " 'head',\n",
       " 'prefix',\n",
       " 'og',\n",
       " 'http',\n",
       " 'ogp',\n",
       " 'ns',\n",
       " 'fb',\n",
       " 'http',\n",
       " 'ogp',\n",
       " 'ns',\n",
       " 'fb',\n",
       " 'website',\n",
       " 'http',\n",
       " 'ogp',\n",
       " 'ns',\n",
       " 'website',\n",
       " 'title',\n",
       " 'uefa',\n",
       " 'champions',\n",
       " 'league',\n",
       " 'uefa',\n",
       " 'com',\n",
       " 'title',\n",
       " 'meta',\n",
       " 'http',\n",
       " 'equiv',\n",
       " 'x',\n",
       " 'ua',\n",
       " 'compatible',\n",
       " 'content',\n",
       " 'ie',\n",
       " 'edge',\n",
       " 'meta',\n",
       " 'http',\n",
       " 'equiv',\n",
       " 'content',\n",
       " 'type',\n",
       " 'content',\n",
       " 'text',\n",
       " 'html',\n",
       " 'charset',\n",
       " 'utf',\n",
       " '8',\n",
       " 'meta',\n",
       " 'charset',\n",
       " 'utf',\n",
       " '8',\n",
       " 'meta',\n",
       " 'name',\n",
       " 'description',\n",
       " 'content',\n",
       " 'p',\n",
       " 'xe1',\n",
       " 'gina',\n",
       " 'oficial',\n",
       " 'competici',\n",
       " 'xf3',\n",
       " 'n',\n",
       " 'clubes',\n",
       " 'm',\n",
       " 'xe1',\n",
       " 's',\n",
       " 'prestigiosa',\n",
       " 'mundo',\n",
       " 'accede',\n",
       " 'noticias',\n",
       " 'xed',\n",
       " 'sticas',\n",
       " 'v',\n",
       " 'xed',\n",
       " 'deos',\n",
       " 'juega',\n",
       " 'fantasy',\n",
       " 'quiniela',\n",
       " 'meta',\n",
       " 'name',\n",
       " 'author',\n",
       " 'content',\n",
       " 'uefa',\n",
       " 'com',\n",
       " 'meta',\n",
       " 'name',\n",
       " 'handheldfriendly',\n",
       " 'content',\n",
       " 'true',\n",
       " 'meta',\n",
       " 'name',\n",
       " 'mobileoptimized',\n",
       " 'content',\n",
       " '320',\n",
       " 'meta',\n",
       " 'name',\n",
       " 'application',\n",
       " 'name',\n",
       " 'content',\n",
       " 'uefa',\n",
       " 'com',\n",
       " 'meta',\n",
       " 'name',\n",
       " 'apple',\n",
       " 'mobile',\n",
       " 'web',\n",
       " 'app',\n",
       " 'capable',\n",
       " 'content',\n",
       " 'yes',\n",
       " 'meta',\n",
       " 'name',\n",
       " 'apple',\n",
       " 'mobile',\n",
       " 'web',\n",
       " 'app',\n",
       " 'title',\n",
       " 'content',\n",
       " 'uefa',\n",
       " 'com',\n",
       " 'meta',\n",
       " 'name',\n",
       " 'theme',\n",
       " 'color',\n",
       " 'content',\n",
       " 'ffffff',\n",
       " 'meta',\n",
       " 'property',\n",
       " 'twitter',\n",
       " 'text',\n",
       " 'title',\n",
       " 'content',\n",
       " 'uefa',\n",
       " 'champions',\n",
       " 'league',\n",
       " 'meta',\n",
       " 'name',\n",
       " 'twitter',\n",
       " 'card',\n",
       " 'content',\n",
       " 'summary_large_image',\n",
       " 'meta',\n",
       " 'property',\n",
       " 'og',\n",
       " 'url',\n",
       " 'content',\n",
       " 'https',\n",
       " 'uefa',\n",
       " 'com',\n",
       " 'uefachampionsleague',\n",
       " 'link',\n",
       " 'rel',\n",
       " 'canonical',\n",
       " 'href',\n",
       " 'https',\n",
       " 'uefa',\n",
       " 'com',\n",
       " 'uefachampionsleague',\n",
       " 'meta',\n",
       " 'property',\n",
       " 'fb',\n",
       " 'app_id',\n",
       " 'content',\n",
       " '3637676002952740',\n",
       " 'meta',\n",
       " 'property',\n",
       " 'og',\n",
       " 'type',\n",
       " 'content',\n",
       " 'website',\n",
       " 'meta',\n",
       " 'property',\n",
       " 'og',\n",
       " 'title',\n",
       " 'content',\n",
       " 'uefa',\n",
       " 'champions',\n",
       " 'league',\n",
       " 'meta',\n",
       " 'property',\n",
       " 'og',\n",
       " 'image',\n",
       " 'content',\n",
       " 'https',\n",
       " 'img',\n",
       " 'uefa',\n",
       " 'com',\n",
       " 'imgml',\n",
       " 'uefacom',\n",
       " 'ucl',\n",
       " 'social',\n",
       " 'og',\n",
       " 'default',\n",
       " 'jpg',\n",
       " 'meta',\n",
       " 'property',\n",
       " 'og',\n",
       " 'image',\n",
       " 'width',\n",
       " 'content',\n",
       " '2048',\n",
       " 'meta',\n",
       " 'property',\n",
       " 'og',\n",
       " 'image',\n",
       " 'height',\n",
       " 'content',\n",
       " '1152',\n",
       " 'link',\n",
       " 'rel',\n",
       " 'image_src',\n",
       " 'href',\n",
       " 'https',\n",
       " 'img',\n",
       " 'uefa',\n",
       " 'com',\n",
       " 'imgml',\n",
       " 'uefacom',\n",
       " 'ucl',\n",
       " 'social',\n",
       " 'og',\n",
       " 'default',\n",
       " 'jpg',\n",
       " 'meta',\n",
       " 'property',\n",
       " 'og',\n",
       " 'description',\n",
       " 'content',\n",
       " 'p',\n",
       " 'xe1',\n",
       " 'gina',\n",
       " 'oficial',\n",
       " 'competici',\n",
       " 'xf3',\n",
       " 'n',\n",
       " 'clubes',\n",
       " 'm',\n",
       " 'xe1',\n",
       " 's',\n",
       " 'prestigiosa',\n",
       " 'mundo',\n",
       " 'accede',\n",
       " 'noticias',\n",
       " 'xed',\n",
       " 'sticas',\n",
       " 'v',\n",
       " 'xed',\n",
       " 'deos',\n",
       " 'juega',\n",
       " 'fantasy',\n",
       " 'quiniela',\n",
       " 'meta',\n",
       " 'property',\n",
       " 'og',\n",
       " 'site_name',\n",
       " 'content',\n",
       " 'uefa',\n",
       " 'com',\n",
       " 'link',\n",
       " 'rel',\n",
       " 'shortcut',\n",
       " 'icon',\n",
       " 'href',\n",
       " 'img',\n",
       " 'uefa',\n",
       " 'com',\n",
       " 'imgml',\n",
       " 'favicon',\n",
       " 'comp',\n",
       " 'ucl',\n",
       " 'ico',\n",
       " 'link',\n",
       " 'rel',\n",
       " 'icon',\n",
       " 'href',\n",
       " 'img',\n",
       " 'uefa',\n",
       " 'com',\n",
       " 'imgml',\n",
       " 'favicon',\n",
       " 'comp',\n",
       " 'ucl',\n",
       " 'ico',\n",
       " 'type',\n",
       " 'image',\n",
       " 'x',\n",
       " 'icon',\n",
       " 'link',\n",
       " 'rel',\n",
       " 'apple',\n",
       " 'touch',\n",
       " 'icon',\n",
       " 'href',\n",
       " 'https',\n",
       " 'img',\n",
       " 'uefa',\n",
       " 'com',\n",
       " 'imgml',\n",
       " 'favicon',\n",
       " 'apple',\n",
       " 'touch',\n",
       " 'icon',\n",
       " 'png',\n",
       " 'link',\n",
       " 'rel',\n",
       " 'apple',\n",
       " 'touch',\n",
       " 'icon',\n",
       " 'sizes',\n",
       " '57x57',\n",
       " 'href',\n",
       " 'https',\n",
       " 'img',\n",
       " 'uefa',\n",
       " 'com',\n",
       " 'imgml',\n",
       " 'favicon',\n",
       " 'apple',\n",
       " 'touch',\n",
       " 'icon',\n",
       " '57x57',\n",
       " 'png',\n",
       " 'link',\n",
       " 'rel',\n",
       " 'apple',\n",
       " 'touch',\n",
       " 'icon',\n",
       " 'sizes',\n",
       " '72x72',\n",
       " 'href',\n",
       " 'https',\n",
       " 'img',\n",
       " 'uefa',\n",
       " 'com',\n",
       " 'imgml',\n",
       " 'favicon',\n",
       " 'apple',\n",
       " 'touch',\n",
       " 'icon',\n",
       " '72x72',\n",
       " 'png',\n",
       " 'link',\n",
       " 'rel',\n",
       " 'apple',\n",
       " 'touch',\n",
       " 'icon',\n",
       " 'sizes',\n",
       " '76x76',\n",
       " 'href',\n",
       " 'https',\n",
       " 'img',\n",
       " 'uefa',\n",
       " 'com',\n",
       " 'imgml',\n",
       " 'favicon',\n",
       " 'apple',\n",
       " 'touch',\n",
       " 'icon',\n",
       " '76x76',\n",
       " 'png',\n",
       " 'link',\n",
       " 'rel',\n",
       " 'apple',\n",
       " 'touch',\n",
       " 'icon',\n",
       " 'sizes',\n",
       " '114x114',\n",
       " 'href',\n",
       " 'https',\n",
       " 'img',\n",
       " 'uefa',\n",
       " 'com',\n",
       " 'imgml',\n",
       " 'favicon',\n",
       " 'apple',\n",
       " 'touch',\n",
       " 'icon',\n",
       " '114x114',\n",
       " 'png',\n",
       " 'link',\n",
       " 'rel',\n",
       " 'apple',\n",
       " 'touch',\n",
       " 'icon',\n",
       " 'sizes',\n",
       " '120x120',\n",
       " 'href',\n",
       " 'https',\n",
       " 'img',\n",
       " 'uefa',\n",
       " 'com',\n",
       " 'imgml',\n",
       " 'favicon',\n",
       " 'apple',\n",
       " 'touch',\n",
       " 'icon',\n",
       " '120x120',\n",
       " 'png',\n",
       " 'link',\n",
       " 'rel',\n",
       " 'apple',\n",
       " 'touch',\n",
       " 'icon',\n",
       " 'sizes',\n",
       " '144x144',\n",
       " 'href',\n",
       " 'https',\n",
       " 'img',\n",
       " 'uefa',\n",
       " 'com',\n",
       " 'imgml',\n",
       " 'favicon',\n",
       " 'apple',\n",
       " 'touch',\n",
       " 'icon',\n",
       " '144x144',\n",
       " 'png',\n",
       " 'link',\n",
       " 'rel',\n",
       " 'apple',\n",
       " 'touch',\n",
       " 'icon',\n",
       " 'sizes',\n",
       " '152x152',\n",
       " 'href',\n",
       " 'https',\n",
       " 'img',\n",
       " 'uefa',\n",
       " 'com',\n",
       " 'imgml',\n",
       " 'favicon',\n",
       " 'apple',\n",
       " 'touch',\n",
       " 'icon',\n",
       " '152x152',\n",
       " 'png',\n",
       " 'link',\n",
       " 'rel',\n",
       " 'apple',\n",
       " 'touch',\n",
       " 'icon',\n",
       " 'sizes',\n",
       " '180x180',\n",
       " 'href',\n",
       " 'https',\n",
       " 'img',\n",
       " 'uefa',\n",
       " 'com',\n",
       " 'imgml',\n",
       " 'favicon',\n",
       " 'apple',\n",
       " 'touch',\n",
       " 'icon',\n",
       " '180x180',\n",
       " 'png',\n",
       " 'mobile',\n",
       " 'stuff',\n",
       " 'meta',\n",
       " 'name',\n",
       " 'viewport',\n",
       " 'content',\n",
       " 'width',\n",
       " 'device',\n",
       " 'width',\n",
       " 'initial',\n",
       " 'scale',\n",
       " '1',\n",
       " '0',\n",
       " 'meta',\n",
       " 'name',\n",
       " 'apple',\n",
       " 'itunes',\n",
       " 'app',\n",
       " 'content',\n",
       " 'app',\n",
       " 'id',\n",
       " '1024506667',\n",
       " 'link',\n",
       " 'rel',\n",
       " 'manifest',\n",
       " 'href',\n",
       " 'uefachampionsleague',\n",
       " 'libraries',\n",
       " 'manifest',\n",
       " 'link',\n",
       " 'rel',\n",
       " 'preload',\n",
       " 'crossorigin',\n",
       " 'anonymous',\n",
       " 'href',\n",
       " 'content',\n",
       " 'fonts',\n",
       " 'icomoon',\n",
       " 'icomoon',\n",
       " 'woff',\n",
       " 'as',\n",
       " 'font',\n",
       " 'link',\n",
       " 'rel',\n",
       " 'preload',\n",
       " 'crossorigin',\n",
       " 'anonymous',\n",
       " 'href',\n",
       " 'https',\n",
       " 'panenka',\n",
       " 'uefa',\n",
       " 'com',\n",
       " 'panenka',\n",
       " 'fonts',\n",
       " 'roboto',\n",
       " 'roboto',\n",
       " 'regular',\n",
       " 'woff2',\n",
       " 'as',\n",
       " 'font',\n",
       " 'link',\n",
       " 'rel',\n",
       " 'preload',\n",
       " 'crossorigin',\n",
       " 'anonymous',\n",
       " 'href',\n",
       " 'https',\n",
       " 'panenka',\n",
       " 'uefa',\n",
       " 'com',\n",
       " 'panenka',\n",
       " 'fonts',\n",
       " 'roboto',\n",
       " 'roboto',\n",
       " 'medium',\n",
       " 'woff2',\n",
       " 'as',\n",
       " 'font',\n",
       " 'link',\n",
       " 'rel',\n",
       " 'preload',\n",
       " 'crossorigin',\n",
       " 'anonymous',\n",
       " 'href',\n",
       " 'https',\n",
       " 'panenka',\n",
       " 'uefa',\n",
       " 'com',\n",
       " 'panenka',\n",
       " 'fonts',\n",
       " 'roboto',\n",
       " 'roboto',\n",
       " 'bold',\n",
       " 'woff2',\n",
       " 'as',\n",
       " 'font',\n",
       " 'link',\n",
       " 'rel',\n",
       " 'preload',\n",
       " 'crossorigin',\n",
       " 'anonymous',\n",
       " 'href',\n",
       " 'https',\n",
       " 'panenka',\n",
       " 'uefa',\n",
       " 'com',\n",
       " 'panenka',\n",
       " 'fonts',\n",
       " 'champions',\n",
       " 'champions',\n",
       " 'bold',\n",
       " 'woff2',\n",
       " 'as',\n",
       " 'font',\n",
       " 'link',\n",
       " 'rel',\n",
       " 'preload',\n",
       " 'crossorigin',\n",
       " 'anonymous',\n",
       " 'href',\n",
       " 'https',\n",
       " 'panenka',\n",
       " 'uefa',\n",
       " 'com',\n",
       " 'panenka',\n",
       " 'fonts',\n",
       " 'champions',\n",
       " 'champions',\n",
       " 'regular',\n",
       " 'woff2',\n",
       " 'as',\n",
       " 'font',\n",
       " 'css',\n",
       " 'file',\n",
       " 'compiledassets',\n",
       " 'uefacom',\n",
       " 'css',\n",
       " 'preload',\n",
       " 'css',\n",
       " 'content',\n",
       " 'style',\n",
       " 'type',\n",
       " 'text',\n",
       " 'css',\n",
       " 'data',\n",
       " 'href',\n",
       " 'compiledassets',\n",
       " 'uefacom',\n",
       " 'css',\n",
       " 'preload',\n",
       " 'css',\n",
       " '_t',\n",
       " 'e13be2363d55268b6fc61661cbce4bcd',\n",
       " 'keyframes',\n",
       " 'dismiss',\n",
       " '0',\n",
       " 'opacity',\n",
       " '1',\n",
       " 'visibility',\n",
       " 'visible',\n",
       " 'to',\n",
       " 'opacity',\n",
       " '0',\n",
       " 'visibility',\n",
       " 'hidden',\n",
       " 'font',\n",
       " 'face',\n",
       " 'font',\n",
       " 'family',\n",
       " 'roboto',\n",
       " 'regular',\n",
       " 'font',\n",
       " 'display',\n",
       " 'swap',\n",
       " 'src',\n",
       " 'url',\n",
       " 'https',\n",
       " 'panenka',\n",
       " 'uefa',\n",
       " 'com',\n",
       " 'panenka',\n",
       " 'fonts',\n",
       " 'roboto',\n",
       " 'roboto',\n",
       " 'regular',\n",
       " 'woff2',\n",
       " 'format',\n",
       " 'woff2',\n",
       " 'url',\n",
       " 'https',\n",
       " 'panenka',\n",
       " 'uefa',\n",
       " 'com',\n",
       " 'panenka',\n",
       " 'fonts',\n",
       " 'roboto',\n",
       " 'roboto',\n",
       " 'regular',\n",
       " 'woff',\n",
       " 'format',\n",
       " 'woff',\n",
       " 'font',\n",
       " 'weight',\n",
       " '400',\n",
       " 'font',\n",
       " 'style',\n",
       " 'normal',\n",
       " 'font',\n",
       " 'face',\n",
       " 'font',\n",
       " 'family',\n",
       " 'roboto',\n",
       " 'medium',\n",
       " 'font',\n",
       " 'display',\n",
       " 'swap',\n",
       " 'src',\n",
       " 'url',\n",
       " 'https',\n",
       " 'panenka',\n",
       " 'uefa',\n",
       " 'com',\n",
       " 'panenka',\n",
       " 'fonts',\n",
       " 'roboto',\n",
       " 'roboto',\n",
       " 'medium',\n",
       " 'woff2',\n",
       " 'format',\n",
       " 'woff2',\n",
       " 'url',\n",
       " 'https',\n",
       " 'panenka',\n",
       " 'uefa',\n",
       " 'com',\n",
       " 'panenka',\n",
       " 'fonts',\n",
       " 'roboto',\n",
       " 'roboto',\n",
       " 'medium',\n",
       " 'woff',\n",
       " 'format',\n",
       " 'woff',\n",
       " 'font',\n",
       " 'weight',\n",
       " '500',\n",
       " 'font',\n",
       " 'style',\n",
       " 'normal',\n",
       " 'font',\n",
       " 'face',\n",
       " 'font',\n",
       " 'family',\n",
       " 'roboto',\n",
       " 'bold',\n",
       " 'font',\n",
       " 'display',\n",
       " 'swap',\n",
       " 'src',\n",
       " 'url',\n",
       " 'https',\n",
       " 'panenka',\n",
       " 'uefa',\n",
       " 'com',\n",
       " 'panenka',\n",
       " 'fonts',\n",
       " 'roboto',\n",
       " 'roboto',\n",
       " 'bold',\n",
       " 'woff2',\n",
       " 'format',\n",
       " 'woff2',\n",
       " 'url',\n",
       " 'https',\n",
       " 'panenka',\n",
       " 'uefa',\n",
       " 'com',\n",
       " 'panenka',\n",
       " 'fonts',\n",
       " 'roboto',\n",
       " 'roboto',\n",
       " 'bold',\n",
       " 'woff',\n",
       " 'format',\n",
       " 'woff',\n",
       " 'font',\n",
       " 'weight',\n",
       " '700',\n",
       " 'font',\n",
       " 'style',\n",
       " 'normal',\n",
       " 'root',\n",
       " 'root',\n",
       " 'pk',\n",
       " 'competition',\n",
       " 'base',\n",
       " 'root',\n",
       " 'pk',\n",
       " 'competition',\n",
       " 'base',\n",
       " 'pk',\n",
       " 'primary',\n",
       " '01',\n",
       " 'light',\n",
       " '005eb4',\n",
       " 'pk',\n",
       " 'primary',\n",
       " '01',\n",
       " 'light',\n",
       " 'h',\n",
       " '208',\n",
       " '67deg',\n",
       " 'pk',\n",
       " 'primary',\n",
       " '01',\n",
       " 'light',\n",
       " 's',\n",
       " '100',\n",
       " 'pk',\n",
       " 'primary',\n",
       " '01',\n",
       " 'light',\n",
       " 'l',\n",
       " '35',\n",
       " '29',\n",
       " 'pk',\n",
       " 'primary',\n",
       " '02',\n",
       " 'light',\n",
       " '1c88eb',\n",
       " 'pk',\n",
       " 'primary',\n",
       " '02',\n",
       " 'light',\n",
       " 'h',\n",
       " '208',\n",
       " '7deg',\n",
       " 'pk',\n",
       " 'primary',\n",
       " '02',\n",
       " 'light',\n",
       " 's',\n",
       " '83',\n",
       " '81',\n",
       " 'pk',\n",
       " 'primary',\n",
       " '02',\n",
       " 'light',\n",
       " 'l',\n",
       " '51',\n",
       " '57',\n",
       " 'pk',\n",
       " 'primary',\n",
       " '03',\n",
       " 'light',\n",
       " '0356a3',\n",
       " 'pk',\n",
       " 'primary',\n",
       " '03',\n",
       " 'light',\n",
       " 'h',\n",
       " '208',\n",
       " '88deg',\n",
       " 'pk',\n",
       " 'primary',\n",
       " '03',\n",
       " 'light',\n",
       " 's',\n",
       " '96',\n",
       " '39',\n",
       " 'pk',\n",
       " 'primary',\n",
       " '03',\n",
       " 'light',\n",
       " 'l',\n",
       " '32',\n",
       " '55',\n",
       " 'pk',\n",
       " 'primary',\n",
       " '04',\n",
       " 'light',\n",
       " '043f74',\n",
       " 'pk',\n",
       " 'primary',\n",
       " '04',\n",
       " 'light',\n",
       " 'h',\n",
       " '208',\n",
       " '39deg',\n",
       " 'pk',\n",
       " 'primary',\n",
       " '04',\n",
       " 'light',\n",
       " 's',\n",
       " '93',\n",
       " '33',\n",
       " 'pk',\n",
       " 'primary',\n",
       " '04',\n",
       " 'light',\n",
       " 'l',\n",
       " '23',\n",
       " '53',\n",
       " 'pk',\n",
       " 'secondary',\n",
       " '01',\n",
       " 'light',\n",
       " '1bc4db',\n",
       " 'pk',\n",
       " 'secondary',\n",
       " '01',\n",
       " 'light',\n",
       " 'h',\n",
       " '187',\n",
       " '19deg',\n",
       " 'pk',\n",
       " 'secondary',\n",
       " '01',\n",
       " 'light',\n",
       " 's',\n",
       " '78',\n",
       " '05',\n",
       " 'pk',\n",
       " 'secondary',\n",
       " '01',\n",
       " 'light',\n",
       " 'l',\n",
       " '48',\n",
       " '24',\n",
       " 'pk',\n",
       " 'secondary',\n",
       " '02',\n",
       " 'light',\n",
       " '70eeff',\n",
       " 'pk',\n",
       " 'secondary',\n",
       " '02',\n",
       " 'light',\n",
       " 'h',\n",
       " '187',\n",
       " '13deg',\n",
       " 'pk',\n",
       " 'secondary',\n",
       " '02',\n",
       " 'light',\n",
       " 's',\n",
       " '100',\n",
       " 'pk',\n",
       " 'secondary',\n",
       " '02',\n",
       " 'light',\n",
       " 'l',\n",
       " '71',\n",
       " '96',\n",
       " 'pk',\n",
       " 'secondary',\n",
       " '03',\n",
       " 'light',\n",
       " '148595',\n",
       " 'pk',\n",
       " 'secondary',\n",
       " '03',\n",
       " 'light',\n",
       " 'h',\n",
       " '187',\n",
       " '44deg',\n",
       " 'pk',\n",
       " 'secondary',\n",
       " '03',\n",
       " 'light',\n",
       " 's',\n",
       " '76',\n",
       " '33',\n",
       " 'pk',\n",
       " 'secondary',\n",
       " '03',\n",
       " 'light',\n",
       " 'l',\n",
       " '33',\n",
       " '14',\n",
       " 'pk',\n",
       " 'secondary',\n",
       " '04',\n",
       " 'light',\n",
       " '046876',\n",
       " 'pk',\n",
       " 'secondary',\n",
       " '04',\n",
       " 'light',\n",
       " 'h',\n",
       " '187',\n",
       " '37deg',\n",
       " 'pk',\n",
       " 'secondary',\n",
       " '04',\n",
       " 'light',\n",
       " 's',\n",
       " '93',\n",
       " '44',\n",
       " 'pk',\n",
       " 'secondary',\n",
       " '04',\n",
       " 'light',\n",
       " 'l',\n",
       " '23',\n",
       " '92',\n",
       " 'pk',\n",
       " 'tertiary',\n",
       " '01',\n",
       " 'light',\n",
       " 'db1b77',\n",
       " 'pk',\n",
       " 'tertiary',\n",
       " '01',\n",
       " 'light',\n",
       " 'h',\n",
       " '331',\n",
       " '25deg',\n",
       " 'pk',\n",
       " 'tertiary',\n",
       " '01',\n",
       " 'light',\n",
       " 's',\n",
       " '78',\n",
       " '05',\n",
       " 'pk',\n",
       " 'tertiary',\n",
       " '01',\n",
       " 'light',\n",
       " 'l',\n",
       " '48',\n",
       " '24',\n",
       " 'pk',\n",
       " 'tertiary',\n",
       " '02',\n",
       " 'light',\n",
       " 'ef4998',\n",
       " 'pk',\n",
       " 'tertiary',\n",
       " '02',\n",
       " ...]"
      ]
     },
     "execution_count": 194,
     "metadata": {},
     "output_type": "execute_result"
    }
   ],
   "source": [
    "stop_w = ' '.join(stopwords.words('spanish'))\n",
    "stop_w = remove_tildes(stop_w)\n",
    "stop_w = stop_w.split()\n",
    "\n",
    "# eliminamos las stop words\n",
    "for n in stop_w:\n",
    "    for m in CodHTMLclean:\n",
    "        if n == m:\n",
    "            CodHTMLclean.remove(n)\n",
    "CodHTMLclean\n",
    "\n"
   ]
  },
  {
   "attachments": {},
   "cell_type": "markdown",
   "id": "8dadd49d",
   "metadata": {},
   "source": [
    "4. Describir en una nube de palabras lo que está en la página web."
   ]
  },
  {
   "cell_type": "code",
   "execution_count": 195,
   "id": "8bae19ea",
   "metadata": {},
   "outputs": [
    {
     "data": {
      "text/plain": [
       "FreqDist({'de': 20, 'UEFA': 8, 'En': 7, 'directo': 7, 'la': 7, 'y': 7, '.': 5, 'en': 3, 'El': 3, 'el': 3, ...})"
      ]
     },
     "execution_count": 195,
     "metadata": {},
     "output_type": "execute_result"
    }
   ],
   "source": [
    "Freq_dist_nltk=nltk.FreqDist(tokens[1000:2000]) ; Freq_dist_nltk"
   ]
  },
  {
   "cell_type": "code",
   "execution_count": 196,
   "id": "b8dd57b6",
   "metadata": {},
   "outputs": [
    {
     "name": "stdout",
     "output_type": "stream",
     "text": [
      "['a', 'al', 'algo', 'algunas', 'algunos', 'ante', 'antes', 'como', 'con', 'contra']\n"
     ]
    }
   ],
   "source": [
    "stop_words = get_stop_words(\"es\")\n",
    "print(stop_words[0:10])\n"
   ]
  },
  {
   "cell_type": "code",
   "execution_count": 197,
   "id": "d1d2fe80",
   "metadata": {},
   "outputs": [],
   "source": [
    "tokensclean=[palabras for palabras in tokens[1000:2000] if len(palabras.lower())>1 and (palabras.lower() not in stop_words)]"
   ]
  },
  {
   "cell_type": "code",
   "execution_count": 198,
   "id": "2d9c0351",
   "metadata": {},
   "outputs": [
    {
     "data": {
      "image/png": "[encoded data removed]",
      "text/plain": [
       "<Figure size 720x720 with 1 Axes>"
      ]
     },
     "metadata": {
      "needs_background": "light"
     },
     "output_type": "display_data"
    }
   ],
   "source": [
    "wordcloud = WordCloud(max_font_size=50,\n",
    "                      max_words=100,\n",
    "                      background_color=\"white\").generate(\" \".join(tokensclean))\n",
    "plt.figure(figsize=(10, 10))\n",
    "plt.imshow(wordcloud, interpolation=\"bilinear\")\n",
    "plt.axis(\"off\")\n",
    "plt.show()\n"
   ]
  },
  {
   "attachments": {},
   "cell_type": "markdown",
   "id": "0543de02",
   "metadata": {},
   "source": [
    "Como se observa en la nube de palabras las palabras mas representativas son UEFA, Partido, marc as, directo, uso, Política, Jugador y tiene mucho sentido con la pagina web estas y el resto de palabtras en la wordcloud realizada."
   ]
  },
  {
   "attachments": {},
   "cell_type": "markdown",
   "id": "0d0d2489",
   "metadata": {},
   "source": [
    "# Punto 4"
   ]
  },
  {
   "attachments": {},
   "cell_type": "markdown",
   "id": "33e0f1e9",
   "metadata": {},
   "source": [
    "**Nota:** se debe tener en cuenta la funcion que remueve las tildes, ya que las stop words vienen algunas con tildes y se llama dos veces dentro de la funcion de preprocesamiento, si es olbligatorio quietarla se puede, pero no respetaria las buenas practicas de programacion. "
   ]
  },
  {
   "cell_type": "code",
   "execution_count": 199,
   "id": "ea6a13cb",
   "metadata": {},
   "outputs": [
    {
     "data": {
      "text/plain": [
       "['gabriel',\n",
       " 'garcia',\n",
       " 'marquez',\n",
       " 'cien',\n",
       " 'anos',\n",
       " 'soledad',\n",
       " 'editado',\n",
       " 'ediciones',\n",
       " 'cueva',\n",
       " 'j',\n",
       " 'omi',\n",
       " 'garcia',\n",
       " 'ascot',\n",
       " 'maria',\n",
       " 'luisa',\n",
       " 'elio',\n",
       " 'cien',\n",
       " 'anos',\n",
       " 'soledad',\n",
       " 'gabriel',\n",
       " 'garcia',\n",
       " 'marquez',\n",
       " 'anos',\n",
       " 'despues',\n",
       " 'frente',\n",
       " 'peloton',\n",
       " 'fusilamiento',\n",
       " 'coronel',\n",
       " 'aureliano',\n",
       " 'buendia',\n",
       " 'recordar',\n",
       " 'aquella',\n",
       " 'tarde',\n",
       " 'remota',\n",
       " 'padre',\n",
       " 'llevo',\n",
       " 'conocer',\n",
       " 'hielo',\n",
       " 'macondo',\n",
       " 'entonces',\n",
       " 'aldea',\n",
       " 'veinte',\n",
       " 'casas',\n",
       " 'barro',\n",
       " 'canabrava',\n",
       " 'construidas',\n",
       " 'orilla',\n",
       " 'rio',\n",
       " 'aguas',\n",
       " 'diafanas',\n",
       " 'precipitaban',\n",
       " 'lecho',\n",
       " 'piedras',\n",
       " 'pulidas',\n",
       " 'blancas',\n",
       " 'enormes',\n",
       " 'huevos',\n",
       " 'prehistoricos',\n",
       " 'mundo',\n",
       " 'tan',\n",
       " 'reciente',\n",
       " 'muchas',\n",
       " 'cosas',\n",
       " 'carecian',\n",
       " 'nombre',\n",
       " 'mencionarlas',\n",
       " 'senalarias',\n",
       " 'dedo',\n",
       " 'anos',\n",
       " 'mes',\n",
       " 'marzo',\n",
       " 'familia',\n",
       " 'gitanos',\n",
       " 'desarrapados',\n",
       " 'plantaba',\n",
       " 'carpa',\n",
       " 'cerca',\n",
       " 'aldea',\n",
       " 'grande',\n",
       " 'alboroto',\n",
       " 'pitos',\n",
       " 'timbales',\n",
       " 'daban',\n",
       " 'conocer',\n",
       " 'nuevos',\n",
       " 'inventos',\n",
       " 'primero',\n",
       " 'llevaron',\n",
       " 'iman',\n",
       " 'gitano',\n",
       " 'corpulento',\n",
       " 'barba',\n",
       " 'montaraz',\n",
       " 'manos',\n",
       " 'gorrion',\n",
       " 'presento',\n",
       " 'nombre',\n",
       " 'melquiades',\n",
       " 'hizo',\n",
       " 'truculenta',\n",
       " 'demostracion',\n",
       " 'publica',\n",
       " 'mismo',\n",
       " 'llamaba',\n",
       " 'octava',\n",
       " 'maravilla',\n",
       " 'sabios',\n",
       " 'alquimistas',\n",
       " 'macedonia',\n",
       " 'casa',\n",
       " 'casa',\n",
       " 'arrastrando',\n",
       " 'dos',\n",
       " 'lingotes',\n",
       " 'metalicos',\n",
       " 'mundo',\n",
       " 'espanto',\n",
       " 'ver',\n",
       " 'calderos',\n",
       " 'pailas',\n",
       " 'tenazas',\n",
       " 'anafes',\n",
       " 'caian',\n",
       " 'sitio',\n",
       " 'maderas',\n",
       " 'crujian',\n",
       " 'desesperacion',\n",
       " 'clavos',\n",
       " 'tornillos',\n",
       " 'tratando',\n",
       " 'desenclavarse',\n",
       " 'aun',\n",
       " 'objetos',\n",
       " 'perdidos',\n",
       " 'hacia',\n",
       " 'tiempo',\n",
       " 'aparecian',\n",
       " 'buscado',\n",
       " 'arrastraban',\n",
       " 'desbandada',\n",
       " 'turbulenta',\n",
       " 'detras',\n",
       " 'fierros',\n",
       " 'magicos',\n",
       " 'melquiades',\n",
       " 'cosas',\n",
       " 'vida',\n",
       " 'propia',\n",
       " 'pregonaba',\n",
       " 'gitano',\n",
       " 'aspero',\n",
       " 'acento',\n",
       " 'cuestion',\n",
       " 'despertarles',\n",
       " 'anima',\n",
       " 'jose',\n",
       " 'arcadio',\n",
       " 'buendia',\n",
       " 'cuya',\n",
       " 'desaforada',\n",
       " 'imaginacion',\n",
       " 'iba',\n",
       " 'siempre',\n",
       " 'lejos',\n",
       " 'ingenio',\n",
       " 'naturaleza',\n",
       " 'aun',\n",
       " 'alla',\n",
       " 'milagro',\n",
       " 'magia',\n",
       " 'penso',\n",
       " 'posible',\n",
       " 'servirse',\n",
       " 'aquella',\n",
       " 'invencion',\n",
       " 'inutil',\n",
       " 'desentranar',\n",
       " 'oro',\n",
       " 'tierra',\n",
       " 'melquiades',\n",
       " 'hombre',\n",
       " 'honrado',\n",
       " 'previno',\n",
       " 'sirve',\n",
       " 'jose',\n",
       " 'arcadio',\n",
       " 'buendia',\n",
       " 'creia',\n",
       " 'aquel',\n",
       " 'tiempo',\n",
       " 'honradez',\n",
       " 'gitanos',\n",
       " 'asi',\n",
       " 'cambio',\n",
       " 'mulo',\n",
       " 'partida',\n",
       " 'chivos',\n",
       " 'dos',\n",
       " 'lingotes',\n",
       " 'imantados',\n",
       " 'ursula',\n",
       " 'i',\n",
       " 'guaran',\n",
       " 'mujer',\n",
       " 'contaba',\n",
       " 'aquellos',\n",
       " 'animales',\n",
       " 'ensanchar',\n",
       " 'desmedrado',\n",
       " 'patrimonio',\n",
       " 'domestico',\n",
       " 'consiguio',\n",
       " 'disuadirlo',\n",
       " 'pronto',\n",
       " 'sobrarnos',\n",
       " 'oro',\n",
       " 'empedrar',\n",
       " 'casa',\n",
       " 'replico',\n",
       " 'marido',\n",
       " 'varios',\n",
       " 'meses',\n",
       " 'empeno',\n",
       " 'demostrar',\n",
       " 'acierto',\n",
       " 'conjeturas',\n",
       " 'exploro',\n",
       " 'palmo',\n",
       " 'palmo',\n",
       " 'region',\n",
       " 'inclusive',\n",
       " 'fondo',\n",
       " 'rio',\n",
       " 'arrastrando',\n",
       " 'dos',\n",
       " 'lingotes',\n",
       " 'hierro',\n",
       " 'recitando',\n",
       " 'voz',\n",
       " 'alta',\n",
       " 'conjuro',\n",
       " 'melquiades',\n",
       " 'unico',\n",
       " 'logro',\n",
       " 'desenterrar',\n",
       " 'armadura',\n",
       " 'siglo',\n",
       " 'xv',\n",
       " 'todas',\n",
       " 'partes',\n",
       " 'soldadas',\n",
       " 'cascote',\n",
       " 'oxido',\n",
       " 'cuyo',\n",
       " 'interior',\n",
       " 'resonancia',\n",
       " 'hueca',\n",
       " 'enorme',\n",
       " 'calabazo',\n",
       " 'lleno',\n",
       " 'piedras',\n",
       " 'jose',\n",
       " 'arcadio',\n",
       " 'buendia',\n",
       " 'cuatro',\n",
       " 'hombres',\n",
       " 'expedicion',\n",
       " 'lograron',\n",
       " 'desarticular',\n",
       " 'armadura',\n",
       " 'encontraron',\n",
       " 'dentro',\n",
       " 'esqueleto',\n",
       " 'calcificado',\n",
       " 'llevaba',\n",
       " 'colgado',\n",
       " 'cuello',\n",
       " 'relicario',\n",
       " 'cobre',\n",
       " 'rizo',\n",
       " 'mujer',\n",
       " 'marzo',\n",
       " 'volvieron',\n",
       " 'gitanos',\n",
       " 'vez',\n",
       " 'llevaban',\n",
       " 'catalejo',\n",
       " 'lupa',\n",
       " 'tamano',\n",
       " 'tambor',\n",
       " 'exhibieron',\n",
       " 'ultimo',\n",
       " 'descubrimiento',\n",
       " 'judios',\n",
       " 'amsterdam',\n",
       " 'sentaron',\n",
       " 'gitana',\n",
       " 'extremo',\n",
       " 'aldea',\n",
       " 'instalaron',\n",
       " 'catalejo',\n",
       " 'entrada',\n",
       " 'carpa',\n",
       " 'mediante',\n",
       " 'pago',\n",
       " 'cinco',\n",
       " 'reales',\n",
       " 'gente',\n",
       " 'asomaba',\n",
       " 'catalejo',\n",
       " 'veia',\n",
       " 'gitana',\n",
       " 'alcance',\n",
       " 'mano',\n",
       " 'ciencia',\n",
       " 'eliminado',\n",
       " 'distancias',\n",
       " 'pregonaba',\n",
       " 'melquiades',\n",
       " 'dentro',\n",
       " 'hombre',\n",
       " 'podra',\n",
       " 'ver',\n",
       " 'ocurre',\n",
       " 'cualquier',\n",
       " 'lugar',\n",
       " 'tierra',\n",
       " 'moverse',\n",
       " 'casa',\n",
       " 'mediodia',\n",
       " 'ardiente',\n",
       " 'hicieron',\n",
       " 'asombrosa',\n",
       " 'demostracion',\n",
       " 'lupa',\n",
       " 'gigantesca',\n",
       " 'pusieron',\n",
       " 'monton',\n",
       " 'hierba',\n",
       " 'seca',\n",
       " 'mitad',\n",
       " 'calle',\n",
       " 'prendieron',\n",
       " 'fuego',\n",
       " 'mediante',\n",
       " 'concentracion',\n",
       " 'rayos',\n",
       " 'solares',\n",
       " 'jose',\n",
       " 'arcadio',\n",
       " 'buendia',\n",
       " 'aun',\n",
       " 'acababa',\n",
       " 'consolarse',\n",
       " 'fracaso',\n",
       " 'imanes',\n",
       " 'concibio',\n",
       " 'idea',\n",
       " 'utilizar',\n",
       " 'aquel',\n",
       " 'invento',\n",
       " 'arma',\n",
       " 'guerra',\n",
       " 'melquiades',\n",
       " 'vez',\n",
       " 'trato',\n",
       " 'disuadirlo',\n",
       " 'termino',\n",
       " 'aceptar',\n",
       " 'dos',\n",
       " 'lingotes',\n",
       " 'imantados',\n",
       " 'tres',\n",
       " 'piezas',\n",
       " 'dinero',\n",
       " 'colonial',\n",
       " 'cambio',\n",
       " 'lupa',\n",
       " 'ursula',\n",
       " 'lloro',\n",
       " 'consternacion',\n",
       " 'aquel',\n",
       " 'dinero',\n",
       " 'formaba',\n",
       " 'parte',\n",
       " 'cofre',\n",
       " 'monedas',\n",
       " 'oro',\n",
       " 'padre',\n",
       " 'acumulado',\n",
       " 'toda',\n",
       " 'vida',\n",
       " 'privaciones',\n",
       " 'enterrado',\n",
       " 'debajo',\n",
       " 'cama',\n",
       " 'espera',\n",
       " 'buena',\n",
       " 'ocasion',\n",
       " 'invertirias',\n",
       " 'jose',\n",
       " 'arcadio',\n",
       " 'buendia',\n",
       " 'trato',\n",
       " 'siquiera',\n",
       " 'consolarla',\n",
       " 'entregado',\n",
       " 'entero',\n",
       " 'experimentos',\n",
       " 'tacticos',\n",
       " 'abnegacion',\n",
       " 'cientifico',\n",
       " 'aun',\n",
       " 'riesgo',\n",
       " 'propia',\n",
       " 'vida',\n",
       " 'tratando',\n",
       " 'demostrar',\n",
       " 'efectos',\n",
       " 'lupa',\n",
       " 'tropa',\n",
       " 'enemiga',\n",
       " 'expuso',\n",
       " 'mismo',\n",
       " 'concentracion',\n",
       " 'rayos',\n",
       " 'solares',\n",
       " 'sufrio',\n",
       " 'quemaduras',\n",
       " 'convirtieron',\n",
       " 'ulceras',\n",
       " 'tardaron',\n",
       " 'tiempo',\n",
       " 'sanar',\n",
       " 'protestas',\n",
       " 'mujer',\n",
       " 'alarmada',\n",
       " 'tan',\n",
       " 'peligrosa',\n",
       " 'inventiva',\n",
       " 'punto',\n",
       " 'incendiar',\n",
       " 'casa',\n",
       " 'pasaba',\n",
       " 'largas',\n",
       " 'horas',\n",
       " 'cuarto',\n",
       " 'haciendo',\n",
       " 'calculos',\n",
       " 'posibilidades',\n",
       " 'estrategicas',\n",
       " 'arma',\n",
       " 'novedosa',\n",
       " 'logro',\n",
       " 'componer',\n",
       " 'manual',\n",
       " 'asombrosa',\n",
       " 'claridad',\n",
       " 'didactica',\n",
       " 'cien',\n",
       " 'anos',\n",
       " 'soledad',\n",
       " 'gabriel',\n",
       " 'garcia',\n",
       " 'marquez',\n",
       " 'poder',\n",
       " 'conviccion',\n",
       " 'irresistible',\n",
       " 'envio',\n",
       " 'autoridades',\n",
       " 'acompanado',\n",
       " 'numerosos',\n",
       " 'testimonios',\n",
       " 'experiencias',\n",
       " 'varios',\n",
       " 'pliegos',\n",
       " 'dibujos',\n",
       " 'explicativos',\n",
       " 'cuidado',\n",
       " 'mensajero',\n",
       " 'atraveso',\n",
       " 'sierra',\n",
       " 'extravio',\n",
       " 'pantanos',\n",
       " 'desmesurados',\n",
       " 'remonto',\n",
       " 'rios',\n",
       " 'tormentosos',\n",
       " 'punto',\n",
       " 'perecer',\n",
       " 'bajo',\n",
       " 'azote',\n",
       " 'fieras',\n",
       " 'desesperacion',\n",
       " 'peste',\n",
       " 'conseguir',\n",
       " 'ruta',\n",
       " 'enlace',\n",
       " 'muias',\n",
       " 'correo',\n",
       " 'pesar',\n",
       " 'viaje',\n",
       " 'capital',\n",
       " 'aquel',\n",
       " 'tiempo',\n",
       " 'menos',\n",
       " 'imposible',\n",
       " 'jose',\n",
       " 'arcadio',\n",
       " 'buendia',\n",
       " 'prometia',\n",
       " 'intentarlo',\n",
       " 'tan',\n",
       " 'pronto',\n",
       " 'ordenara',\n",
       " 'gobierno',\n",
       " 'fin',\n",
       " 'hacer',\n",
       " 'demostraciones',\n",
       " 'practicas',\n",
       " 'invento',\n",
       " 'poderes',\n",
       " 'militares',\n",
       " 'adiestrarlos',\n",
       " 'personalmente',\n",
       " 'complicadas',\n",
       " 'artes',\n",
       " 'guerra',\n",
       " 'solar',\n",
       " 'varios',\n",
       " 'anos',\n",
       " 'espero',\n",
       " 'respuesta',\n",
       " 'ultimo',\n",
       " 'cansado',\n",
       " 'esperar',\n",
       " 'lamento',\n",
       " 'melquiades',\n",
       " 'fracaso',\n",
       " 'iniciativa',\n",
       " 'gitano',\n",
       " 'dio',\n",
       " 'entonces',\n",
       " 'prueba',\n",
       " 'convincente',\n",
       " 'honradez',\n",
       " 'devolvio',\n",
       " 'doblones',\n",
       " 'cambio',\n",
       " 'lupa',\n",
       " 'dejo',\n",
       " 'ademas',\n",
       " 'mapas',\n",
       " 'portugueses',\n",
       " 'varios',\n",
       " 'instrumentos',\n",
       " 'navegacion',\n",
       " 'puno',\n",
       " 'letra',\n",
       " 'escribio',\n",
       " 'apretada',\n",
       " 'sintesis',\n",
       " 'estudios',\n",
       " 'monje',\n",
       " 'hermann',\n",
       " 'dejo',\n",
       " 'disposicion',\n",
       " 'pudiera',\n",
       " 'servirse',\n",
       " 'astrolabio',\n",
       " 'brujula',\n",
       " 'sextante',\n",
       " 'jose',\n",
       " 'arcadio',\n",
       " 'buendia',\n",
       " 'paso',\n",
       " 'largos',\n",
       " 'meses',\n",
       " 'lluvia',\n",
       " 'encerrado',\n",
       " 'cuartito',\n",
       " 'construyo',\n",
       " 'fondo',\n",
       " 'casa',\n",
       " 'nadie',\n",
       " 'perturbara',\n",
       " 'experimentos',\n",
       " 'abandonado',\n",
       " 'completo',\n",
       " 'obligaciones',\n",
       " 'domesticas',\n",
       " 'permanecio',\n",
       " 'noches',\n",
       " 'enteras',\n",
       " 'patio',\n",
       " 'vigilando',\n",
       " 'curso',\n",
       " 'astros',\n",
       " 'punto',\n",
       " 'contraer',\n",
       " 'insolacion',\n",
       " 'tratar',\n",
       " 'establecer',\n",
       " 'metodo',\n",
       " 'exacto',\n",
       " 'encontrar',\n",
       " 'mediodia',\n",
       " 'hizo',\n",
       " 'experto',\n",
       " 'uso',\n",
       " 'manejo',\n",
       " 'instrumentos',\n",
       " 'nocion',\n",
       " 'espacio',\n",
       " 'permitio',\n",
       " 'navegar',\n",
       " 'mares',\n",
       " 'incognitos',\n",
       " 'visitar',\n",
       " 'territorios',\n",
       " 'deshabitados',\n",
       " 'trabar',\n",
       " 'relacion',\n",
       " 'seres',\n",
       " 'esplendidos',\n",
       " 'necesidad',\n",
       " 'abandonar',\n",
       " 'gabinete',\n",
       " 'epoca',\n",
       " 'adquirio',\n",
       " 'habito',\n",
       " 'hablar',\n",
       " 'solas',\n",
       " 'paseandose',\n",
       " 'casa',\n",
       " 'hacer',\n",
       " 'caso',\n",
       " 'nadie',\n",
       " 'mientras',\n",
       " 'ursula',\n",
       " 'ninos',\n",
       " 'partian',\n",
       " 'espinazo',\n",
       " 'huerta',\n",
       " 'cuidando',\n",
       " 'platano',\n",
       " 'malanga',\n",
       " 'yuca',\n",
       " 'name',\n",
       " 'ahuyama',\n",
       " 'berenjena',\n",
       " 'pronto',\n",
       " 'ningun',\n",
       " 'anuncio',\n",
       " 'actividad',\n",
       " 'febril',\n",
       " 'interrumpio',\n",
       " 'sustituida',\n",
       " 'especie',\n",
       " 'fascinacion',\n",
       " 'varios',\n",
       " 'dias',\n",
       " 'hechizado',\n",
       " 'repitiendose',\n",
       " 'mismo',\n",
       " 'voz',\n",
       " 'baja',\n",
       " 'sartal',\n",
       " 'asombrosas',\n",
       " 'conjeturas',\n",
       " 'dar',\n",
       " 'credito',\n",
       " 'propio',\n",
       " 'entendimiento',\n",
       " 'fin',\n",
       " 'martes',\n",
       " 'diciembre',\n",
       " 'hora',\n",
       " 'almuerzo',\n",
       " 'solto',\n",
       " 'golpe',\n",
       " 'toda',\n",
       " 'carga',\n",
       " 'tormento',\n",
       " 'ninos',\n",
       " 'recordar',\n",
       " 'resto',\n",
       " 'vida',\n",
       " 'augusta',\n",
       " 'solemnidad',\n",
       " 'padre',\n",
       " 'sento',\n",
       " 'cabecera',\n",
       " 'mesa',\n",
       " 'temblando',\n",
       " 'fiebre',\n",
       " 'devastado',\n",
       " 'prolongada',\n",
       " 'vigilia',\n",
       " 'encono',\n",
       " 'imaginacion',\n",
       " 'revelo',\n",
       " 'descubrimiento',\n",
       " 'tierra',\n",
       " 'redonda',\n",
       " 'naranja',\n",
       " 'ursula',\n",
       " 'perdio',\n",
       " 'paciencia',\n",
       " 'volverte',\n",
       " 'loco',\n",
       " 'vuelvete',\n",
       " 'solo',\n",
       " 'grito',\n",
       " 'trates',\n",
       " 'inculcar',\n",
       " 'ninos',\n",
       " 'ideas',\n",
       " 'gitano',\n",
       " 'jose',\n",
       " 'arcadio',\n",
       " 'buendia',\n",
       " 'impasible',\n",
       " 'dejo',\n",
       " 'amedrentar',\n",
       " 'desesperacion',\n",
       " 'mujer',\n",
       " 'rapto',\n",
       " 'colera',\n",
       " 'destrozo',\n",
       " 'astrolabio',\n",
       " 'suelo',\n",
       " 'construyo',\n",
       " 'reunio',\n",
       " 'cuartito',\n",
       " 'hombres',\n",
       " 'pueblo',\n",
       " 'demostro',\n",
       " 'teorias',\n",
       " 'resultaban',\n",
       " 'incomprensibles',\n",
       " 'posibilidad',\n",
       " 'regresar',\n",
       " 'punto',\n",
       " 'partida',\n",
       " 'navegando',\n",
       " 'siempre',\n",
       " 'hacia',\n",
       " 'oriente',\n",
       " 'toda',\n",
       " 'aldea',\n",
       " 'convencida',\n",
       " 'jose',\n",
       " 'arcadio',\n",
       " 'buendia',\n",
       " 'perdido',\n",
       " 'juicio',\n",
       " 'llego',\n",
       " 'melquiades',\n",
       " 'poner',\n",
       " 'cosas',\n",
       " 'punto',\n",
       " 'exalto',\n",
       " 'publico',\n",
       " 'inteligencia',\n",
       " 'aquel',\n",
       " 'hombre',\n",
       " 'pura',\n",
       " 'especulacion',\n",
       " 'astronomica',\n",
       " 'construido',\n",
       " 'teoria',\n",
       " 'comprobada',\n",
       " 'practica',\n",
       " 'aunque',\n",
       " 'desconocida',\n",
       " 'entonces',\n",
       " 'macondo',\n",
       " 'prueba',\n",
       " 'admiracion',\n",
       " 'hizo',\n",
       " 'regalo',\n",
       " 'ejercer',\n",
       " 'influencia',\n",
       " 'terminante',\n",
       " 'futuro',\n",
       " 'aldea',\n",
       " 'laboratorio',\n",
       " 'alquimia',\n",
       " 'epoca',\n",
       " 'melquiades',\n",
       " 'envejecido',\n",
       " 'rapidez',\n",
       " 'asombrosa',\n",
       " 'primeros',\n",
       " 'viajes',\n",
       " 'parecia',\n",
       " 'tener',\n",
       " 'misma',\n",
       " 'edad',\n",
       " 'jose',\n",
       " 'arcadio',\n",
       " 'buendia',\n",
       " 'mientras',\n",
       " 'conservaba',\n",
       " 'fuerza',\n",
       " 'descomunal',\n",
       " 'permitia',\n",
       " 'derribar',\n",
       " 'caballo',\n",
       " 'agarrandolo',\n",
       " 'orejas',\n",
       " 'gitano',\n",
       " 'parecia',\n",
       " 'estragado',\n",
       " 'dolencia',\n",
       " 'tenaz',\n",
       " 'realidad',\n",
       " 'resultado',\n",
       " 'multiples',\n",
       " 'raras',\n",
       " 'enfermedades',\n",
       " 'contraidas',\n",
       " 'incontables',\n",
       " 'viajes',\n",
       " 'alrededor',\n",
       " 'mundo',\n",
       " 'segun',\n",
       " 'mismo',\n",
       " 'conto',\n",
       " 'jose',\n",
       " 'arcadio',\n",
       " 'buendia',\n",
       " 'mientras',\n",
       " 'ayudaba',\n",
       " 'montar',\n",
       " 'laboratorio',\n",
       " 'muerte',\n",
       " 'seguia',\n",
       " 'todas',\n",
       " 'partes',\n",
       " 'husmeandole',\n",
       " 'pantalones',\n",
       " 'decidirse',\n",
       " 'darle',\n",
       " 'zarpazo',\n",
       " 'final',\n",
       " 'fugitivo',\n",
       " 'cuantas',\n",
       " 'plagas',\n",
       " 'catastrofes',\n",
       " 'flagelado',\n",
       " 'genero',\n",
       " 'humano',\n",
       " 'sobrevivio',\n",
       " 'pelagra',\n",
       " 'persia',\n",
       " 'escorbuto',\n",
       " 'archipielago',\n",
       " 'malasia',\n",
       " 'lepra',\n",
       " 'alejandria',\n",
       " 'beriberi',\n",
       " 'japon',\n",
       " 'peste',\n",
       " 'bubonica',\n",
       " 'madagascar',\n",
       " 'terremoto',\n",
       " 'sicilia',\n",
       " 'naufragio',\n",
       " 'multitudinario',\n",
       " 'estrecho',\n",
       " 'magallanes',\n",
       " 'aquel',\n",
       " 'ser',\n",
       " 'prodigioso',\n",
       " 'decia',\n",
       " 'poseer',\n",
       " 'claves',\n",
       " 'nostradamus',\n",
       " 'hombre',\n",
       " 'lugubre',\n",
       " 'envuelto',\n",
       " 'aura',\n",
       " 'triste',\n",
       " 'mirada',\n",
       " 'asiatica',\n",
       " 'parecia',\n",
       " 'conocer',\n",
       " 'lado',\n",
       " 'cosas',\n",
       " 'usaba',\n",
       " 'sombrero',\n",
       " 'grande',\n",
       " 'negro',\n",
       " 'alas',\n",
       " 'extendidas',\n",
       " 'cuervo',\n",
       " 'chaleco',\n",
       " 'terciopelo',\n",
       " 'patinado',\n",
       " 'verdin',\n",
       " 'siglos',\n",
       " 'pesar',\n",
       " 'inmensa',\n",
       " 'sabiduria',\n",
       " 'ambito',\n",
       " 'misterioso',\n",
       " 'peso',\n",
       " 'humano',\n",
       " 'condicion',\n",
       " 'terrestre',\n",
       " 'cien',\n",
       " 'anos',\n",
       " 'soledad',\n",
       " 'gabriel',\n",
       " 'garcia',\n",
       " 'marquez',\n",
       " 'mantenia',\n",
       " 'enredado',\n",
       " 'minusculos',\n",
       " 'problemas',\n",
       " 'vida',\n",
       " 'cotidiana',\n",
       " 'quejaba',\n",
       " 'dolencias',\n",
       " 'viejo',\n",
       " 'sufria',\n",
       " 'insignificantes',\n",
       " 'percances',\n",
       " 'economicos',\n",
       " 'dejado',\n",
       " 'reir',\n",
       " 'hacia',\n",
       " 'tiempo',\n",
       " 'escorbuto',\n",
       " 'arrancado',\n",
       " 'dientes',\n",
       " 'sofocante',\n",
       " 'mediodia',\n",
       " 'revelo',\n",
       " 'secretos',\n",
       " 'jose',\n",
       " 'arcadio',\n",
       " 'buendia',\n",
       " 'certidumbre',\n",
       " 'aquel',\n",
       " 'principio',\n",
       " 'grande',\n",
       " 'amistad',\n",
       " 'ninos',\n",
       " 'asombraron',\n",
       " 'relatos',\n",
       " 'fantasticos',\n",
       " 'aureliano',\n",
       " 'entonces',\n",
       " 'cinco',\n",
       " 'anos',\n",
       " 'recordarlo',\n",
       " 'resto',\n",
       " 'vida',\n",
       " 'vio',\n",
       " 'aquella',\n",
       " 'tarde',\n",
       " 'sentado',\n",
       " 'claridad',\n",
       " 'metalica',\n",
       " 'reverberante',\n",
       " 'ventana',\n",
       " 'alumbrando',\n",
       " 'pro',\n",
       " 'funda',\n",
       " 'voz',\n",
       " 'organo',\n",
       " 'territorios',\n",
       " 'oscuros',\n",
       " 'imaginacion',\n",
       " 'mientras',\n",
       " 'chorreaba',\n",
       " 'sienes',\n",
       " 'grasa',\n",
       " 'derretida',\n",
       " 'calor',\n",
       " 'jose',\n",
       " 'arcadio',\n",
       " 'hermano',\n",
       " 'mayor',\n",
       " 'transmitir',\n",
       " 'aquella',\n",
       " 'imagen',\n",
       " 'maravillosa',\n",
       " 'recuerdo',\n",
       " 'hereditario',\n",
       " 'toda',\n",
       " 'descendencia',\n",
       " 'ursula',\n",
       " 'cambio',\n",
       " 'conservo',\n",
       " 'mal',\n",
       " 'recuerdo',\n",
       " ...]"
      ]
     },
     "execution_count": 199,
     "metadata": {},
     "output_type": "execute_result"
    }
   ],
   "source": [
    "# funcion para quitar tildes del texto en minuscula\n",
    "def remove_tildes(s):\n",
    "    return unidecode(s)\n",
    "\n",
    "\n",
    "def pre_procesamiento(texto):\n",
    "    \n",
    "    new_text = texto.lower()  # pasamos a minusculas\n",
    "    new_text = re.compile(r'\\W+', re.UNICODE).split(new_text)  # removemos caracteres especiales\n",
    "    new_text = ' '.join(new_text)\n",
    "    new_text = remove_tildes(new_text)                      # removemos tildes\n",
    "    new_text = new_text.split()                                   # tokenizamos\n",
    "    stop_w = ' '.join(stopwords.words('spanish'))\n",
    "    stop_w = remove_tildes(stop_w)\n",
    "    stop_w = stop_w.split()  # eliminamos las stop words\n",
    "    \n",
    "    for n in stop_w:\n",
    "        for m in new_text:\n",
    "            if n == m:\n",
    "                new_text.remove(n)\n",
    "    return new_text\n",
    "\n",
    "\n",
    "pre_procesamiento(text_GGM)\n"
   ]
  }
 ],
 "metadata": {
  "kernelspec": {
   "display_name": "Python 3 (ipykernel)",
   "language": "python",
   "name": "python3"
  },
  "language_info": {
   "codemirror_mode": {
    "name": "ipython",
    "version": 3
   },
   "file_extension": ".py",
   "mimetype": "text/x-python",
   "name": "python",
   "nbconvert_exporter": "python",
   "pygments_lexer": "ipython3",
   "version": "3.9.1"
  }
 },
 "nbformat": 4,
 "nbformat_minor": 5
}
